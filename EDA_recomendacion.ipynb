{
 "cells": [
  {
   "cell_type": "markdown",
   "metadata": {},
   "source": [
    "### **ANÁLISIS IMDB TOP 250 MOVIES**"
   ]
  },
  {
   "cell_type": "markdown",
   "metadata": {},
   "source": [
    "- Importamos las librerias"
   ]
  },
  {
   "cell_type": "code",
   "execution_count": 27,
   "metadata": {},
   "outputs": [],
   "source": [
    "import pandas as pd\n",
    "import numpy as np\n",
    "import seaborn as sns\n",
    "import matplotlib as mpl\n",
    "import matplotlib.patches as patches\n",
    "import matplotlib.pyplot as plt\n",
    "from IPython.display import display_html\n",
    "import plotly.graph_objects as go\n",
    "import plotly.express as px\n",
    "import plotly.graph_objs as go\n",
    "from plotly.subplots import make_subplots\n",
    "from wordcloud import STOPWORDS as stopwords_wc\n",
    "from wordcloud import WordCloud, ImageColorGenerator"
   ]
  },
  {
   "cell_type": "code",
   "execution_count": 28,
   "metadata": {},
   "outputs": [],
   "source": [
    "df = pd.read_csv(\"IMDB_Top250Movies.csv\")"
   ]
  },
  {
   "cell_type": "code",
   "execution_count": 29,
   "metadata": {},
   "outputs": [
    {
     "data": {
      "text/html": [
       "<div>\n",
       "<style scoped>\n",
       "    .dataframe tbody tr th:only-of-type {\n",
       "        vertical-align: middle;\n",
       "    }\n",
       "\n",
       "    .dataframe tbody tr th {\n",
       "        vertical-align: top;\n",
       "    }\n",
       "\n",
       "    .dataframe thead th {\n",
       "        text-align: right;\n",
       "    }\n",
       "</style>\n",
       "<table border=\"1\" class=\"dataframe\">\n",
       "  <thead>\n",
       "    <tr style=\"text-align: right;\">\n",
       "      <th></th>\n",
       "      <th>rank</th>\n",
       "      <th>name</th>\n",
       "      <th>year</th>\n",
       "      <th>rating</th>\n",
       "      <th>genre</th>\n",
       "      <th>certificate</th>\n",
       "      <th>run_time</th>\n",
       "      <th>tagline</th>\n",
       "      <th>budget</th>\n",
       "      <th>box_office</th>\n",
       "      <th>casts</th>\n",
       "      <th>directors</th>\n",
       "      <th>writers</th>\n",
       "    </tr>\n",
       "  </thead>\n",
       "  <tbody>\n",
       "    <tr>\n",
       "      <th>0</th>\n",
       "      <td>1</td>\n",
       "      <td>The Shawshank Redemption</td>\n",
       "      <td>1994</td>\n",
       "      <td>9.3</td>\n",
       "      <td>Drama</td>\n",
       "      <td>R</td>\n",
       "      <td>2h 22m</td>\n",
       "      <td>Fear can hold you prisoner. Hope can set you f...</td>\n",
       "      <td>25000000</td>\n",
       "      <td>28884504</td>\n",
       "      <td>Tim Robbins,Morgan Freeman,Bob Gunton,William ...</td>\n",
       "      <td>Frank Darabont</td>\n",
       "      <td>Stephen King,Frank Darabont</td>\n",
       "    </tr>\n",
       "    <tr>\n",
       "      <th>1</th>\n",
       "      <td>2</td>\n",
       "      <td>The Godfather</td>\n",
       "      <td>1972</td>\n",
       "      <td>9.2</td>\n",
       "      <td>Crime,Drama</td>\n",
       "      <td>R</td>\n",
       "      <td>2h 55m</td>\n",
       "      <td>An offer you can't refuse.</td>\n",
       "      <td>6000000</td>\n",
       "      <td>250341816</td>\n",
       "      <td>Marlon Brando,Al Pacino,James Caan,Diane Keato...</td>\n",
       "      <td>Francis Ford Coppola</td>\n",
       "      <td>Mario Puzo,Francis Ford Coppola</td>\n",
       "    </tr>\n",
       "    <tr>\n",
       "      <th>2</th>\n",
       "      <td>3</td>\n",
       "      <td>The Dark Knight</td>\n",
       "      <td>2008</td>\n",
       "      <td>9.0</td>\n",
       "      <td>Action,Crime,Drama</td>\n",
       "      <td>PG-13</td>\n",
       "      <td>2h 32m</td>\n",
       "      <td>Why So Serious?</td>\n",
       "      <td>185000000</td>\n",
       "      <td>1006234167</td>\n",
       "      <td>Christian Bale,Heath Ledger,Aaron Eckhart,Mich...</td>\n",
       "      <td>Christopher Nolan</td>\n",
       "      <td>Jonathan Nolan,Christopher Nolan,David S. Goyer</td>\n",
       "    </tr>\n",
       "    <tr>\n",
       "      <th>3</th>\n",
       "      <td>4</td>\n",
       "      <td>The Godfather Part II</td>\n",
       "      <td>1974</td>\n",
       "      <td>9.0</td>\n",
       "      <td>Crime,Drama</td>\n",
       "      <td>R</td>\n",
       "      <td>3h 22m</td>\n",
       "      <td>All the power on earth can't change destiny.</td>\n",
       "      <td>13000000</td>\n",
       "      <td>47961919</td>\n",
       "      <td>Al Pacino,Robert De Niro,Robert Duvall,Diane K...</td>\n",
       "      <td>Francis Ford Coppola</td>\n",
       "      <td>Francis Ford Coppola,Mario Puzo</td>\n",
       "    </tr>\n",
       "    <tr>\n",
       "      <th>4</th>\n",
       "      <td>5</td>\n",
       "      <td>12 Angry Men</td>\n",
       "      <td>1957</td>\n",
       "      <td>9.0</td>\n",
       "      <td>Crime,Drama</td>\n",
       "      <td>Approved</td>\n",
       "      <td>1h 36m</td>\n",
       "      <td>Life Is In Their Hands -- Death Is On Their Mi...</td>\n",
       "      <td>350000</td>\n",
       "      <td>955</td>\n",
       "      <td>Henry Fonda,Lee J. Cobb,Martin Balsam,John Fie...</td>\n",
       "      <td>Sidney Lumet</td>\n",
       "      <td>Reginald Rose</td>\n",
       "    </tr>\n",
       "  </tbody>\n",
       "</table>\n",
       "</div>"
      ],
      "text/plain": [
       "   rank                      name  year  rating               genre   \n",
       "0     1  The Shawshank Redemption  1994     9.3               Drama  \\\n",
       "1     2             The Godfather  1972     9.2         Crime,Drama   \n",
       "2     3           The Dark Knight  2008     9.0  Action,Crime,Drama   \n",
       "3     4     The Godfather Part II  1974     9.0         Crime,Drama   \n",
       "4     5              12 Angry Men  1957     9.0         Crime,Drama   \n",
       "\n",
       "  certificate run_time                                            tagline   \n",
       "0           R   2h 22m  Fear can hold you prisoner. Hope can set you f...  \\\n",
       "1           R   2h 55m                         An offer you can't refuse.   \n",
       "2       PG-13   2h 32m                                    Why So Serious?   \n",
       "3           R   3h 22m       All the power on earth can't change destiny.   \n",
       "4    Approved   1h 36m  Life Is In Their Hands -- Death Is On Their Mi...   \n",
       "\n",
       "      budget  box_office                                              casts   \n",
       "0   25000000    28884504  Tim Robbins,Morgan Freeman,Bob Gunton,William ...  \\\n",
       "1    6000000   250341816  Marlon Brando,Al Pacino,James Caan,Diane Keato...   \n",
       "2  185000000  1006234167  Christian Bale,Heath Ledger,Aaron Eckhart,Mich...   \n",
       "3   13000000    47961919  Al Pacino,Robert De Niro,Robert Duvall,Diane K...   \n",
       "4     350000         955  Henry Fonda,Lee J. Cobb,Martin Balsam,John Fie...   \n",
       "\n",
       "              directors                                          writers  \n",
       "0        Frank Darabont                      Stephen King,Frank Darabont  \n",
       "1  Francis Ford Coppola                  Mario Puzo,Francis Ford Coppola  \n",
       "2     Christopher Nolan  Jonathan Nolan,Christopher Nolan,David S. Goyer  \n",
       "3  Francis Ford Coppola                  Francis Ford Coppola,Mario Puzo  \n",
       "4          Sidney Lumet                                    Reginald Rose  "
      ]
     },
     "execution_count": 29,
     "metadata": {},
     "output_type": "execute_result"
    }
   ],
   "source": [
    "# Analizamos los primeros registros\n",
    "df.head()"
   ]
  },
  {
   "cell_type": "code",
   "execution_count": 30,
   "metadata": {},
   "outputs": [
    {
     "name": "stdout",
     "output_type": "stream",
     "text": [
      "<class 'pandas.core.frame.DataFrame'>\n",
      "RangeIndex: 250 entries, 0 to 249\n",
      "Data columns (total 13 columns):\n",
      " #   Column       Non-Null Count  Dtype  \n",
      "---  ------       --------------  -----  \n",
      " 0   rank         250 non-null    int64  \n",
      " 1   name         250 non-null    object \n",
      " 2   year         250 non-null    int64  \n",
      " 3   rating       250 non-null    float64\n",
      " 4   genre        250 non-null    object \n",
      " 5   certificate  250 non-null    object \n",
      " 6   run_time     250 non-null    object \n",
      " 7   tagline      250 non-null    object \n",
      " 8   budget       250 non-null    object \n",
      " 9   box_office   250 non-null    object \n",
      " 10  casts        250 non-null    object \n",
      " 11  directors    250 non-null    object \n",
      " 12  writers      250 non-null    object \n",
      "dtypes: float64(1), int64(2), object(10)\n",
      "memory usage: 25.5+ KB\n"
     ]
    }
   ],
   "source": [
    "# Verificamos el contenido y tipos de datos del DataFrame\n",
    "df.info()"
   ]
  },
  {
   "cell_type": "code",
   "execution_count": 31,
   "metadata": {},
   "outputs": [
    {
     "data": {
      "text/html": [
       "<div>\n",
       "<style scoped>\n",
       "    .dataframe tbody tr th:only-of-type {\n",
       "        vertical-align: middle;\n",
       "    }\n",
       "\n",
       "    .dataframe tbody tr th {\n",
       "        vertical-align: top;\n",
       "    }\n",
       "\n",
       "    .dataframe thead th {\n",
       "        text-align: right;\n",
       "    }\n",
       "</style>\n",
       "<table border=\"1\" class=\"dataframe\">\n",
       "  <thead>\n",
       "    <tr style=\"text-align: right;\">\n",
       "      <th></th>\n",
       "      <th>rank</th>\n",
       "      <th>year</th>\n",
       "      <th>rating</th>\n",
       "    </tr>\n",
       "  </thead>\n",
       "  <tbody>\n",
       "    <tr>\n",
       "      <th>count</th>\n",
       "      <td>250.000000</td>\n",
       "      <td>250.000000</td>\n",
       "      <td>250.000000</td>\n",
       "    </tr>\n",
       "    <tr>\n",
       "      <th>mean</th>\n",
       "      <td>125.500000</td>\n",
       "      <td>1986.360000</td>\n",
       "      <td>8.307200</td>\n",
       "    </tr>\n",
       "    <tr>\n",
       "      <th>std</th>\n",
       "      <td>72.312977</td>\n",
       "      <td>25.125356</td>\n",
       "      <td>0.229081</td>\n",
       "    </tr>\n",
       "    <tr>\n",
       "      <th>min</th>\n",
       "      <td>1.000000</td>\n",
       "      <td>1921.000000</td>\n",
       "      <td>8.000000</td>\n",
       "    </tr>\n",
       "    <tr>\n",
       "      <th>25%</th>\n",
       "      <td>63.250000</td>\n",
       "      <td>1966.250000</td>\n",
       "      <td>8.100000</td>\n",
       "    </tr>\n",
       "    <tr>\n",
       "      <th>50%</th>\n",
       "      <td>125.500000</td>\n",
       "      <td>1994.000000</td>\n",
       "      <td>8.200000</td>\n",
       "    </tr>\n",
       "    <tr>\n",
       "      <th>75%</th>\n",
       "      <td>187.750000</td>\n",
       "      <td>2006.000000</td>\n",
       "      <td>8.400000</td>\n",
       "    </tr>\n",
       "    <tr>\n",
       "      <th>max</th>\n",
       "      <td>250.000000</td>\n",
       "      <td>2022.000000</td>\n",
       "      <td>9.300000</td>\n",
       "    </tr>\n",
       "  </tbody>\n",
       "</table>\n",
       "</div>"
      ],
      "text/plain": [
       "             rank         year      rating\n",
       "count  250.000000   250.000000  250.000000\n",
       "mean   125.500000  1986.360000    8.307200\n",
       "std     72.312977    25.125356    0.229081\n",
       "min      1.000000  1921.000000    8.000000\n",
       "25%     63.250000  1966.250000    8.100000\n",
       "50%    125.500000  1994.000000    8.200000\n",
       "75%    187.750000  2006.000000    8.400000\n",
       "max    250.000000  2022.000000    9.300000"
      ]
     },
     "execution_count": 31,
     "metadata": {},
     "output_type": "execute_result"
    }
   ],
   "source": [
    "#Estadísticas del DataFrame\n",
    "df.describe()"
   ]
  },
  {
   "cell_type": "code",
   "execution_count": 32,
   "metadata": {},
   "outputs": [],
   "source": [
    "# Dividir la columna de género en columnas separadas\n",
    "genres_df = df['genre'].str.split(',', expand=True)\n",
    "\n",
    "# Renombrar las columnas\n",
    "num_cols = len(genres_df.columns)\n",
    "genres_df.columns = [f'genre_{i}' for i in range(1, num_cols + 1)]\n",
    "\n",
    "# Combinar las nuevas columnas con el DataFrame original\n",
    "df = pd.concat([df, genres_df], axis=1)"
   ]
  },
  {
   "cell_type": "code",
   "execution_count": 33,
   "metadata": {},
   "outputs": [
    {
     "data": {
      "text/html": [
       "<div>\n",
       "<style scoped>\n",
       "    .dataframe tbody tr th:only-of-type {\n",
       "        vertical-align: middle;\n",
       "    }\n",
       "\n",
       "    .dataframe tbody tr th {\n",
       "        vertical-align: top;\n",
       "    }\n",
       "\n",
       "    .dataframe thead th {\n",
       "        text-align: right;\n",
       "    }\n",
       "</style>\n",
       "<table border=\"1\" class=\"dataframe\">\n",
       "  <thead>\n",
       "    <tr style=\"text-align: right;\">\n",
       "      <th></th>\n",
       "      <th>rank</th>\n",
       "      <th>name</th>\n",
       "      <th>year</th>\n",
       "      <th>rating</th>\n",
       "      <th>genre</th>\n",
       "      <th>certificate</th>\n",
       "      <th>run_time</th>\n",
       "      <th>tagline</th>\n",
       "      <th>budget</th>\n",
       "      <th>box_office</th>\n",
       "      <th>casts</th>\n",
       "      <th>directors</th>\n",
       "      <th>writers</th>\n",
       "      <th>genre_1</th>\n",
       "      <th>genre_2</th>\n",
       "      <th>genre_3</th>\n",
       "    </tr>\n",
       "  </thead>\n",
       "  <tbody>\n",
       "    <tr>\n",
       "      <th>0</th>\n",
       "      <td>1</td>\n",
       "      <td>The Shawshank Redemption</td>\n",
       "      <td>1994</td>\n",
       "      <td>9.3</td>\n",
       "      <td>Drama</td>\n",
       "      <td>R</td>\n",
       "      <td>2h 22m</td>\n",
       "      <td>Fear can hold you prisoner. Hope can set you f...</td>\n",
       "      <td>25000000</td>\n",
       "      <td>28884504</td>\n",
       "      <td>Tim Robbins,Morgan Freeman,Bob Gunton,William ...</td>\n",
       "      <td>Frank Darabont</td>\n",
       "      <td>Stephen King,Frank Darabont</td>\n",
       "      <td>Drama</td>\n",
       "      <td>None</td>\n",
       "      <td>None</td>\n",
       "    </tr>\n",
       "    <tr>\n",
       "      <th>1</th>\n",
       "      <td>2</td>\n",
       "      <td>The Godfather</td>\n",
       "      <td>1972</td>\n",
       "      <td>9.2</td>\n",
       "      <td>Crime,Drama</td>\n",
       "      <td>R</td>\n",
       "      <td>2h 55m</td>\n",
       "      <td>An offer you can't refuse.</td>\n",
       "      <td>6000000</td>\n",
       "      <td>250341816</td>\n",
       "      <td>Marlon Brando,Al Pacino,James Caan,Diane Keato...</td>\n",
       "      <td>Francis Ford Coppola</td>\n",
       "      <td>Mario Puzo,Francis Ford Coppola</td>\n",
       "      <td>Crime</td>\n",
       "      <td>Drama</td>\n",
       "      <td>None</td>\n",
       "    </tr>\n",
       "    <tr>\n",
       "      <th>2</th>\n",
       "      <td>3</td>\n",
       "      <td>The Dark Knight</td>\n",
       "      <td>2008</td>\n",
       "      <td>9.0</td>\n",
       "      <td>Action,Crime,Drama</td>\n",
       "      <td>PG-13</td>\n",
       "      <td>2h 32m</td>\n",
       "      <td>Why So Serious?</td>\n",
       "      <td>185000000</td>\n",
       "      <td>1006234167</td>\n",
       "      <td>Christian Bale,Heath Ledger,Aaron Eckhart,Mich...</td>\n",
       "      <td>Christopher Nolan</td>\n",
       "      <td>Jonathan Nolan,Christopher Nolan,David S. Goyer</td>\n",
       "      <td>Action</td>\n",
       "      <td>Crime</td>\n",
       "      <td>Drama</td>\n",
       "    </tr>\n",
       "    <tr>\n",
       "      <th>3</th>\n",
       "      <td>4</td>\n",
       "      <td>The Godfather Part II</td>\n",
       "      <td>1974</td>\n",
       "      <td>9.0</td>\n",
       "      <td>Crime,Drama</td>\n",
       "      <td>R</td>\n",
       "      <td>3h 22m</td>\n",
       "      <td>All the power on earth can't change destiny.</td>\n",
       "      <td>13000000</td>\n",
       "      <td>47961919</td>\n",
       "      <td>Al Pacino,Robert De Niro,Robert Duvall,Diane K...</td>\n",
       "      <td>Francis Ford Coppola</td>\n",
       "      <td>Francis Ford Coppola,Mario Puzo</td>\n",
       "      <td>Crime</td>\n",
       "      <td>Drama</td>\n",
       "      <td>None</td>\n",
       "    </tr>\n",
       "    <tr>\n",
       "      <th>4</th>\n",
       "      <td>5</td>\n",
       "      <td>12 Angry Men</td>\n",
       "      <td>1957</td>\n",
       "      <td>9.0</td>\n",
       "      <td>Crime,Drama</td>\n",
       "      <td>Approved</td>\n",
       "      <td>1h 36m</td>\n",
       "      <td>Life Is In Their Hands -- Death Is On Their Mi...</td>\n",
       "      <td>350000</td>\n",
       "      <td>955</td>\n",
       "      <td>Henry Fonda,Lee J. Cobb,Martin Balsam,John Fie...</td>\n",
       "      <td>Sidney Lumet</td>\n",
       "      <td>Reginald Rose</td>\n",
       "      <td>Crime</td>\n",
       "      <td>Drama</td>\n",
       "      <td>None</td>\n",
       "    </tr>\n",
       "    <tr>\n",
       "      <th>...</th>\n",
       "      <td>...</td>\n",
       "      <td>...</td>\n",
       "      <td>...</td>\n",
       "      <td>...</td>\n",
       "      <td>...</td>\n",
       "      <td>...</td>\n",
       "      <td>...</td>\n",
       "      <td>...</td>\n",
       "      <td>...</td>\n",
       "      <td>...</td>\n",
       "      <td>...</td>\n",
       "      <td>...</td>\n",
       "      <td>...</td>\n",
       "      <td>...</td>\n",
       "      <td>...</td>\n",
       "      <td>...</td>\n",
       "    </tr>\n",
       "    <tr>\n",
       "      <th>245</th>\n",
       "      <td>246</td>\n",
       "      <td>The Help</td>\n",
       "      <td>2011</td>\n",
       "      <td>8.1</td>\n",
       "      <td>Drama</td>\n",
       "      <td>PG-13</td>\n",
       "      <td>2h 26m</td>\n",
       "      <td>Change begins with a whisper.</td>\n",
       "      <td>25000000</td>\n",
       "      <td>216639112</td>\n",
       "      <td>Viola Davis,Emma Stone,Octavia Spencer,Bryce D...</td>\n",
       "      <td>Tate Taylor</td>\n",
       "      <td>Tate Taylor,Kathryn Stockett</td>\n",
       "      <td>Drama</td>\n",
       "      <td>None</td>\n",
       "      <td>None</td>\n",
       "    </tr>\n",
       "    <tr>\n",
       "      <th>246</th>\n",
       "      <td>247</td>\n",
       "      <td>Dersu Uzala</td>\n",
       "      <td>1975</td>\n",
       "      <td>8.2</td>\n",
       "      <td>Adventure,Biography,Drama</td>\n",
       "      <td>G</td>\n",
       "      <td>2h 22m</td>\n",
       "      <td>There is man and beast at nature's mercy. Ther...</td>\n",
       "      <td>4000000</td>\n",
       "      <td>14480</td>\n",
       "      <td>Maksim Munzuk,Yuriy Solomin,Mikhail Bychkov,Vl...</td>\n",
       "      <td>Akira Kurosawa</td>\n",
       "      <td>Akira Kurosawa,Yuriy Nagibin,Vladimir Arsenev</td>\n",
       "      <td>Adventure</td>\n",
       "      <td>Biography</td>\n",
       "      <td>Drama</td>\n",
       "    </tr>\n",
       "    <tr>\n",
       "      <th>247</th>\n",
       "      <td>248</td>\n",
       "      <td>Aladdin</td>\n",
       "      <td>1992</td>\n",
       "      <td>8.0</td>\n",
       "      <td>Animation,Adventure,Comedy</td>\n",
       "      <td>G</td>\n",
       "      <td>1h 30m</td>\n",
       "      <td>Wish granted! (DVD re-release)</td>\n",
       "      <td>Not Available</td>\n",
       "      <td>Not Available</td>\n",
       "      <td>Scott Weinger,Robin Williams,Linda Larkin,Jona...</td>\n",
       "      <td>Ron Clements,John Musker</td>\n",
       "      <td>Ron Clements,John Musker,Ted Elliott</td>\n",
       "      <td>Animation</td>\n",
       "      <td>Adventure</td>\n",
       "      <td>Comedy</td>\n",
       "    </tr>\n",
       "    <tr>\n",
       "      <th>248</th>\n",
       "      <td>249</td>\n",
       "      <td>Gandhi</td>\n",
       "      <td>1982</td>\n",
       "      <td>8.0</td>\n",
       "      <td>Biography,Drama,History</td>\n",
       "      <td>PG</td>\n",
       "      <td>3h 11m</td>\n",
       "      <td>His Triumph Changed The World Forever.</td>\n",
       "      <td>22000000</td>\n",
       "      <td>52767889</td>\n",
       "      <td>Ben Kingsley,John Gielgud,Rohini Hattangadi,Ro...</td>\n",
       "      <td>Richard Attenborough</td>\n",
       "      <td>John Briley</td>\n",
       "      <td>Biography</td>\n",
       "      <td>Drama</td>\n",
       "      <td>History</td>\n",
       "    </tr>\n",
       "    <tr>\n",
       "      <th>249</th>\n",
       "      <td>250</td>\n",
       "      <td>Dances with Wolves</td>\n",
       "      <td>1990</td>\n",
       "      <td>8.0</td>\n",
       "      <td>Adventure,Drama,Western</td>\n",
       "      <td>PG-13</td>\n",
       "      <td>3h 1m</td>\n",
       "      <td>Inside everyone is a frontier waiting to be di...</td>\n",
       "      <td>22000000</td>\n",
       "      <td>424208848</td>\n",
       "      <td>Kevin Costner,Mary McDonnell,Graham Greene,Rod...</td>\n",
       "      <td>Kevin Costner</td>\n",
       "      <td>Michael Blake</td>\n",
       "      <td>Adventure</td>\n",
       "      <td>Drama</td>\n",
       "      <td>Western</td>\n",
       "    </tr>\n",
       "  </tbody>\n",
       "</table>\n",
       "<p>250 rows × 16 columns</p>\n",
       "</div>"
      ],
      "text/plain": [
       "     rank                      name  year  rating                       genre   \n",
       "0       1  The Shawshank Redemption  1994     9.3                       Drama  \\\n",
       "1       2             The Godfather  1972     9.2                 Crime,Drama   \n",
       "2       3           The Dark Knight  2008     9.0          Action,Crime,Drama   \n",
       "3       4     The Godfather Part II  1974     9.0                 Crime,Drama   \n",
       "4       5              12 Angry Men  1957     9.0                 Crime,Drama   \n",
       "..    ...                       ...   ...     ...                         ...   \n",
       "245   246                  The Help  2011     8.1                       Drama   \n",
       "246   247               Dersu Uzala  1975     8.2   Adventure,Biography,Drama   \n",
       "247   248                   Aladdin  1992     8.0  Animation,Adventure,Comedy   \n",
       "248   249                    Gandhi  1982     8.0     Biography,Drama,History   \n",
       "249   250        Dances with Wolves  1990     8.0     Adventure,Drama,Western   \n",
       "\n",
       "    certificate run_time                                            tagline   \n",
       "0             R   2h 22m  Fear can hold you prisoner. Hope can set you f...  \\\n",
       "1             R   2h 55m                         An offer you can't refuse.   \n",
       "2         PG-13   2h 32m                                    Why So Serious?   \n",
       "3             R   3h 22m       All the power on earth can't change destiny.   \n",
       "4      Approved   1h 36m  Life Is In Their Hands -- Death Is On Their Mi...   \n",
       "..          ...      ...                                                ...   \n",
       "245       PG-13   2h 26m                      Change begins with a whisper.   \n",
       "246           G   2h 22m  There is man and beast at nature's mercy. Ther...   \n",
       "247           G   1h 30m                     Wish granted! (DVD re-release)   \n",
       "248          PG   3h 11m             His Triumph Changed The World Forever.   \n",
       "249       PG-13    3h 1m  Inside everyone is a frontier waiting to be di...   \n",
       "\n",
       "            budget     box_office   \n",
       "0         25000000       28884504  \\\n",
       "1          6000000      250341816   \n",
       "2        185000000     1006234167   \n",
       "3         13000000       47961919   \n",
       "4           350000            955   \n",
       "..             ...            ...   \n",
       "245       25000000      216639112   \n",
       "246        4000000          14480   \n",
       "247  Not Available  Not Available   \n",
       "248       22000000       52767889   \n",
       "249       22000000      424208848   \n",
       "\n",
       "                                                 casts   \n",
       "0    Tim Robbins,Morgan Freeman,Bob Gunton,William ...  \\\n",
       "1    Marlon Brando,Al Pacino,James Caan,Diane Keato...   \n",
       "2    Christian Bale,Heath Ledger,Aaron Eckhart,Mich...   \n",
       "3    Al Pacino,Robert De Niro,Robert Duvall,Diane K...   \n",
       "4    Henry Fonda,Lee J. Cobb,Martin Balsam,John Fie...   \n",
       "..                                                 ...   \n",
       "245  Viola Davis,Emma Stone,Octavia Spencer,Bryce D...   \n",
       "246  Maksim Munzuk,Yuriy Solomin,Mikhail Bychkov,Vl...   \n",
       "247  Scott Weinger,Robin Williams,Linda Larkin,Jona...   \n",
       "248  Ben Kingsley,John Gielgud,Rohini Hattangadi,Ro...   \n",
       "249  Kevin Costner,Mary McDonnell,Graham Greene,Rod...   \n",
       "\n",
       "                    directors   \n",
       "0              Frank Darabont  \\\n",
       "1        Francis Ford Coppola   \n",
       "2           Christopher Nolan   \n",
       "3        Francis Ford Coppola   \n",
       "4                Sidney Lumet   \n",
       "..                        ...   \n",
       "245               Tate Taylor   \n",
       "246            Akira Kurosawa   \n",
       "247  Ron Clements,John Musker   \n",
       "248      Richard Attenborough   \n",
       "249             Kevin Costner   \n",
       "\n",
       "                                             writers    genre_1    genre_2   \n",
       "0                        Stephen King,Frank Darabont      Drama       None  \\\n",
       "1                    Mario Puzo,Francis Ford Coppola      Crime      Drama   \n",
       "2    Jonathan Nolan,Christopher Nolan,David S. Goyer     Action      Crime   \n",
       "3                    Francis Ford Coppola,Mario Puzo      Crime      Drama   \n",
       "4                                      Reginald Rose      Crime      Drama   \n",
       "..                                               ...        ...        ...   \n",
       "245                     Tate Taylor,Kathryn Stockett      Drama       None   \n",
       "246    Akira Kurosawa,Yuriy Nagibin,Vladimir Arsenev  Adventure  Biography   \n",
       "247             Ron Clements,John Musker,Ted Elliott  Animation  Adventure   \n",
       "248                                      John Briley  Biography      Drama   \n",
       "249                                    Michael Blake  Adventure      Drama   \n",
       "\n",
       "     genre_3  \n",
       "0       None  \n",
       "1       None  \n",
       "2      Drama  \n",
       "3       None  \n",
       "4       None  \n",
       "..       ...  \n",
       "245     None  \n",
       "246    Drama  \n",
       "247   Comedy  \n",
       "248  History  \n",
       "249  Western  \n",
       "\n",
       "[250 rows x 16 columns]"
      ]
     },
     "execution_count": 33,
     "metadata": {},
     "output_type": "execute_result"
    }
   ],
   "source": [
    "df"
   ]
  },
  {
   "cell_type": "code",
   "execution_count": 34,
   "metadata": {},
   "outputs": [],
   "source": [
    "#Crear copia del archivo con las columnas genero modificadas.\n",
    "df2 = df.copy()"
   ]
  },
  {
   "cell_type": "markdown",
   "metadata": {},
   "source": [
    "## **ANÁLISIS EXPLORATORIO DE DATOS** (EDA)"
   ]
  },
  {
   "cell_type": "markdown",
   "metadata": {},
   "source": [
    "- Iniciamos haciendo un top del rating según el género de las películas."
   ]
  },
  {
   "cell_type": "code",
   "execution_count": 35,
   "metadata": {},
   "outputs": [
    {
     "data": {
      "text/html": [
       "<div>\n",
       "<style scoped>\n",
       "    .dataframe tbody tr th:only-of-type {\n",
       "        vertical-align: middle;\n",
       "    }\n",
       "\n",
       "    .dataframe tbody tr th {\n",
       "        vertical-align: top;\n",
       "    }\n",
       "\n",
       "    .dataframe thead th {\n",
       "        text-align: right;\n",
       "    }\n",
       "</style>\n",
       "<table border=\"1\" class=\"dataframe\">\n",
       "  <thead>\n",
       "    <tr style=\"text-align: right;\">\n",
       "      <th></th>\n",
       "      <th>Género</th>\n",
       "      <th>rating</th>\n",
       "    </tr>\n",
       "  </thead>\n",
       "  <tbody>\n",
       "    <tr>\n",
       "      <th>0</th>\n",
       "      <td>Adventure,Western</td>\n",
       "      <td>8.8</td>\n",
       "    </tr>\n",
       "    <tr>\n",
       "      <th>1</th>\n",
       "      <td>Action,Adventure,Drama</td>\n",
       "      <td>8.7</td>\n",
       "    </tr>\n",
       "    <tr>\n",
       "      <th>2</th>\n",
       "      <td>Adventure,Drama,Sci-Fi</td>\n",
       "      <td>8.6</td>\n",
       "    </tr>\n",
       "    <tr>\n",
       "      <th>3</th>\n",
       "      <td>Drama,Family,Fantasy</td>\n",
       "      <td>8.6</td>\n",
       "    </tr>\n",
       "    <tr>\n",
       "      <th>4</th>\n",
       "      <td>Crime,Drama,Fantasy</td>\n",
       "      <td>8.6</td>\n",
       "    </tr>\n",
       "    <tr>\n",
       "      <th>5</th>\n",
       "      <td>Action,Drama,Mystery</td>\n",
       "      <td>8.5</td>\n",
       "    </tr>\n",
       "    <tr>\n",
       "      <th>6</th>\n",
       "      <td>Animation,Adventure,Drama</td>\n",
       "      <td>8.5</td>\n",
       "    </tr>\n",
       "    <tr>\n",
       "      <th>7</th>\n",
       "      <td>Drama,Music</td>\n",
       "      <td>8.5</td>\n",
       "    </tr>\n",
       "    <tr>\n",
       "      <th>8</th>\n",
       "      <td>Drama,Mystery,Sci-Fi</td>\n",
       "      <td>8.5</td>\n",
       "    </tr>\n",
       "    <tr>\n",
       "      <th>9</th>\n",
       "      <td>Drama,Mystery,War</td>\n",
       "      <td>8.5</td>\n",
       "    </tr>\n",
       "  </tbody>\n",
       "</table>\n",
       "</div>"
      ],
      "text/plain": [
       "                      Género  rating\n",
       "0          Adventure,Western     8.8\n",
       "1     Action,Adventure,Drama     8.7\n",
       "2     Adventure,Drama,Sci-Fi     8.6\n",
       "3       Drama,Family,Fantasy     8.6\n",
       "4        Crime,Drama,Fantasy     8.6\n",
       "5       Action,Drama,Mystery     8.5\n",
       "6  Animation,Adventure,Drama     8.5\n",
       "7                Drama,Music     8.5\n",
       "8       Drama,Mystery,Sci-Fi     8.5\n",
       "9          Drama,Mystery,War     8.5"
      ]
     },
     "execution_count": 35,
     "metadata": {},
     "output_type": "execute_result"
    }
   ],
   "source": [
    "df['rating'] = pd.to_numeric(df['rating'], errors='coerce') #Asegurarse de que la columna 'rating' esté en formato numérico\n",
    "\n",
    "top_rates = df.groupby('genre')['rating'].mean().sort_values(ascending=False).head(10) # Agrupar el DataFrame por el campo 'genre' y calcula el promedio de las calificaciones para cada grupo\n",
    "top_rates_df = pd.DataFrame({'Género': top_rates.index, 'rating': top_rates.values}).round(2) #Crear un nuevo DataFrame con los resultados\n",
    "top_rates_df"
   ]
  },
  {
   "cell_type": "markdown",
   "metadata": {},
   "source": [
    "- Gráfico de barras para representar las 10 películas con las calificaciones más altas, clasificadas por género."
   ]
  },
  {
   "cell_type": "code",
   "execution_count": 36,
   "metadata": {},
   "outputs": [
    {
     "data": {
      "application/vnd.plotly.v1+json": {
       "config": {
        "plotlyServerURL": "https://plot.ly"
       },
       "data": [
        {
         "marker": {
          "color": "#00FA9A"
         },
         "type": "bar",
         "x": [
          "Drama",
          "Crime,Drama",
          "Action,Crime,Drama",
          "Crime,Drama",
          "Crime,Drama",
          "Biography,Drama,History",
          "Action,Adventure,Drama",
          "Crime,Drama",
          "Action,Adventure,Drama",
          "Adventure,Western"
         ],
         "y": [
          9.3,
          9.2,
          9,
          9,
          9,
          9,
          9,
          8.9,
          8.8,
          8.8
         ]
        }
       ],
       "layout": {
        "template": {
         "data": {
          "bar": [
           {
            "error_x": {
             "color": "#2a3f5f"
            },
            "error_y": {
             "color": "#2a3f5f"
            },
            "marker": {
             "line": {
              "color": "#E5ECF6",
              "width": 0.5
             },
             "pattern": {
              "fillmode": "overlay",
              "size": 10,
              "solidity": 0.2
             }
            },
            "type": "bar"
           }
          ],
          "barpolar": [
           {
            "marker": {
             "line": {
              "color": "#E5ECF6",
              "width": 0.5
             },
             "pattern": {
              "fillmode": "overlay",
              "size": 10,
              "solidity": 0.2
             }
            },
            "type": "barpolar"
           }
          ],
          "carpet": [
           {
            "aaxis": {
             "endlinecolor": "#2a3f5f",
             "gridcolor": "white",
             "linecolor": "white",
             "minorgridcolor": "white",
             "startlinecolor": "#2a3f5f"
            },
            "baxis": {
             "endlinecolor": "#2a3f5f",
             "gridcolor": "white",
             "linecolor": "white",
             "minorgridcolor": "white",
             "startlinecolor": "#2a3f5f"
            },
            "type": "carpet"
           }
          ],
          "choropleth": [
           {
            "colorbar": {
             "outlinewidth": 0,
             "ticks": ""
            },
            "type": "choropleth"
           }
          ],
          "contour": [
           {
            "colorbar": {
             "outlinewidth": 0,
             "ticks": ""
            },
            "colorscale": [
             [
              0,
              "#0d0887"
             ],
             [
              0.1111111111111111,
              "#46039f"
             ],
             [
              0.2222222222222222,
              "#7201a8"
             ],
             [
              0.3333333333333333,
              "#9c179e"
             ],
             [
              0.4444444444444444,
              "#bd3786"
             ],
             [
              0.5555555555555556,
              "#d8576b"
             ],
             [
              0.6666666666666666,
              "#ed7953"
             ],
             [
              0.7777777777777778,
              "#fb9f3a"
             ],
             [
              0.8888888888888888,
              "#fdca26"
             ],
             [
              1,
              "#f0f921"
             ]
            ],
            "type": "contour"
           }
          ],
          "contourcarpet": [
           {
            "colorbar": {
             "outlinewidth": 0,
             "ticks": ""
            },
            "type": "contourcarpet"
           }
          ],
          "heatmap": [
           {
            "colorbar": {
             "outlinewidth": 0,
             "ticks": ""
            },
            "colorscale": [
             [
              0,
              "#0d0887"
             ],
             [
              0.1111111111111111,
              "#46039f"
             ],
             [
              0.2222222222222222,
              "#7201a8"
             ],
             [
              0.3333333333333333,
              "#9c179e"
             ],
             [
              0.4444444444444444,
              "#bd3786"
             ],
             [
              0.5555555555555556,
              "#d8576b"
             ],
             [
              0.6666666666666666,
              "#ed7953"
             ],
             [
              0.7777777777777778,
              "#fb9f3a"
             ],
             [
              0.8888888888888888,
              "#fdca26"
             ],
             [
              1,
              "#f0f921"
             ]
            ],
            "type": "heatmap"
           }
          ],
          "heatmapgl": [
           {
            "colorbar": {
             "outlinewidth": 0,
             "ticks": ""
            },
            "colorscale": [
             [
              0,
              "#0d0887"
             ],
             [
              0.1111111111111111,
              "#46039f"
             ],
             [
              0.2222222222222222,
              "#7201a8"
             ],
             [
              0.3333333333333333,
              "#9c179e"
             ],
             [
              0.4444444444444444,
              "#bd3786"
             ],
             [
              0.5555555555555556,
              "#d8576b"
             ],
             [
              0.6666666666666666,
              "#ed7953"
             ],
             [
              0.7777777777777778,
              "#fb9f3a"
             ],
             [
              0.8888888888888888,
              "#fdca26"
             ],
             [
              1,
              "#f0f921"
             ]
            ],
            "type": "heatmapgl"
           }
          ],
          "histogram": [
           {
            "marker": {
             "pattern": {
              "fillmode": "overlay",
              "size": 10,
              "solidity": 0.2
             }
            },
            "type": "histogram"
           }
          ],
          "histogram2d": [
           {
            "colorbar": {
             "outlinewidth": 0,
             "ticks": ""
            },
            "colorscale": [
             [
              0,
              "#0d0887"
             ],
             [
              0.1111111111111111,
              "#46039f"
             ],
             [
              0.2222222222222222,
              "#7201a8"
             ],
             [
              0.3333333333333333,
              "#9c179e"
             ],
             [
              0.4444444444444444,
              "#bd3786"
             ],
             [
              0.5555555555555556,
              "#d8576b"
             ],
             [
              0.6666666666666666,
              "#ed7953"
             ],
             [
              0.7777777777777778,
              "#fb9f3a"
             ],
             [
              0.8888888888888888,
              "#fdca26"
             ],
             [
              1,
              "#f0f921"
             ]
            ],
            "type": "histogram2d"
           }
          ],
          "histogram2dcontour": [
           {
            "colorbar": {
             "outlinewidth": 0,
             "ticks": ""
            },
            "colorscale": [
             [
              0,
              "#0d0887"
             ],
             [
              0.1111111111111111,
              "#46039f"
             ],
             [
              0.2222222222222222,
              "#7201a8"
             ],
             [
              0.3333333333333333,
              "#9c179e"
             ],
             [
              0.4444444444444444,
              "#bd3786"
             ],
             [
              0.5555555555555556,
              "#d8576b"
             ],
             [
              0.6666666666666666,
              "#ed7953"
             ],
             [
              0.7777777777777778,
              "#fb9f3a"
             ],
             [
              0.8888888888888888,
              "#fdca26"
             ],
             [
              1,
              "#f0f921"
             ]
            ],
            "type": "histogram2dcontour"
           }
          ],
          "mesh3d": [
           {
            "colorbar": {
             "outlinewidth": 0,
             "ticks": ""
            },
            "type": "mesh3d"
           }
          ],
          "parcoords": [
           {
            "line": {
             "colorbar": {
              "outlinewidth": 0,
              "ticks": ""
             }
            },
            "type": "parcoords"
           }
          ],
          "pie": [
           {
            "automargin": true,
            "type": "pie"
           }
          ],
          "scatter": [
           {
            "fillpattern": {
             "fillmode": "overlay",
             "size": 10,
             "solidity": 0.2
            },
            "type": "scatter"
           }
          ],
          "scatter3d": [
           {
            "line": {
             "colorbar": {
              "outlinewidth": 0,
              "ticks": ""
             }
            },
            "marker": {
             "colorbar": {
              "outlinewidth": 0,
              "ticks": ""
             }
            },
            "type": "scatter3d"
           }
          ],
          "scattercarpet": [
           {
            "marker": {
             "colorbar": {
              "outlinewidth": 0,
              "ticks": ""
             }
            },
            "type": "scattercarpet"
           }
          ],
          "scattergeo": [
           {
            "marker": {
             "colorbar": {
              "outlinewidth": 0,
              "ticks": ""
             }
            },
            "type": "scattergeo"
           }
          ],
          "scattergl": [
           {
            "marker": {
             "colorbar": {
              "outlinewidth": 0,
              "ticks": ""
             }
            },
            "type": "scattergl"
           }
          ],
          "scattermapbox": [
           {
            "marker": {
             "colorbar": {
              "outlinewidth": 0,
              "ticks": ""
             }
            },
            "type": "scattermapbox"
           }
          ],
          "scatterpolar": [
           {
            "marker": {
             "colorbar": {
              "outlinewidth": 0,
              "ticks": ""
             }
            },
            "type": "scatterpolar"
           }
          ],
          "scatterpolargl": [
           {
            "marker": {
             "colorbar": {
              "outlinewidth": 0,
              "ticks": ""
             }
            },
            "type": "scatterpolargl"
           }
          ],
          "scatterternary": [
           {
            "marker": {
             "colorbar": {
              "outlinewidth": 0,
              "ticks": ""
             }
            },
            "type": "scatterternary"
           }
          ],
          "surface": [
           {
            "colorbar": {
             "outlinewidth": 0,
             "ticks": ""
            },
            "colorscale": [
             [
              0,
              "#0d0887"
             ],
             [
              0.1111111111111111,
              "#46039f"
             ],
             [
              0.2222222222222222,
              "#7201a8"
             ],
             [
              0.3333333333333333,
              "#9c179e"
             ],
             [
              0.4444444444444444,
              "#bd3786"
             ],
             [
              0.5555555555555556,
              "#d8576b"
             ],
             [
              0.6666666666666666,
              "#ed7953"
             ],
             [
              0.7777777777777778,
              "#fb9f3a"
             ],
             [
              0.8888888888888888,
              "#fdca26"
             ],
             [
              1,
              "#f0f921"
             ]
            ],
            "type": "surface"
           }
          ],
          "table": [
           {
            "cells": {
             "fill": {
              "color": "#EBF0F8"
             },
             "line": {
              "color": "white"
             }
            },
            "header": {
             "fill": {
              "color": "#C8D4E3"
             },
             "line": {
              "color": "white"
             }
            },
            "type": "table"
           }
          ]
         },
         "layout": {
          "annotationdefaults": {
           "arrowcolor": "#2a3f5f",
           "arrowhead": 0,
           "arrowwidth": 1
          },
          "autotypenumbers": "strict",
          "coloraxis": {
           "colorbar": {
            "outlinewidth": 0,
            "ticks": ""
           }
          },
          "colorscale": {
           "diverging": [
            [
             0,
             "#8e0152"
            ],
            [
             0.1,
             "#c51b7d"
            ],
            [
             0.2,
             "#de77ae"
            ],
            [
             0.3,
             "#f1b6da"
            ],
            [
             0.4,
             "#fde0ef"
            ],
            [
             0.5,
             "#f7f7f7"
            ],
            [
             0.6,
             "#e6f5d0"
            ],
            [
             0.7,
             "#b8e186"
            ],
            [
             0.8,
             "#7fbc41"
            ],
            [
             0.9,
             "#4d9221"
            ],
            [
             1,
             "#276419"
            ]
           ],
           "sequential": [
            [
             0,
             "#0d0887"
            ],
            [
             0.1111111111111111,
             "#46039f"
            ],
            [
             0.2222222222222222,
             "#7201a8"
            ],
            [
             0.3333333333333333,
             "#9c179e"
            ],
            [
             0.4444444444444444,
             "#bd3786"
            ],
            [
             0.5555555555555556,
             "#d8576b"
            ],
            [
             0.6666666666666666,
             "#ed7953"
            ],
            [
             0.7777777777777778,
             "#fb9f3a"
            ],
            [
             0.8888888888888888,
             "#fdca26"
            ],
            [
             1,
             "#f0f921"
            ]
           ],
           "sequentialminus": [
            [
             0,
             "#0d0887"
            ],
            [
             0.1111111111111111,
             "#46039f"
            ],
            [
             0.2222222222222222,
             "#7201a8"
            ],
            [
             0.3333333333333333,
             "#9c179e"
            ],
            [
             0.4444444444444444,
             "#bd3786"
            ],
            [
             0.5555555555555556,
             "#d8576b"
            ],
            [
             0.6666666666666666,
             "#ed7953"
            ],
            [
             0.7777777777777778,
             "#fb9f3a"
            ],
            [
             0.8888888888888888,
             "#fdca26"
            ],
            [
             1,
             "#f0f921"
            ]
           ]
          },
          "colorway": [
           "#636efa",
           "#EF553B",
           "#00cc96",
           "#ab63fa",
           "#FFA15A",
           "#19d3f3",
           "#FF6692",
           "#B6E880",
           "#FF97FF",
           "#FECB52"
          ],
          "font": {
           "color": "#2a3f5f"
          },
          "geo": {
           "bgcolor": "white",
           "lakecolor": "white",
           "landcolor": "#E5ECF6",
           "showlakes": true,
           "showland": true,
           "subunitcolor": "white"
          },
          "hoverlabel": {
           "align": "left"
          },
          "hovermode": "closest",
          "mapbox": {
           "style": "light"
          },
          "paper_bgcolor": "white",
          "plot_bgcolor": "#E5ECF6",
          "polar": {
           "angularaxis": {
            "gridcolor": "white",
            "linecolor": "white",
            "ticks": ""
           },
           "bgcolor": "#E5ECF6",
           "radialaxis": {
            "gridcolor": "white",
            "linecolor": "white",
            "ticks": ""
           }
          },
          "scene": {
           "xaxis": {
            "backgroundcolor": "#E5ECF6",
            "gridcolor": "white",
            "gridwidth": 2,
            "linecolor": "white",
            "showbackground": true,
            "ticks": "",
            "zerolinecolor": "white"
           },
           "yaxis": {
            "backgroundcolor": "#E5ECF6",
            "gridcolor": "white",
            "gridwidth": 2,
            "linecolor": "white",
            "showbackground": true,
            "ticks": "",
            "zerolinecolor": "white"
           },
           "zaxis": {
            "backgroundcolor": "#E5ECF6",
            "gridcolor": "white",
            "gridwidth": 2,
            "linecolor": "white",
            "showbackground": true,
            "ticks": "",
            "zerolinecolor": "white"
           }
          },
          "shapedefaults": {
           "line": {
            "color": "#2a3f5f"
           }
          },
          "ternary": {
           "aaxis": {
            "gridcolor": "white",
            "linecolor": "white",
            "ticks": ""
           },
           "baxis": {
            "gridcolor": "white",
            "linecolor": "white",
            "ticks": ""
           },
           "bgcolor": "#E5ECF6",
           "caxis": {
            "gridcolor": "white",
            "linecolor": "white",
            "ticks": ""
           }
          },
          "title": {
           "x": 0.05
          },
          "xaxis": {
           "automargin": true,
           "gridcolor": "white",
           "linecolor": "white",
           "ticks": "",
           "title": {
            "standoff": 15
           },
           "zerolinecolor": "white",
           "zerolinewidth": 2
          },
          "yaxis": {
           "automargin": true,
           "gridcolor": "white",
           "linecolor": "white",
           "ticks": "",
           "title": {
            "standoff": 15
           },
           "zerolinecolor": "white",
           "zerolinewidth": 2
          }
         }
        },
        "title": {
         "text": "Top 10 Películas por Género"
        }
       }
      }
     },
     "metadata": {},
     "output_type": "display_data"
    }
   ],
   "source": [
    "top_rates = df.nlargest(10, 'rating')\n",
    "\n",
    "fig = go.Figure(data=[go.Bar(x=top_rates['genre'], y=top_rates['rating'], marker={'color': '#00FA9A'})])\n",
    "fig.update_layout(title='Top 10 Películas por Género')\n",
    "fig.show()"
   ]
  },
  {
   "cell_type": "markdown",
   "metadata": {},
   "source": [
    "- Gráfico de barras muestra las 10 películas con las calificaciones más altas, mostrando los nombres de las películas en el eje x y las calificaciones en el eje y."
   ]
  },
  {
   "cell_type": "code",
   "execution_count": 37,
   "metadata": {},
   "outputs": [
    {
     "data": {
      "application/vnd.plotly.v1+json": {
       "config": {
        "plotlyServerURL": "https://plot.ly"
       },
       "data": [
        {
         "marker": {
          "color": "#3CB371"
         },
         "type": "bar",
         "x": [
          "The Shawshank Redemption",
          "The Godfather",
          "The Dark Knight",
          "The Godfather Part II",
          "12 Angry Men",
          "Schindler's List",
          "The Lord of the Rings: The Return of the King",
          "Pulp Fiction",
          "The Lord of the Rings: The Fellowship of the Ring",
          "The Good, the Bad and the Ugly"
         ],
         "y": [
          9.3,
          9.2,
          9,
          9,
          9,
          9,
          9,
          8.9,
          8.8,
          8.8
         ]
        }
       ],
       "layout": {
        "template": {
         "data": {
          "bar": [
           {
            "error_x": {
             "color": "#2a3f5f"
            },
            "error_y": {
             "color": "#2a3f5f"
            },
            "marker": {
             "line": {
              "color": "#E5ECF6",
              "width": 0.5
             },
             "pattern": {
              "fillmode": "overlay",
              "size": 10,
              "solidity": 0.2
             }
            },
            "type": "bar"
           }
          ],
          "barpolar": [
           {
            "marker": {
             "line": {
              "color": "#E5ECF6",
              "width": 0.5
             },
             "pattern": {
              "fillmode": "overlay",
              "size": 10,
              "solidity": 0.2
             }
            },
            "type": "barpolar"
           }
          ],
          "carpet": [
           {
            "aaxis": {
             "endlinecolor": "#2a3f5f",
             "gridcolor": "white",
             "linecolor": "white",
             "minorgridcolor": "white",
             "startlinecolor": "#2a3f5f"
            },
            "baxis": {
             "endlinecolor": "#2a3f5f",
             "gridcolor": "white",
             "linecolor": "white",
             "minorgridcolor": "white",
             "startlinecolor": "#2a3f5f"
            },
            "type": "carpet"
           }
          ],
          "choropleth": [
           {
            "colorbar": {
             "outlinewidth": 0,
             "ticks": ""
            },
            "type": "choropleth"
           }
          ],
          "contour": [
           {
            "colorbar": {
             "outlinewidth": 0,
             "ticks": ""
            },
            "colorscale": [
             [
              0,
              "#0d0887"
             ],
             [
              0.1111111111111111,
              "#46039f"
             ],
             [
              0.2222222222222222,
              "#7201a8"
             ],
             [
              0.3333333333333333,
              "#9c179e"
             ],
             [
              0.4444444444444444,
              "#bd3786"
             ],
             [
              0.5555555555555556,
              "#d8576b"
             ],
             [
              0.6666666666666666,
              "#ed7953"
             ],
             [
              0.7777777777777778,
              "#fb9f3a"
             ],
             [
              0.8888888888888888,
              "#fdca26"
             ],
             [
              1,
              "#f0f921"
             ]
            ],
            "type": "contour"
           }
          ],
          "contourcarpet": [
           {
            "colorbar": {
             "outlinewidth": 0,
             "ticks": ""
            },
            "type": "contourcarpet"
           }
          ],
          "heatmap": [
           {
            "colorbar": {
             "outlinewidth": 0,
             "ticks": ""
            },
            "colorscale": [
             [
              0,
              "#0d0887"
             ],
             [
              0.1111111111111111,
              "#46039f"
             ],
             [
              0.2222222222222222,
              "#7201a8"
             ],
             [
              0.3333333333333333,
              "#9c179e"
             ],
             [
              0.4444444444444444,
              "#bd3786"
             ],
             [
              0.5555555555555556,
              "#d8576b"
             ],
             [
              0.6666666666666666,
              "#ed7953"
             ],
             [
              0.7777777777777778,
              "#fb9f3a"
             ],
             [
              0.8888888888888888,
              "#fdca26"
             ],
             [
              1,
              "#f0f921"
             ]
            ],
            "type": "heatmap"
           }
          ],
          "heatmapgl": [
           {
            "colorbar": {
             "outlinewidth": 0,
             "ticks": ""
            },
            "colorscale": [
             [
              0,
              "#0d0887"
             ],
             [
              0.1111111111111111,
              "#46039f"
             ],
             [
              0.2222222222222222,
              "#7201a8"
             ],
             [
              0.3333333333333333,
              "#9c179e"
             ],
             [
              0.4444444444444444,
              "#bd3786"
             ],
             [
              0.5555555555555556,
              "#d8576b"
             ],
             [
              0.6666666666666666,
              "#ed7953"
             ],
             [
              0.7777777777777778,
              "#fb9f3a"
             ],
             [
              0.8888888888888888,
              "#fdca26"
             ],
             [
              1,
              "#f0f921"
             ]
            ],
            "type": "heatmapgl"
           }
          ],
          "histogram": [
           {
            "marker": {
             "pattern": {
              "fillmode": "overlay",
              "size": 10,
              "solidity": 0.2
             }
            },
            "type": "histogram"
           }
          ],
          "histogram2d": [
           {
            "colorbar": {
             "outlinewidth": 0,
             "ticks": ""
            },
            "colorscale": [
             [
              0,
              "#0d0887"
             ],
             [
              0.1111111111111111,
              "#46039f"
             ],
             [
              0.2222222222222222,
              "#7201a8"
             ],
             [
              0.3333333333333333,
              "#9c179e"
             ],
             [
              0.4444444444444444,
              "#bd3786"
             ],
             [
              0.5555555555555556,
              "#d8576b"
             ],
             [
              0.6666666666666666,
              "#ed7953"
             ],
             [
              0.7777777777777778,
              "#fb9f3a"
             ],
             [
              0.8888888888888888,
              "#fdca26"
             ],
             [
              1,
              "#f0f921"
             ]
            ],
            "type": "histogram2d"
           }
          ],
          "histogram2dcontour": [
           {
            "colorbar": {
             "outlinewidth": 0,
             "ticks": ""
            },
            "colorscale": [
             [
              0,
              "#0d0887"
             ],
             [
              0.1111111111111111,
              "#46039f"
             ],
             [
              0.2222222222222222,
              "#7201a8"
             ],
             [
              0.3333333333333333,
              "#9c179e"
             ],
             [
              0.4444444444444444,
              "#bd3786"
             ],
             [
              0.5555555555555556,
              "#d8576b"
             ],
             [
              0.6666666666666666,
              "#ed7953"
             ],
             [
              0.7777777777777778,
              "#fb9f3a"
             ],
             [
              0.8888888888888888,
              "#fdca26"
             ],
             [
              1,
              "#f0f921"
             ]
            ],
            "type": "histogram2dcontour"
           }
          ],
          "mesh3d": [
           {
            "colorbar": {
             "outlinewidth": 0,
             "ticks": ""
            },
            "type": "mesh3d"
           }
          ],
          "parcoords": [
           {
            "line": {
             "colorbar": {
              "outlinewidth": 0,
              "ticks": ""
             }
            },
            "type": "parcoords"
           }
          ],
          "pie": [
           {
            "automargin": true,
            "type": "pie"
           }
          ],
          "scatter": [
           {
            "fillpattern": {
             "fillmode": "overlay",
             "size": 10,
             "solidity": 0.2
            },
            "type": "scatter"
           }
          ],
          "scatter3d": [
           {
            "line": {
             "colorbar": {
              "outlinewidth": 0,
              "ticks": ""
             }
            },
            "marker": {
             "colorbar": {
              "outlinewidth": 0,
              "ticks": ""
             }
            },
            "type": "scatter3d"
           }
          ],
          "scattercarpet": [
           {
            "marker": {
             "colorbar": {
              "outlinewidth": 0,
              "ticks": ""
             }
            },
            "type": "scattercarpet"
           }
          ],
          "scattergeo": [
           {
            "marker": {
             "colorbar": {
              "outlinewidth": 0,
              "ticks": ""
             }
            },
            "type": "scattergeo"
           }
          ],
          "scattergl": [
           {
            "marker": {
             "colorbar": {
              "outlinewidth": 0,
              "ticks": ""
             }
            },
            "type": "scattergl"
           }
          ],
          "scattermapbox": [
           {
            "marker": {
             "colorbar": {
              "outlinewidth": 0,
              "ticks": ""
             }
            },
            "type": "scattermapbox"
           }
          ],
          "scatterpolar": [
           {
            "marker": {
             "colorbar": {
              "outlinewidth": 0,
              "ticks": ""
             }
            },
            "type": "scatterpolar"
           }
          ],
          "scatterpolargl": [
           {
            "marker": {
             "colorbar": {
              "outlinewidth": 0,
              "ticks": ""
             }
            },
            "type": "scatterpolargl"
           }
          ],
          "scatterternary": [
           {
            "marker": {
             "colorbar": {
              "outlinewidth": 0,
              "ticks": ""
             }
            },
            "type": "scatterternary"
           }
          ],
          "surface": [
           {
            "colorbar": {
             "outlinewidth": 0,
             "ticks": ""
            },
            "colorscale": [
             [
              0,
              "#0d0887"
             ],
             [
              0.1111111111111111,
              "#46039f"
             ],
             [
              0.2222222222222222,
              "#7201a8"
             ],
             [
              0.3333333333333333,
              "#9c179e"
             ],
             [
              0.4444444444444444,
              "#bd3786"
             ],
             [
              0.5555555555555556,
              "#d8576b"
             ],
             [
              0.6666666666666666,
              "#ed7953"
             ],
             [
              0.7777777777777778,
              "#fb9f3a"
             ],
             [
              0.8888888888888888,
              "#fdca26"
             ],
             [
              1,
              "#f0f921"
             ]
            ],
            "type": "surface"
           }
          ],
          "table": [
           {
            "cells": {
             "fill": {
              "color": "#EBF0F8"
             },
             "line": {
              "color": "white"
             }
            },
            "header": {
             "fill": {
              "color": "#C8D4E3"
             },
             "line": {
              "color": "white"
             }
            },
            "type": "table"
           }
          ]
         },
         "layout": {
          "annotationdefaults": {
           "arrowcolor": "#2a3f5f",
           "arrowhead": 0,
           "arrowwidth": 1
          },
          "autotypenumbers": "strict",
          "coloraxis": {
           "colorbar": {
            "outlinewidth": 0,
            "ticks": ""
           }
          },
          "colorscale": {
           "diverging": [
            [
             0,
             "#8e0152"
            ],
            [
             0.1,
             "#c51b7d"
            ],
            [
             0.2,
             "#de77ae"
            ],
            [
             0.3,
             "#f1b6da"
            ],
            [
             0.4,
             "#fde0ef"
            ],
            [
             0.5,
             "#f7f7f7"
            ],
            [
             0.6,
             "#e6f5d0"
            ],
            [
             0.7,
             "#b8e186"
            ],
            [
             0.8,
             "#7fbc41"
            ],
            [
             0.9,
             "#4d9221"
            ],
            [
             1,
             "#276419"
            ]
           ],
           "sequential": [
            [
             0,
             "#0d0887"
            ],
            [
             0.1111111111111111,
             "#46039f"
            ],
            [
             0.2222222222222222,
             "#7201a8"
            ],
            [
             0.3333333333333333,
             "#9c179e"
            ],
            [
             0.4444444444444444,
             "#bd3786"
            ],
            [
             0.5555555555555556,
             "#d8576b"
            ],
            [
             0.6666666666666666,
             "#ed7953"
            ],
            [
             0.7777777777777778,
             "#fb9f3a"
            ],
            [
             0.8888888888888888,
             "#fdca26"
            ],
            [
             1,
             "#f0f921"
            ]
           ],
           "sequentialminus": [
            [
             0,
             "#0d0887"
            ],
            [
             0.1111111111111111,
             "#46039f"
            ],
            [
             0.2222222222222222,
             "#7201a8"
            ],
            [
             0.3333333333333333,
             "#9c179e"
            ],
            [
             0.4444444444444444,
             "#bd3786"
            ],
            [
             0.5555555555555556,
             "#d8576b"
            ],
            [
             0.6666666666666666,
             "#ed7953"
            ],
            [
             0.7777777777777778,
             "#fb9f3a"
            ],
            [
             0.8888888888888888,
             "#fdca26"
            ],
            [
             1,
             "#f0f921"
            ]
           ]
          },
          "colorway": [
           "#636efa",
           "#EF553B",
           "#00cc96",
           "#ab63fa",
           "#FFA15A",
           "#19d3f3",
           "#FF6692",
           "#B6E880",
           "#FF97FF",
           "#FECB52"
          ],
          "font": {
           "color": "#2a3f5f"
          },
          "geo": {
           "bgcolor": "white",
           "lakecolor": "white",
           "landcolor": "#E5ECF6",
           "showlakes": true,
           "showland": true,
           "subunitcolor": "white"
          },
          "hoverlabel": {
           "align": "left"
          },
          "hovermode": "closest",
          "mapbox": {
           "style": "light"
          },
          "paper_bgcolor": "white",
          "plot_bgcolor": "#E5ECF6",
          "polar": {
           "angularaxis": {
            "gridcolor": "white",
            "linecolor": "white",
            "ticks": ""
           },
           "bgcolor": "#E5ECF6",
           "radialaxis": {
            "gridcolor": "white",
            "linecolor": "white",
            "ticks": ""
           }
          },
          "scene": {
           "xaxis": {
            "backgroundcolor": "#E5ECF6",
            "gridcolor": "white",
            "gridwidth": 2,
            "linecolor": "white",
            "showbackground": true,
            "ticks": "",
            "zerolinecolor": "white"
           },
           "yaxis": {
            "backgroundcolor": "#E5ECF6",
            "gridcolor": "white",
            "gridwidth": 2,
            "linecolor": "white",
            "showbackground": true,
            "ticks": "",
            "zerolinecolor": "white"
           },
           "zaxis": {
            "backgroundcolor": "#E5ECF6",
            "gridcolor": "white",
            "gridwidth": 2,
            "linecolor": "white",
            "showbackground": true,
            "ticks": "",
            "zerolinecolor": "white"
           }
          },
          "shapedefaults": {
           "line": {
            "color": "#2a3f5f"
           }
          },
          "ternary": {
           "aaxis": {
            "gridcolor": "white",
            "linecolor": "white",
            "ticks": ""
           },
           "baxis": {
            "gridcolor": "white",
            "linecolor": "white",
            "ticks": ""
           },
           "bgcolor": "#E5ECF6",
           "caxis": {
            "gridcolor": "white",
            "linecolor": "white",
            "ticks": ""
           }
          },
          "title": {
           "x": 0.05
          },
          "xaxis": {
           "automargin": true,
           "gridcolor": "white",
           "linecolor": "white",
           "ticks": "",
           "title": {
            "standoff": 15
           },
           "zerolinecolor": "white",
           "zerolinewidth": 2
          },
          "yaxis": {
           "automargin": true,
           "gridcolor": "white",
           "linecolor": "white",
           "ticks": "",
           "title": {
            "standoff": 15
           },
           "zerolinecolor": "white",
           "zerolinewidth": 2
          }
         }
        },
        "title": {
         "text": "Top 10 Películas por Calificación (Rating)"
        }
       }
      }
     },
     "metadata": {},
     "output_type": "display_data"
    }
   ],
   "source": [
    "top_movies = df.nlargest(10, 'rating')\n",
    "\n",
    "fig = go.Figure(data=[go.Bar(x=top_movies['name'], y=top_movies['rating'], marker={'color': '#3CB371'})])\n",
    "fig.update_layout(title='Top 10 Películas por Calificación (Rating)')\n",
    "fig.show()"
   ]
  },
  {
   "cell_type": "markdown",
   "metadata": {},
   "source": [
    "- Este gráfico de barras muestra los 10 directores principales según las calificaciones más altas de sus películas. Cada barra representa un director y su respectiva calificación promedio, permitiendo identificar fácilmente los directores con las mejores calificaciones en la list"
   ]
  },
  {
   "cell_type": "code",
   "execution_count": 38,
   "metadata": {},
   "outputs": [
    {
     "data": {
      "application/vnd.plotly.v1+json": {
       "config": {
        "plotlyServerURL": "https://plot.ly"
       },
       "data": [
        {
         "marker": {
          "color": "#2E8B57"
         },
         "type": "bar",
         "x": [
          "Frank Darabont",
          "Francis Ford Coppola",
          "Christopher Nolan",
          "Francis Ford Coppola",
          "Sidney Lumet",
          "Steven Spielberg",
          "Peter Jackson",
          "Quentin Tarantino",
          "Peter Jackson",
          "Sergio Leone"
         ],
         "y": [
          9.3,
          9.2,
          9,
          9,
          9,
          9,
          9,
          8.9,
          8.8,
          8.8
         ]
        }
       ],
       "layout": {
        "template": {
         "data": {
          "bar": [
           {
            "error_x": {
             "color": "#2a3f5f"
            },
            "error_y": {
             "color": "#2a3f5f"
            },
            "marker": {
             "line": {
              "color": "#E5ECF6",
              "width": 0.5
             },
             "pattern": {
              "fillmode": "overlay",
              "size": 10,
              "solidity": 0.2
             }
            },
            "type": "bar"
           }
          ],
          "barpolar": [
           {
            "marker": {
             "line": {
              "color": "#E5ECF6",
              "width": 0.5
             },
             "pattern": {
              "fillmode": "overlay",
              "size": 10,
              "solidity": 0.2
             }
            },
            "type": "barpolar"
           }
          ],
          "carpet": [
           {
            "aaxis": {
             "endlinecolor": "#2a3f5f",
             "gridcolor": "white",
             "linecolor": "white",
             "minorgridcolor": "white",
             "startlinecolor": "#2a3f5f"
            },
            "baxis": {
             "endlinecolor": "#2a3f5f",
             "gridcolor": "white",
             "linecolor": "white",
             "minorgridcolor": "white",
             "startlinecolor": "#2a3f5f"
            },
            "type": "carpet"
           }
          ],
          "choropleth": [
           {
            "colorbar": {
             "outlinewidth": 0,
             "ticks": ""
            },
            "type": "choropleth"
           }
          ],
          "contour": [
           {
            "colorbar": {
             "outlinewidth": 0,
             "ticks": ""
            },
            "colorscale": [
             [
              0,
              "#0d0887"
             ],
             [
              0.1111111111111111,
              "#46039f"
             ],
             [
              0.2222222222222222,
              "#7201a8"
             ],
             [
              0.3333333333333333,
              "#9c179e"
             ],
             [
              0.4444444444444444,
              "#bd3786"
             ],
             [
              0.5555555555555556,
              "#d8576b"
             ],
             [
              0.6666666666666666,
              "#ed7953"
             ],
             [
              0.7777777777777778,
              "#fb9f3a"
             ],
             [
              0.8888888888888888,
              "#fdca26"
             ],
             [
              1,
              "#f0f921"
             ]
            ],
            "type": "contour"
           }
          ],
          "contourcarpet": [
           {
            "colorbar": {
             "outlinewidth": 0,
             "ticks": ""
            },
            "type": "contourcarpet"
           }
          ],
          "heatmap": [
           {
            "colorbar": {
             "outlinewidth": 0,
             "ticks": ""
            },
            "colorscale": [
             [
              0,
              "#0d0887"
             ],
             [
              0.1111111111111111,
              "#46039f"
             ],
             [
              0.2222222222222222,
              "#7201a8"
             ],
             [
              0.3333333333333333,
              "#9c179e"
             ],
             [
              0.4444444444444444,
              "#bd3786"
             ],
             [
              0.5555555555555556,
              "#d8576b"
             ],
             [
              0.6666666666666666,
              "#ed7953"
             ],
             [
              0.7777777777777778,
              "#fb9f3a"
             ],
             [
              0.8888888888888888,
              "#fdca26"
             ],
             [
              1,
              "#f0f921"
             ]
            ],
            "type": "heatmap"
           }
          ],
          "heatmapgl": [
           {
            "colorbar": {
             "outlinewidth": 0,
             "ticks": ""
            },
            "colorscale": [
             [
              0,
              "#0d0887"
             ],
             [
              0.1111111111111111,
              "#46039f"
             ],
             [
              0.2222222222222222,
              "#7201a8"
             ],
             [
              0.3333333333333333,
              "#9c179e"
             ],
             [
              0.4444444444444444,
              "#bd3786"
             ],
             [
              0.5555555555555556,
              "#d8576b"
             ],
             [
              0.6666666666666666,
              "#ed7953"
             ],
             [
              0.7777777777777778,
              "#fb9f3a"
             ],
             [
              0.8888888888888888,
              "#fdca26"
             ],
             [
              1,
              "#f0f921"
             ]
            ],
            "type": "heatmapgl"
           }
          ],
          "histogram": [
           {
            "marker": {
             "pattern": {
              "fillmode": "overlay",
              "size": 10,
              "solidity": 0.2
             }
            },
            "type": "histogram"
           }
          ],
          "histogram2d": [
           {
            "colorbar": {
             "outlinewidth": 0,
             "ticks": ""
            },
            "colorscale": [
             [
              0,
              "#0d0887"
             ],
             [
              0.1111111111111111,
              "#46039f"
             ],
             [
              0.2222222222222222,
              "#7201a8"
             ],
             [
              0.3333333333333333,
              "#9c179e"
             ],
             [
              0.4444444444444444,
              "#bd3786"
             ],
             [
              0.5555555555555556,
              "#d8576b"
             ],
             [
              0.6666666666666666,
              "#ed7953"
             ],
             [
              0.7777777777777778,
              "#fb9f3a"
             ],
             [
              0.8888888888888888,
              "#fdca26"
             ],
             [
              1,
              "#f0f921"
             ]
            ],
            "type": "histogram2d"
           }
          ],
          "histogram2dcontour": [
           {
            "colorbar": {
             "outlinewidth": 0,
             "ticks": ""
            },
            "colorscale": [
             [
              0,
              "#0d0887"
             ],
             [
              0.1111111111111111,
              "#46039f"
             ],
             [
              0.2222222222222222,
              "#7201a8"
             ],
             [
              0.3333333333333333,
              "#9c179e"
             ],
             [
              0.4444444444444444,
              "#bd3786"
             ],
             [
              0.5555555555555556,
              "#d8576b"
             ],
             [
              0.6666666666666666,
              "#ed7953"
             ],
             [
              0.7777777777777778,
              "#fb9f3a"
             ],
             [
              0.8888888888888888,
              "#fdca26"
             ],
             [
              1,
              "#f0f921"
             ]
            ],
            "type": "histogram2dcontour"
           }
          ],
          "mesh3d": [
           {
            "colorbar": {
             "outlinewidth": 0,
             "ticks": ""
            },
            "type": "mesh3d"
           }
          ],
          "parcoords": [
           {
            "line": {
             "colorbar": {
              "outlinewidth": 0,
              "ticks": ""
             }
            },
            "type": "parcoords"
           }
          ],
          "pie": [
           {
            "automargin": true,
            "type": "pie"
           }
          ],
          "scatter": [
           {
            "fillpattern": {
             "fillmode": "overlay",
             "size": 10,
             "solidity": 0.2
            },
            "type": "scatter"
           }
          ],
          "scatter3d": [
           {
            "line": {
             "colorbar": {
              "outlinewidth": 0,
              "ticks": ""
             }
            },
            "marker": {
             "colorbar": {
              "outlinewidth": 0,
              "ticks": ""
             }
            },
            "type": "scatter3d"
           }
          ],
          "scattercarpet": [
           {
            "marker": {
             "colorbar": {
              "outlinewidth": 0,
              "ticks": ""
             }
            },
            "type": "scattercarpet"
           }
          ],
          "scattergeo": [
           {
            "marker": {
             "colorbar": {
              "outlinewidth": 0,
              "ticks": ""
             }
            },
            "type": "scattergeo"
           }
          ],
          "scattergl": [
           {
            "marker": {
             "colorbar": {
              "outlinewidth": 0,
              "ticks": ""
             }
            },
            "type": "scattergl"
           }
          ],
          "scattermapbox": [
           {
            "marker": {
             "colorbar": {
              "outlinewidth": 0,
              "ticks": ""
             }
            },
            "type": "scattermapbox"
           }
          ],
          "scatterpolar": [
           {
            "marker": {
             "colorbar": {
              "outlinewidth": 0,
              "ticks": ""
             }
            },
            "type": "scatterpolar"
           }
          ],
          "scatterpolargl": [
           {
            "marker": {
             "colorbar": {
              "outlinewidth": 0,
              "ticks": ""
             }
            },
            "type": "scatterpolargl"
           }
          ],
          "scatterternary": [
           {
            "marker": {
             "colorbar": {
              "outlinewidth": 0,
              "ticks": ""
             }
            },
            "type": "scatterternary"
           }
          ],
          "surface": [
           {
            "colorbar": {
             "outlinewidth": 0,
             "ticks": ""
            },
            "colorscale": [
             [
              0,
              "#0d0887"
             ],
             [
              0.1111111111111111,
              "#46039f"
             ],
             [
              0.2222222222222222,
              "#7201a8"
             ],
             [
              0.3333333333333333,
              "#9c179e"
             ],
             [
              0.4444444444444444,
              "#bd3786"
             ],
             [
              0.5555555555555556,
              "#d8576b"
             ],
             [
              0.6666666666666666,
              "#ed7953"
             ],
             [
              0.7777777777777778,
              "#fb9f3a"
             ],
             [
              0.8888888888888888,
              "#fdca26"
             ],
             [
              1,
              "#f0f921"
             ]
            ],
            "type": "surface"
           }
          ],
          "table": [
           {
            "cells": {
             "fill": {
              "color": "#EBF0F8"
             },
             "line": {
              "color": "white"
             }
            },
            "header": {
             "fill": {
              "color": "#C8D4E3"
             },
             "line": {
              "color": "white"
             }
            },
            "type": "table"
           }
          ]
         },
         "layout": {
          "annotationdefaults": {
           "arrowcolor": "#2a3f5f",
           "arrowhead": 0,
           "arrowwidth": 1
          },
          "autotypenumbers": "strict",
          "coloraxis": {
           "colorbar": {
            "outlinewidth": 0,
            "ticks": ""
           }
          },
          "colorscale": {
           "diverging": [
            [
             0,
             "#8e0152"
            ],
            [
             0.1,
             "#c51b7d"
            ],
            [
             0.2,
             "#de77ae"
            ],
            [
             0.3,
             "#f1b6da"
            ],
            [
             0.4,
             "#fde0ef"
            ],
            [
             0.5,
             "#f7f7f7"
            ],
            [
             0.6,
             "#e6f5d0"
            ],
            [
             0.7,
             "#b8e186"
            ],
            [
             0.8,
             "#7fbc41"
            ],
            [
             0.9,
             "#4d9221"
            ],
            [
             1,
             "#276419"
            ]
           ],
           "sequential": [
            [
             0,
             "#0d0887"
            ],
            [
             0.1111111111111111,
             "#46039f"
            ],
            [
             0.2222222222222222,
             "#7201a8"
            ],
            [
             0.3333333333333333,
             "#9c179e"
            ],
            [
             0.4444444444444444,
             "#bd3786"
            ],
            [
             0.5555555555555556,
             "#d8576b"
            ],
            [
             0.6666666666666666,
             "#ed7953"
            ],
            [
             0.7777777777777778,
             "#fb9f3a"
            ],
            [
             0.8888888888888888,
             "#fdca26"
            ],
            [
             1,
             "#f0f921"
            ]
           ],
           "sequentialminus": [
            [
             0,
             "#0d0887"
            ],
            [
             0.1111111111111111,
             "#46039f"
            ],
            [
             0.2222222222222222,
             "#7201a8"
            ],
            [
             0.3333333333333333,
             "#9c179e"
            ],
            [
             0.4444444444444444,
             "#bd3786"
            ],
            [
             0.5555555555555556,
             "#d8576b"
            ],
            [
             0.6666666666666666,
             "#ed7953"
            ],
            [
             0.7777777777777778,
             "#fb9f3a"
            ],
            [
             0.8888888888888888,
             "#fdca26"
            ],
            [
             1,
             "#f0f921"
            ]
           ]
          },
          "colorway": [
           "#636efa",
           "#EF553B",
           "#00cc96",
           "#ab63fa",
           "#FFA15A",
           "#19d3f3",
           "#FF6692",
           "#B6E880",
           "#FF97FF",
           "#FECB52"
          ],
          "font": {
           "color": "#2a3f5f"
          },
          "geo": {
           "bgcolor": "white",
           "lakecolor": "white",
           "landcolor": "#E5ECF6",
           "showlakes": true,
           "showland": true,
           "subunitcolor": "white"
          },
          "hoverlabel": {
           "align": "left"
          },
          "hovermode": "closest",
          "mapbox": {
           "style": "light"
          },
          "paper_bgcolor": "white",
          "plot_bgcolor": "#E5ECF6",
          "polar": {
           "angularaxis": {
            "gridcolor": "white",
            "linecolor": "white",
            "ticks": ""
           },
           "bgcolor": "#E5ECF6",
           "radialaxis": {
            "gridcolor": "white",
            "linecolor": "white",
            "ticks": ""
           }
          },
          "scene": {
           "xaxis": {
            "backgroundcolor": "#E5ECF6",
            "gridcolor": "white",
            "gridwidth": 2,
            "linecolor": "white",
            "showbackground": true,
            "ticks": "",
            "zerolinecolor": "white"
           },
           "yaxis": {
            "backgroundcolor": "#E5ECF6",
            "gridcolor": "white",
            "gridwidth": 2,
            "linecolor": "white",
            "showbackground": true,
            "ticks": "",
            "zerolinecolor": "white"
           },
           "zaxis": {
            "backgroundcolor": "#E5ECF6",
            "gridcolor": "white",
            "gridwidth": 2,
            "linecolor": "white",
            "showbackground": true,
            "ticks": "",
            "zerolinecolor": "white"
           }
          },
          "shapedefaults": {
           "line": {
            "color": "#2a3f5f"
           }
          },
          "ternary": {
           "aaxis": {
            "gridcolor": "white",
            "linecolor": "white",
            "ticks": ""
           },
           "baxis": {
            "gridcolor": "white",
            "linecolor": "white",
            "ticks": ""
           },
           "bgcolor": "#E5ECF6",
           "caxis": {
            "gridcolor": "white",
            "linecolor": "white",
            "ticks": ""
           }
          },
          "title": {
           "x": 0.05
          },
          "xaxis": {
           "automargin": true,
           "gridcolor": "white",
           "linecolor": "white",
           "ticks": "",
           "title": {
            "standoff": 15
           },
           "zerolinecolor": "white",
           "zerolinewidth": 2
          },
          "yaxis": {
           "automargin": true,
           "gridcolor": "white",
           "linecolor": "white",
           "ticks": "",
           "title": {
            "standoff": 15
           },
           "zerolinecolor": "white",
           "zerolinewidth": 2
          }
         }
        },
        "title": {
         "text": "Top 10 Películas por Directores"
        }
       }
      }
     },
     "metadata": {},
     "output_type": "display_data"
    }
   ],
   "source": [
    "top_movies_d = df.nlargest(10, 'rating')\n",
    "\n",
    "fig = go.Figure(data=[go.Bar(x=top_movies_d['directors'], y=top_movies_d['rating'], marker={'color': '#2E8B57'})])\n",
    "fig.update_layout(title='Top 10 Películas por Directores')\n",
    "fig.show()"
   ]
  },
  {
   "cell_type": "markdown",
   "metadata": {},
   "source": [
    "- Histograma que representa la distribución de los ratings en el conjunto de datos. Cada barra en el histograma representa un rango de valores (intervalo), y la altura de la barra indica la frecuencia (número de ocurrencias) de los ratings dentro de ese rango. "
   ]
  },
  {
   "cell_type": "code",
   "execution_count": 39,
   "metadata": {},
   "outputs": [
    {
     "data": {
      "image/png": "[encoded data removed]",
      "text/plain": [
       "<Figure size 640x480 with 1 Axes>"
      ]
     },
     "metadata": {},
     "output_type": "display_data"
    }
   ],
   "source": [
    "plt.hist(df['rating'], bins=20, color='green')\n",
    "plt.xlabel('Rating')\n",
    "plt.ylabel('Frecuencia')\n",
    "plt.title('Distribución de Ratings')\n",
    "plt.show()"
   ]
  },
  {
   "cell_type": "markdown",
   "metadata": {},
   "source": [
    "- Este sunburst representa visualmente cómo se distribuyen las calificaciones de las películas en función de su género y año de lanzamiento, proporcionando una visión interactiva y jerárquica de la información."
   ]
  },
  {
   "cell_type": "code",
   "execution_count": 40,
   "metadata": {},
   "outputs": [
    {
     "data": {
      "application/vnd.plotly.v1+json": {
       "config": {
        "plotlyServerURL": "https://plot.ly"
       },
       "data": [
        {
         "branchvalues": "total",
         "domain": {
          "x": [
           0,
           1
          ],
          "y": [
           0,
           1
          ]
         },
         "hovertemplate": "labels=%{label}<br>count=%{value}<br>parent=%{parent}<br>id=%{id}<extra></extra>",
         "ids": [
          "Comedy/1979/8.0",
          "Biography,Drama,History/1982/8.0",
          "Adventure,Drama,Western/1990/8.0",
          "Animation,Adventure,Comedy/1992/8.0",
          "Animation,Action,Adventure/2004/8.0",
          "Adventure,Comedy,Drama/1925/8.1",
          "Action,Adventure,Comedy/1926/8.1",
          "Comedy,Romance/1934/8.1",
          "Adventure,Family,Fantasy/1939/8.1",
          "Comedy,Drama/1939/8.1",
          "Drama/1940/8.1",
          "Drama,Film-Noir,Mystery/1940/8.1",
          "Drama,Romance,War/1946/8.1",
          "Film-Noir,Mystery,Thriller/1949/8.1",
          "Crime,Drama,Thriller/1954/8.1",
          "Drama,Fantasy/1957/8.1",
          "Drama,Romance/1957/8.1",
          "Adventure,Drama/1959/8.1",
          "Crime,Drama/1959/8.1",
          "Biography,Drama,Family/1965/8.1",
          "Drama,Thriller/1966/8.1",
          "Drama,War/1966/8.1",
          "Crime,Drama/1967/8.1",
          "Horror/1973/8.1",
          "Adventure,Drama,War/1975/8.1",
          "Adventure,Thriller/1975/8.1",
          "Drama/1976/8.1",
          "Drama,Sport/1976/8.1",
          "Drama,War/1978/8.1",
          "Action,Drama,Sci-Fi/1982/8.1",
          "Action,Sci-Fi/1984/8.1",
          "Adventure,Drama/1986/8.1",
          "Drama,War/1986/8.1",
          "Animation,Comedy,Family/1988/8.1",
          "Comedy,Drama/1989/8.1",
          "Biography,Crime,Drama/1993/8.1",
          "Comedy,Drama,Fantasy/1993/8.1",
          "Crime,Drama/1995/8.1",
          "Drama,Romance/1995/8.1",
          "Crime,Thriller/1996/8.1",
          "Drama/1996/8.1",
          "Comedy,Crime/1998/8.1",
          "Animation,Action,Adventure/1999/8.1",
          "Drama,Thriller/2000/8.1",
          "Animation,Adventure,Comedy/2001/8.1",
          "Biography,Crime,Drama/2002/8.1",
          "Action,Adventure,Fantasy/2003/8.1",
          "Crime,Drama,Mystery/2003/8.1",
          "Biography,Drama,History/2004/8.1",
          "Drama,Romance/2004/8.1",
          "Drama,Sport/2004/8.1",
          "Adventure,Biography,Drama/2007/8.1",
          "Animation,Adventure,Comedy/2007/8.1",
          "Drama/2008/8.1",
          "Animation,Comedy,Drama/2009/8.1",
          "Biography,Drama,Family/2009/8.1",
          "Animation,Action,Adventure/2010/8.1",
          "Adventure,Family,Fantasy/2011/8.1",
          "Drama/2011/8.1",
          "Action,Biography,Drama/2013/8.1",
          "Biography,Drama,History/2013/8.1",
          "Crime,Drama,Mystery/2013/8.1",
          "Adventure,Comedy,Crime/2014/8.1",
          "Comedy,Drama,Thriller/2014/8.1",
          "Drama,Mystery,Thriller/2014/8.1",
          "Action,Adventure,Sci-Fi/2015/8.1",
          "Biography,Crime,Drama/2015/8.1",
          "Drama,Thriller/2015/8.1",
          "Biography,Drama,History/2016/8.1",
          "Drama,Romance,Thriller/2016/8.1",
          "Action,Drama,Sci-Fi/2017/8.1",
          "Comedy,Crime,Drama/2017/8.1",
          "Action,Biography,Drama/2019/8.1",
          "Action,Comedy,Romance/1924/8.2",
          "Biography,Drama,History/1928/8.2",
          "Drama,Romance,War/1939/8.2",
          "Comedy,Romance,War/1942/8.2",
          "Adventure,Drama,Western/1948/8.2",
          "Crime,Drama,Mystery/1950/8.2",
          "Drama/1950/8.2",
          "Adventure,Drama,Thriller/1953/8.2",
          "Drama/1953/8.2",
          "Crime,Thriller/1954/8.2",
          "Adventure,Drama,War/1957/8.2",
          "Comedy,Music,Romance/1959/8.2",
          "Action,Drama,Thriller/1961/8.2",
          "Adventure,Drama,History/1963/8.2",
          "Western/1965/8.2",
          "Drama,Mystery,Thriller/1974/8.2",
          "Adventure,Biography,Drama/1975/8.2",
          "Adventure,Comedy,Fantasy/1975/8.2",
          "Crime,Drama/1976/8.2",
          "Biography,Drama/1980/8.2",
          "Biography,Drama,Sport/1980/8.2",
          "Horror,Mystery,Sci-Fi/1982/8.2",
          "Action,Drama,War/1985/8.2",
          "Action,Thriller/1988/8.2",
          "Action,Adventure/1989/8.2",
          "Drama,Western/1992/8.2",
          "Action,Adventure,Sci-Fi/1993/8.2",
          "Crime,Drama/1995/8.2",
          "Crime,Drama,Mystery/1997/8.2",
          "Drama,Family,Sport/1997/8.2",
          "Action,Comedy,Crime/1998/8.2",
          "Comedy,Drama/1998/8.2",
          "Drama,Mystery,Thriller/1999/8.2",
          "Comedy,Crime/2000/8.2",
          "Biography,Drama/2001/8.2",
          "Action,Crime,Drama/2003/8.2",
          "Animation,Adventure,Comedy/2003/8.2",
          "Animation,Adventure,Family/2004/8.2",
          "Biography,Drama,History/2004/8.2",
          "Action,Crime,Drama/2005/8.2",
          "Action,Drama,Sci-Fi/2005/8.2",
          "Drama,Family/2005/8.2",
          "Drama,Fantasy,War/2006/8.2",
          "Crime,Drama,Thriller/2007/8.2",
          "Drama/2007/8.2",
          "Drama,Mystery,Romance/2009/8.2",
          "Mystery,Thriller/2010/8.2",
          "Action,Drama,Sport/2011/8.2",
          "Biography,Comedy,Crime/2013/8.2",
          "Animation,Adventure,Comedy/2015/8.2",
          "Biography,Comedy,Drama/2018/8.2",
          "Action,Drama,War/2019/8.2",
          "Animation,Adventure,Comedy/2019/8.2",
          "Drama,Mystery/2020/8.2",
          "Action,Adventure,Fantasy/2021/8.2",
          "Comedy,Drama,Family/1921/8.3",
          "Drama,Sci-Fi/1927/8.3",
          "Crime,Mystery,Thriller/1931/8.3",
          "Drama,Mystery/1941/8.3",
          "Crime,Drama,Film-Noir/1944/8.3",
          "Drama/1948/8.3",
          "Comedy,Musical,Romance/1952/8.3",
          "Drama/1952/8.3",
          "Drama/1955/8.3",
          "Mystery,Romance,Thriller/1958/8.3",
          "Action,Adventure,Mystery/1959/8.3",
          "Comedy,Drama,Romance/1960/8.3",
          "Drama,War/1961/8.3",
          "Adventure,Biography,Drama/1962/8.3",
          "Crime,Drama/1962/8.3",
          "Adventure,Sci-Fi/1968/8.3",
          "Crime,Sci-Fi/1971/8.3",
          "Comedy,Crime,Drama/1973/8.3",
          "Action,Adventure,Fantasy/1983/8.3",
          "Crime,Drama/1983/8.3",
          "Crime,Drama/1984/8.3",
          "Drama,War/1987/8.3",
          "Crime,Thriller/1992/8.3",
          "Action,Crime,Drama/1995/8.3",
          "Animation,Adventure,Comedy/1995/8.3",
          "Drama,Romance/1997/8.3",
          "Drama/2000/8.3",
          "Comedy,Romance/2001/8.3",
          "Drama,Romance,Sci-Fi/2004/8.3",
          "Drama,Family/2007/8.3",
          "Adventure,Drama,War/2009/8.3",
          "Animation,Adventure,Comedy/2009/8.3",
          "Animation,Adventure,Comedy/2010/8.3",
          "Drama,Mystery/2010/8.3",
          "Drama/2011/8.3",
          "Drama/2012/8.3",
          "Action,Biography,Drama/2016/8.3",
          "Action,Drama/2022/8.3",
          "Comedy,Drama,War/1940/8.4",
          "Drama,Film-Noir/1950/8.4",
          "Crime,Drama,Mystery/1957/8.4",
          "Drama,War/1957/8.4",
          "Crime,Drama,Mystery/1963/8.4",
          "Comedy,War/1964/8.4",
          "Drama,Horror/1980/8.4",
          "Action,Adventure/1981/8.4",
          "Drama,War/1981/8.4",
          "Biography,Drama,Music/1984/8.4",
          "Drama,Thriller,War/1985/8.4",
          "Action,Adventure,Sci-Fi/1986/8.4",
          "Biography,Drama,History/1995/8.4",
          "Animation,Action,Adventure/1997/8.4",
          "Drama/1999/8.4",
          "Mystery,Thriller/2000/8.4",
          "Action,Drama,Mystery/2003/8.4",
          "Drama,Mystery,Thriller/2006/8.4",
          "Animation,Adventure,Family/2008/8.4",
          "Comedy,Drama/2009/8.4",
          "Action,Drama/2012/8.4",
          "Drama,Western/2012/8.4",
          "Animation,Drama,Fantasy/2016/8.4",
          "Animation,Adventure,Comedy/2017/8.4",
          "Action,Adventure,Sci-Fi/2018/8.4",
          "Animation,Action,Adventure/2018/8.4",
          "Drama/2018/8.4",
          "Action,Adventure,Drama/2019/8.4",
          "Crime,Drama,Thriller/2019/8.4",
          "Biography,Drama,History/2020/8.4",
          "Comedy,Drama,Romance/1931/8.5",
          "Comedy,Drama,Romance/1936/8.5",
          "Drama,Romance,War/1942/8.5",
          "Mystery,Thriller/1954/8.5",
          "Horror,Mystery,Thriller/1960/8.5",
          "Western/1968/8.5",
          "Drama,Mystery,War/1979/8.5",
          "Horror,Sci-Fi/1979/8.5",
          "Adventure,Comedy,Sci-Fi/1985/8.5",
          "Animation,Drama,War/1988/8.5",
          "Drama,Romance/1988/8.5",
          "Action,Crime,Drama/1994/8.5",
          "Animation,Adventure,Drama/1994/8.5",
          "Crime,Drama,Mystery/1995/8.5",
          "Crime,Drama/1998/8.5",
          "Action,Adventure,Drama/2000/8.5",
          "Biography,Drama,Music/2002/8.5",
          "Crime,Drama,Thriller/2006/8.5",
          "Drama,Mystery,Sci-Fi/2006/8.5",
          "Biography,Comedy,Drama/2011/8.5",
          "Drama,Music/2014/8.5",
          "Drama,Thriller/2019/8.5",
          "Drama,Family,Fantasy/1946/8.6",
          "Action,Drama/1954/8.6",
          "Action,Drama,Mystery/1962/8.6",
          "Action,Adventure,Fantasy/1977/8.6",
          "Action,Sci-Fi/1991/8.6",
          "Crime,Drama,Thriller/1991/8.6",
          "Crime,Drama,Mystery/1995/8.6",
          "Comedy,Drama,Romance/1997/8.6",
          "Drama,War/1998/8.6",
          "Crime,Drama,Fantasy/1999/8.6",
          "Animation,Adventure,Family/2001/8.6",
          "Crime,Drama/2002/8.6",
          "Adventure,Drama,Sci-Fi/2014/8.6",
          "Drama/1975/8.7",
          "Action,Adventure,Fantasy/1980/8.7",
          "Biography,Crime,Drama/1990/8.7",
          "Action,Sci-Fi/1999/8.7",
          "Adventure,Western/1966/8.8",
          "Drama,Romance/1994/8.8",
          "Drama/1999/8.8",
          "Action,Adventure,Drama/2001/8.8",
          "Action,Adventure,Drama/2002/8.8",
          "Action,Adventure,Sci-Fi/2010/8.8",
          "Crime,Drama,Mystery/2021/8.8",
          "Crime,Drama/1994/8.9",
          "Crime,Drama/1957/9.0",
          "Crime,Drama/1974/9.0",
          "Biography,Drama,History/1993/9.0",
          "Action,Adventure,Drama/2003/9.0",
          "Action,Crime,Drama/2008/9.0",
          "Crime,Drama/1972/9.2",
          "Drama/1994/9.3",
          "Comedy,Drama,Family/1921",
          "Action,Comedy,Romance/1924",
          "Adventure,Comedy,Drama/1925",
          "Action,Adventure,Comedy/1926",
          "Drama,Sci-Fi/1927",
          "Biography,Drama,History/1928",
          "Comedy,Drama,Romance/1931",
          "Crime,Mystery,Thriller/1931",
          "Comedy,Romance/1934",
          "Comedy,Drama,Romance/1936",
          "Adventure,Family,Fantasy/1939",
          "Comedy,Drama/1939",
          "Drama,Romance,War/1939",
          "Comedy,Drama,War/1940",
          "Drama/1940",
          "Drama,Film-Noir,Mystery/1940",
          "Drama,Mystery/1941",
          "Comedy,Romance,War/1942",
          "Drama,Romance,War/1942",
          "Crime,Drama,Film-Noir/1944",
          "Drama,Family,Fantasy/1946",
          "Drama,Romance,War/1946",
          "Adventure,Drama,Western/1948",
          "Drama/1948",
          "Film-Noir,Mystery,Thriller/1949",
          "Crime,Drama,Mystery/1950",
          "Drama/1950",
          "Drama,Film-Noir/1950",
          "Comedy,Musical,Romance/1952",
          "Drama/1952",
          "Adventure,Drama,Thriller/1953",
          "Drama/1953",
          "Action,Drama/1954",
          "Crime,Drama,Thriller/1954",
          "Crime,Thriller/1954",
          "Mystery,Thriller/1954",
          "Drama/1955",
          "Adventure,Drama,War/1957",
          "Crime,Drama/1957",
          "Crime,Drama,Mystery/1957",
          "Drama,Fantasy/1957",
          "Drama,Romance/1957",
          "Drama,War/1957",
          "Mystery,Romance,Thriller/1958",
          "Action,Adventure,Mystery/1959",
          "Adventure,Drama/1959",
          "Comedy,Music,Romance/1959",
          "Crime,Drama/1959",
          "Comedy,Drama,Romance/1960",
          "Horror,Mystery,Thriller/1960",
          "Action,Drama,Thriller/1961",
          "Drama,War/1961",
          "Action,Drama,Mystery/1962",
          "Adventure,Biography,Drama/1962",
          "Crime,Drama/1962",
          "Adventure,Drama,History/1963",
          "Crime,Drama,Mystery/1963",
          "Comedy,War/1964",
          "Biography,Drama,Family/1965",
          "Western/1965",
          "Adventure,Western/1966",
          "Drama,Thriller/1966",
          "Drama,War/1966",
          "Crime,Drama/1967",
          "Adventure,Sci-Fi/1968",
          "Western/1968",
          "Crime,Sci-Fi/1971",
          "Crime,Drama/1972",
          "Comedy,Crime,Drama/1973",
          "Horror/1973",
          "Crime,Drama/1974",
          "Drama,Mystery,Thriller/1974",
          "Adventure,Biography,Drama/1975",
          "Adventure,Comedy,Fantasy/1975",
          "Adventure,Drama,War/1975",
          "Adventure,Thriller/1975",
          "Drama/1975",
          "Crime,Drama/1976",
          "Drama/1976",
          "Drama,Sport/1976",
          "Action,Adventure,Fantasy/1977",
          "Drama,War/1978",
          "Comedy/1979",
          "Drama,Mystery,War/1979",
          "Horror,Sci-Fi/1979",
          "Action,Adventure,Fantasy/1980",
          "Biography,Drama/1980",
          "Biography,Drama,Sport/1980",
          "Drama,Horror/1980",
          "Action,Adventure/1981",
          "Drama,War/1981",
          "Action,Drama,Sci-Fi/1982",
          "Biography,Drama,History/1982",
          "Horror,Mystery,Sci-Fi/1982",
          "Action,Adventure,Fantasy/1983",
          "Crime,Drama/1983",
          "Action,Sci-Fi/1984",
          "Biography,Drama,Music/1984",
          "Crime,Drama/1984",
          "Action,Drama,War/1985",
          "Adventure,Comedy,Sci-Fi/1985",
          "Drama,Thriller,War/1985",
          "Action,Adventure,Sci-Fi/1986",
          "Adventure,Drama/1986",
          "Drama,War/1986",
          "Drama,War/1987",
          "Action,Thriller/1988",
          "Animation,Comedy,Family/1988",
          "Animation,Drama,War/1988",
          "Drama,Romance/1988",
          "Action,Adventure/1989",
          "Comedy,Drama/1989",
          "Adventure,Drama,Western/1990",
          "Biography,Crime,Drama/1990",
          "Action,Sci-Fi/1991",
          "Crime,Drama,Thriller/1991",
          "Animation,Adventure,Comedy/1992",
          "Crime,Thriller/1992",
          "Drama,Western/1992",
          "Action,Adventure,Sci-Fi/1993",
          "Biography,Crime,Drama/1993",
          "Biography,Drama,History/1993",
          "Comedy,Drama,Fantasy/1993",
          "Action,Crime,Drama/1994",
          "Animation,Adventure,Drama/1994",
          "Crime,Drama/1994",
          "Drama/1994",
          "Drama,Romance/1994",
          "Action,Crime,Drama/1995",
          "Animation,Adventure,Comedy/1995",
          "Biography,Drama,History/1995",
          "Crime,Drama/1995",
          "Crime,Drama,Mystery/1995",
          "Drama,Romance/1995",
          "Crime,Thriller/1996",
          "Drama/1996",
          "Animation,Action,Adventure/1997",
          "Comedy,Drama,Romance/1997",
          "Crime,Drama,Mystery/1997",
          "Drama,Family,Sport/1997",
          "Drama,Romance/1997",
          "Action,Comedy,Crime/1998",
          "Comedy,Crime/1998",
          "Comedy,Drama/1998",
          "Crime,Drama/1998",
          "Drama,War/1998",
          "Action,Sci-Fi/1999",
          "Animation,Action,Adventure/1999",
          "Crime,Drama,Fantasy/1999",
          "Drama/1999",
          "Drama,Mystery,Thriller/1999",
          "Action,Adventure,Drama/2000",
          "Comedy,Crime/2000",
          "Drama/2000",
          "Drama,Thriller/2000",
          "Mystery,Thriller/2000",
          "Action,Adventure,Drama/2001",
          "Animation,Adventure,Comedy/2001",
          "Animation,Adventure,Family/2001",
          "Biography,Drama/2001",
          "Comedy,Romance/2001",
          "Action,Adventure,Drama/2002",
          "Biography,Crime,Drama/2002",
          "Biography,Drama,Music/2002",
          "Crime,Drama/2002",
          "Action,Adventure,Drama/2003",
          "Action,Adventure,Fantasy/2003",
          "Action,Crime,Drama/2003",
          "Action,Drama,Mystery/2003",
          "Animation,Adventure,Comedy/2003",
          "Crime,Drama,Mystery/2003",
          "Animation,Action,Adventure/2004",
          "Animation,Adventure,Family/2004",
          "Biography,Drama,History/2004",
          "Drama,Romance/2004",
          "Drama,Romance,Sci-Fi/2004",
          "Drama,Sport/2004",
          "Action,Crime,Drama/2005",
          "Action,Drama,Sci-Fi/2005",
          "Drama,Family/2005",
          "Crime,Drama,Thriller/2006",
          "Drama,Fantasy,War/2006",
          "Drama,Mystery,Sci-Fi/2006",
          "Drama,Mystery,Thriller/2006",
          "Adventure,Biography,Drama/2007",
          "Animation,Adventure,Comedy/2007",
          "Crime,Drama,Thriller/2007",
          "Drama/2007",
          "Drama,Family/2007",
          "Action,Crime,Drama/2008",
          "Animation,Adventure,Family/2008",
          "Drama/2008",
          "Adventure,Drama,War/2009",
          "Animation,Adventure,Comedy/2009",
          "Animation,Comedy,Drama/2009",
          "Biography,Drama,Family/2009",
          "Comedy,Drama/2009",
          "Drama,Mystery,Romance/2009",
          "Action,Adventure,Sci-Fi/2010",
          "Animation,Action,Adventure/2010",
          "Animation,Adventure,Comedy/2010",
          "Drama,Mystery/2010",
          "Mystery,Thriller/2010",
          "Action,Drama,Sport/2011",
          "Adventure,Family,Fantasy/2011",
          "Biography,Comedy,Drama/2011",
          "Drama/2011",
          "Action,Drama/2012",
          "Drama/2012",
          "Drama,Western/2012",
          "Action,Biography,Drama/2013",
          "Biography,Comedy,Crime/2013",
          "Biography,Drama,History/2013",
          "Crime,Drama,Mystery/2013",
          "Adventure,Comedy,Crime/2014",
          "Adventure,Drama,Sci-Fi/2014",
          "Comedy,Drama,Thriller/2014",
          "Drama,Music/2014",
          "Drama,Mystery,Thriller/2014",
          "Action,Adventure,Sci-Fi/2015",
          "Animation,Adventure,Comedy/2015",
          "Biography,Crime,Drama/2015",
          "Drama,Thriller/2015",
          "Action,Biography,Drama/2016",
          "Animation,Drama,Fantasy/2016",
          "Biography,Drama,History/2016",
          "Drama,Romance,Thriller/2016",
          "Action,Drama,Sci-Fi/2017",
          "Animation,Adventure,Comedy/2017",
          "Comedy,Crime,Drama/2017",
          "Action,Adventure,Sci-Fi/2018",
          "Animation,Action,Adventure/2018",
          "Biography,Comedy,Drama/2018",
          "Drama/2018",
          "Action,Adventure,Drama/2019",
          "Action,Biography,Drama/2019",
          "Action,Drama,War/2019",
          "Animation,Adventure,Comedy/2019",
          "Crime,Drama,Thriller/2019",
          "Drama,Thriller/2019",
          "Biography,Drama,History/2020",
          "Drama,Mystery/2020",
          "Action,Adventure,Fantasy/2021",
          "Crime,Drama,Mystery/2021",
          "Action,Drama/2022",
          "Action,Adventure",
          "Action,Adventure,Comedy",
          "Action,Adventure,Drama",
          "Action,Adventure,Fantasy",
          "Action,Adventure,Mystery",
          "Action,Adventure,Sci-Fi",
          "Action,Biography,Drama",
          "Action,Comedy,Crime",
          "Action,Comedy,Romance",
          "Action,Crime,Drama",
          "Action,Drama",
          "Action,Drama,Mystery",
          "Action,Drama,Sci-Fi",
          "Action,Drama,Sport",
          "Action,Drama,Thriller",
          "Action,Drama,War",
          "Action,Sci-Fi",
          "Action,Thriller",
          "Adventure,Biography,Drama",
          "Adventure,Comedy,Crime",
          "Adventure,Comedy,Drama",
          "Adventure,Comedy,Fantasy",
          "Adventure,Comedy,Sci-Fi",
          "Adventure,Drama",
          "Adventure,Drama,History",
          "Adventure,Drama,Sci-Fi",
          "Adventure,Drama,Thriller",
          "Adventure,Drama,War",
          "Adventure,Drama,Western",
          "Adventure,Family,Fantasy",
          "Adventure,Sci-Fi",
          "Adventure,Thriller",
          "Adventure,Western",
          "Animation,Action,Adventure",
          "Animation,Adventure,Comedy",
          "Animation,Adventure,Drama",
          "Animation,Adventure,Family",
          "Animation,Comedy,Drama",
          "Animation,Comedy,Family",
          "Animation,Drama,Fantasy",
          "Animation,Drama,War",
          "Biography,Comedy,Crime",
          "Biography,Comedy,Drama",
          "Biography,Crime,Drama",
          "Biography,Drama",
          "Biography,Drama,Family",
          "Biography,Drama,History",
          "Biography,Drama,Music",
          "Biography,Drama,Sport",
          "Comedy",
          "Comedy,Crime",
          "Comedy,Crime,Drama",
          "Comedy,Drama",
          "Comedy,Drama,Family",
          "Comedy,Drama,Fantasy",
          "Comedy,Drama,Romance",
          "Comedy,Drama,Thriller",
          "Comedy,Drama,War",
          "Comedy,Music,Romance",
          "Comedy,Musical,Romance",
          "Comedy,Romance",
          "Comedy,Romance,War",
          "Comedy,War",
          "Crime,Drama",
          "Crime,Drama,Fantasy",
          "Crime,Drama,Film-Noir",
          "Crime,Drama,Mystery",
          "Crime,Drama,Thriller",
          "Crime,Mystery,Thriller",
          "Crime,Sci-Fi",
          "Crime,Thriller",
          "Drama",
          "Drama,Family",
          "Drama,Family,Fantasy",
          "Drama,Family,Sport",
          "Drama,Fantasy",
          "Drama,Fantasy,War",
          "Drama,Film-Noir",
          "Drama,Film-Noir,Mystery",
          "Drama,Horror",
          "Drama,Music",
          "Drama,Mystery",
          "Drama,Mystery,Romance",
          "Drama,Mystery,Sci-Fi",
          "Drama,Mystery,Thriller",
          "Drama,Mystery,War",
          "Drama,Romance",
          "Drama,Romance,Sci-Fi",
          "Drama,Romance,Thriller",
          "Drama,Romance,War",
          "Drama,Sci-Fi",
          "Drama,Sport",
          "Drama,Thriller",
          "Drama,Thriller,War",
          "Drama,War",
          "Drama,Western",
          "Film-Noir,Mystery,Thriller",
          "Horror",
          "Horror,Mystery,Sci-Fi",
          "Horror,Mystery,Thriller",
          "Horror,Sci-Fi",
          "Mystery,Romance,Thriller",
          "Mystery,Thriller",
          "Western"
         ],
         "labels": [
          "8.0",
          "8.0",
          "8.0",
          "8.0",
          "8.0",
          "8.1",
          "8.1",
          "8.1",
          "8.1",
          "8.1",
          "8.1",
          "8.1",
          "8.1",
          "8.1",
          "8.1",
          "8.1",
          "8.1",
          "8.1",
          "8.1",
          "8.1",
          "8.1",
          "8.1",
          "8.1",
          "8.1",
          "8.1",
          "8.1",
          "8.1",
          "8.1",
          "8.1",
          "8.1",
          "8.1",
          "8.1",
          "8.1",
          "8.1",
          "8.1",
          "8.1",
          "8.1",
          "8.1",
          "8.1",
          "8.1",
          "8.1",
          "8.1",
          "8.1",
          "8.1",
          "8.1",
          "8.1",
          "8.1",
          "8.1",
          "8.1",
          "8.1",
          "8.1",
          "8.1",
          "8.1",
          "8.1",
          "8.1",
          "8.1",
          "8.1",
          "8.1",
          "8.1",
          "8.1",
          "8.1",
          "8.1",
          "8.1",
          "8.1",
          "8.1",
          "8.1",
          "8.1",
          "8.1",
          "8.1",
          "8.1",
          "8.1",
          "8.1",
          "8.1",
          "8.2",
          "8.2",
          "8.2",
          "8.2",
          "8.2",
          "8.2",
          "8.2",
          "8.2",
          "8.2",
          "8.2",
          "8.2",
          "8.2",
          "8.2",
          "8.2",
          "8.2",
          "8.2",
          "8.2",
          "8.2",
          "8.2",
          "8.2",
          "8.2",
          "8.2",
          "8.2",
          "8.2",
          "8.2",
          "8.2",
          "8.2",
          "8.2",
          "8.2",
          "8.2",
          "8.2",
          "8.2",
          "8.2",
          "8.2",
          "8.2",
          "8.2",
          "8.2",
          "8.2",
          "8.2",
          "8.2",
          "8.2",
          "8.2",
          "8.2",
          "8.2",
          "8.2",
          "8.2",
          "8.2",
          "8.2",
          "8.2",
          "8.2",
          "8.2",
          "8.2",
          "8.2",
          "8.2",
          "8.2",
          "8.3",
          "8.3",
          "8.3",
          "8.3",
          "8.3",
          "8.3",
          "8.3",
          "8.3",
          "8.3",
          "8.3",
          "8.3",
          "8.3",
          "8.3",
          "8.3",
          "8.3",
          "8.3",
          "8.3",
          "8.3",
          "8.3",
          "8.3",
          "8.3",
          "8.3",
          "8.3",
          "8.3",
          "8.3",
          "8.3",
          "8.3",
          "8.3",
          "8.3",
          "8.3",
          "8.3",
          "8.3",
          "8.3",
          "8.3",
          "8.3",
          "8.3",
          "8.3",
          "8.3",
          "8.4",
          "8.4",
          "8.4",
          "8.4",
          "8.4",
          "8.4",
          "8.4",
          "8.4",
          "8.4",
          "8.4",
          "8.4",
          "8.4",
          "8.4",
          "8.4",
          "8.4",
          "8.4",
          "8.4",
          "8.4",
          "8.4",
          "8.4",
          "8.4",
          "8.4",
          "8.4",
          "8.4",
          "8.4",
          "8.4",
          "8.4",
          "8.4",
          "8.4",
          "8.4",
          "8.5",
          "8.5",
          "8.5",
          "8.5",
          "8.5",
          "8.5",
          "8.5",
          "8.5",
          "8.5",
          "8.5",
          "8.5",
          "8.5",
          "8.5",
          "8.5",
          "8.5",
          "8.5",
          "8.5",
          "8.5",
          "8.5",
          "8.5",
          "8.5",
          "8.5",
          "8.6",
          "8.6",
          "8.6",
          "8.6",
          "8.6",
          "8.6",
          "8.6",
          "8.6",
          "8.6",
          "8.6",
          "8.6",
          "8.6",
          "8.6",
          "8.7",
          "8.7",
          "8.7",
          "8.7",
          "8.8",
          "8.8",
          "8.8",
          "8.8",
          "8.8",
          "8.8",
          "8.8",
          "8.9",
          "9.0",
          "9.0",
          "9.0",
          "9.0",
          "9.0",
          "9.2",
          "9.3",
          "1921",
          "1924",
          "1925",
          "1926",
          "1927",
          "1928",
          "1931",
          "1931",
          "1934",
          "1936",
          "1939",
          "1939",
          "1939",
          "1940",
          "1940",
          "1940",
          "1941",
          "1942",
          "1942",
          "1944",
          "1946",
          "1946",
          "1948",
          "1948",
          "1949",
          "1950",
          "1950",
          "1950",
          "1952",
          "1952",
          "1953",
          "1953",
          "1954",
          "1954",
          "1954",
          "1954",
          "1955",
          "1957",
          "1957",
          "1957",
          "1957",
          "1957",
          "1957",
          "1958",
          "1959",
          "1959",
          "1959",
          "1959",
          "1960",
          "1960",
          "1961",
          "1961",
          "1962",
          "1962",
          "1962",
          "1963",
          "1963",
          "1964",
          "1965",
          "1965",
          "1966",
          "1966",
          "1966",
          "1967",
          "1968",
          "1968",
          "1971",
          "1972",
          "1973",
          "1973",
          "1974",
          "1974",
          "1975",
          "1975",
          "1975",
          "1975",
          "1975",
          "1976",
          "1976",
          "1976",
          "1977",
          "1978",
          "1979",
          "1979",
          "1979",
          "1980",
          "1980",
          "1980",
          "1980",
          "1981",
          "1981",
          "1982",
          "1982",
          "1982",
          "1983",
          "1983",
          "1984",
          "1984",
          "1984",
          "1985",
          "1985",
          "1985",
          "1986",
          "1986",
          "1986",
          "1987",
          "1988",
          "1988",
          "1988",
          "1988",
          "1989",
          "1989",
          "1990",
          "1990",
          "1991",
          "1991",
          "1992",
          "1992",
          "1992",
          "1993",
          "1993",
          "1993",
          "1993",
          "1994",
          "1994",
          "1994",
          "1994",
          "1994",
          "1995",
          "1995",
          "1995",
          "1995",
          "1995",
          "1995",
          "1996",
          "1996",
          "1997",
          "1997",
          "1997",
          "1997",
          "1997",
          "1998",
          "1998",
          "1998",
          "1998",
          "1998",
          "1999",
          "1999",
          "1999",
          "1999",
          "1999",
          "2000",
          "2000",
          "2000",
          "2000",
          "2000",
          "2001",
          "2001",
          "2001",
          "2001",
          "2001",
          "2002",
          "2002",
          "2002",
          "2002",
          "2003",
          "2003",
          "2003",
          "2003",
          "2003",
          "2003",
          "2004",
          "2004",
          "2004",
          "2004",
          "2004",
          "2004",
          "2005",
          "2005",
          "2005",
          "2006",
          "2006",
          "2006",
          "2006",
          "2007",
          "2007",
          "2007",
          "2007",
          "2007",
          "2008",
          "2008",
          "2008",
          "2009",
          "2009",
          "2009",
          "2009",
          "2009",
          "2009",
          "2010",
          "2010",
          "2010",
          "2010",
          "2010",
          "2011",
          "2011",
          "2011",
          "2011",
          "2012",
          "2012",
          "2012",
          "2013",
          "2013",
          "2013",
          "2013",
          "2014",
          "2014",
          "2014",
          "2014",
          "2014",
          "2015",
          "2015",
          "2015",
          "2015",
          "2016",
          "2016",
          "2016",
          "2016",
          "2017",
          "2017",
          "2017",
          "2018",
          "2018",
          "2018",
          "2018",
          "2019",
          "2019",
          "2019",
          "2019",
          "2019",
          "2019",
          "2020",
          "2020",
          "2021",
          "2021",
          "2022",
          "Action,Adventure",
          "Action,Adventure,Comedy",
          "Action,Adventure,Drama",
          "Action,Adventure,Fantasy",
          "Action,Adventure,Mystery",
          "Action,Adventure,Sci-Fi",
          "Action,Biography,Drama",
          "Action,Comedy,Crime",
          "Action,Comedy,Romance",
          "Action,Crime,Drama",
          "Action,Drama",
          "Action,Drama,Mystery",
          "Action,Drama,Sci-Fi",
          "Action,Drama,Sport",
          "Action,Drama,Thriller",
          "Action,Drama,War",
          "Action,Sci-Fi",
          "Action,Thriller",
          "Adventure,Biography,Drama",
          "Adventure,Comedy,Crime",
          "Adventure,Comedy,Drama",
          "Adventure,Comedy,Fantasy",
          "Adventure,Comedy,Sci-Fi",
          "Adventure,Drama",
          "Adventure,Drama,History",
          "Adventure,Drama,Sci-Fi",
          "Adventure,Drama,Thriller",
          "Adventure,Drama,War",
          "Adventure,Drama,Western",
          "Adventure,Family,Fantasy",
          "Adventure,Sci-Fi",
          "Adventure,Thriller",
          "Adventure,Western",
          "Animation,Action,Adventure",
          "Animation,Adventure,Comedy",
          "Animation,Adventure,Drama",
          "Animation,Adventure,Family",
          "Animation,Comedy,Drama",
          "Animation,Comedy,Family",
          "Animation,Drama,Fantasy",
          "Animation,Drama,War",
          "Biography,Comedy,Crime",
          "Biography,Comedy,Drama",
          "Biography,Crime,Drama",
          "Biography,Drama",
          "Biography,Drama,Family",
          "Biography,Drama,History",
          "Biography,Drama,Music",
          "Biography,Drama,Sport",
          "Comedy",
          "Comedy,Crime",
          "Comedy,Crime,Drama",
          "Comedy,Drama",
          "Comedy,Drama,Family",
          "Comedy,Drama,Fantasy",
          "Comedy,Drama,Romance",
          "Comedy,Drama,Thriller",
          "Comedy,Drama,War",
          "Comedy,Music,Romance",
          "Comedy,Musical,Romance",
          "Comedy,Romance",
          "Comedy,Romance,War",
          "Comedy,War",
          "Crime,Drama",
          "Crime,Drama,Fantasy",
          "Crime,Drama,Film-Noir",
          "Crime,Drama,Mystery",
          "Crime,Drama,Thriller",
          "Crime,Mystery,Thriller",
          "Crime,Sci-Fi",
          "Crime,Thriller",
          "Drama",
          "Drama,Family",
          "Drama,Family,Fantasy",
          "Drama,Family,Sport",
          "Drama,Fantasy",
          "Drama,Fantasy,War",
          "Drama,Film-Noir",
          "Drama,Film-Noir,Mystery",
          "Drama,Horror",
          "Drama,Music",
          "Drama,Mystery",
          "Drama,Mystery,Romance",
          "Drama,Mystery,Sci-Fi",
          "Drama,Mystery,Thriller",
          "Drama,Mystery,War",
          "Drama,Romance",
          "Drama,Romance,Sci-Fi",
          "Drama,Romance,Thriller",
          "Drama,Romance,War",
          "Drama,Sci-Fi",
          "Drama,Sport",
          "Drama,Thriller",
          "Drama,Thriller,War",
          "Drama,War",
          "Drama,Western",
          "Film-Noir,Mystery,Thriller",
          "Horror",
          "Horror,Mystery,Sci-Fi",
          "Horror,Mystery,Thriller",
          "Horror,Sci-Fi",
          "Mystery,Romance,Thriller",
          "Mystery,Thriller",
          "Western"
         ],
         "name": "",
         "parents": [
          "Comedy/1979",
          "Biography,Drama,History/1982",
          "Adventure,Drama,Western/1990",
          "Animation,Adventure,Comedy/1992",
          "Animation,Action,Adventure/2004",
          "Adventure,Comedy,Drama/1925",
          "Action,Adventure,Comedy/1926",
          "Comedy,Romance/1934",
          "Adventure,Family,Fantasy/1939",
          "Comedy,Drama/1939",
          "Drama/1940",
          "Drama,Film-Noir,Mystery/1940",
          "Drama,Romance,War/1946",
          "Film-Noir,Mystery,Thriller/1949",
          "Crime,Drama,Thriller/1954",
          "Drama,Fantasy/1957",
          "Drama,Romance/1957",
          "Adventure,Drama/1959",
          "Crime,Drama/1959",
          "Biography,Drama,Family/1965",
          "Drama,Thriller/1966",
          "Drama,War/1966",
          "Crime,Drama/1967",
          "Horror/1973",
          "Adventure,Drama,War/1975",
          "Adventure,Thriller/1975",
          "Drama/1976",
          "Drama,Sport/1976",
          "Drama,War/1978",
          "Action,Drama,Sci-Fi/1982",
          "Action,Sci-Fi/1984",
          "Adventure,Drama/1986",
          "Drama,War/1986",
          "Animation,Comedy,Family/1988",
          "Comedy,Drama/1989",
          "Biography,Crime,Drama/1993",
          "Comedy,Drama,Fantasy/1993",
          "Crime,Drama/1995",
          "Drama,Romance/1995",
          "Crime,Thriller/1996",
          "Drama/1996",
          "Comedy,Crime/1998",
          "Animation,Action,Adventure/1999",
          "Drama,Thriller/2000",
          "Animation,Adventure,Comedy/2001",
          "Biography,Crime,Drama/2002",
          "Action,Adventure,Fantasy/2003",
          "Crime,Drama,Mystery/2003",
          "Biography,Drama,History/2004",
          "Drama,Romance/2004",
          "Drama,Sport/2004",
          "Adventure,Biography,Drama/2007",
          "Animation,Adventure,Comedy/2007",
          "Drama/2008",
          "Animation,Comedy,Drama/2009",
          "Biography,Drama,Family/2009",
          "Animation,Action,Adventure/2010",
          "Adventure,Family,Fantasy/2011",
          "Drama/2011",
          "Action,Biography,Drama/2013",
          "Biography,Drama,History/2013",
          "Crime,Drama,Mystery/2013",
          "Adventure,Comedy,Crime/2014",
          "Comedy,Drama,Thriller/2014",
          "Drama,Mystery,Thriller/2014",
          "Action,Adventure,Sci-Fi/2015",
          "Biography,Crime,Drama/2015",
          "Drama,Thriller/2015",
          "Biography,Drama,History/2016",
          "Drama,Romance,Thriller/2016",
          "Action,Drama,Sci-Fi/2017",
          "Comedy,Crime,Drama/2017",
          "Action,Biography,Drama/2019",
          "Action,Comedy,Romance/1924",
          "Biography,Drama,History/1928",
          "Drama,Romance,War/1939",
          "Comedy,Romance,War/1942",
          "Adventure,Drama,Western/1948",
          "Crime,Drama,Mystery/1950",
          "Drama/1950",
          "Adventure,Drama,Thriller/1953",
          "Drama/1953",
          "Crime,Thriller/1954",
          "Adventure,Drama,War/1957",
          "Comedy,Music,Romance/1959",
          "Action,Drama,Thriller/1961",
          "Adventure,Drama,History/1963",
          "Western/1965",
          "Drama,Mystery,Thriller/1974",
          "Adventure,Biography,Drama/1975",
          "Adventure,Comedy,Fantasy/1975",
          "Crime,Drama/1976",
          "Biography,Drama/1980",
          "Biography,Drama,Sport/1980",
          "Horror,Mystery,Sci-Fi/1982",
          "Action,Drama,War/1985",
          "Action,Thriller/1988",
          "Action,Adventure/1989",
          "Drama,Western/1992",
          "Action,Adventure,Sci-Fi/1993",
          "Crime,Drama/1995",
          "Crime,Drama,Mystery/1997",
          "Drama,Family,Sport/1997",
          "Action,Comedy,Crime/1998",
          "Comedy,Drama/1998",
          "Drama,Mystery,Thriller/1999",
          "Comedy,Crime/2000",
          "Biography,Drama/2001",
          "Action,Crime,Drama/2003",
          "Animation,Adventure,Comedy/2003",
          "Animation,Adventure,Family/2004",
          "Biography,Drama,History/2004",
          "Action,Crime,Drama/2005",
          "Action,Drama,Sci-Fi/2005",
          "Drama,Family/2005",
          "Drama,Fantasy,War/2006",
          "Crime,Drama,Thriller/2007",
          "Drama/2007",
          "Drama,Mystery,Romance/2009",
          "Mystery,Thriller/2010",
          "Action,Drama,Sport/2011",
          "Biography,Comedy,Crime/2013",
          "Animation,Adventure,Comedy/2015",
          "Biography,Comedy,Drama/2018",
          "Action,Drama,War/2019",
          "Animation,Adventure,Comedy/2019",
          "Drama,Mystery/2020",
          "Action,Adventure,Fantasy/2021",
          "Comedy,Drama,Family/1921",
          "Drama,Sci-Fi/1927",
          "Crime,Mystery,Thriller/1931",
          "Drama,Mystery/1941",
          "Crime,Drama,Film-Noir/1944",
          "Drama/1948",
          "Comedy,Musical,Romance/1952",
          "Drama/1952",
          "Drama/1955",
          "Mystery,Romance,Thriller/1958",
          "Action,Adventure,Mystery/1959",
          "Comedy,Drama,Romance/1960",
          "Drama,War/1961",
          "Adventure,Biography,Drama/1962",
          "Crime,Drama/1962",
          "Adventure,Sci-Fi/1968",
          "Crime,Sci-Fi/1971",
          "Comedy,Crime,Drama/1973",
          "Action,Adventure,Fantasy/1983",
          "Crime,Drama/1983",
          "Crime,Drama/1984",
          "Drama,War/1987",
          "Crime,Thriller/1992",
          "Action,Crime,Drama/1995",
          "Animation,Adventure,Comedy/1995",
          "Drama,Romance/1997",
          "Drama/2000",
          "Comedy,Romance/2001",
          "Drama,Romance,Sci-Fi/2004",
          "Drama,Family/2007",
          "Adventure,Drama,War/2009",
          "Animation,Adventure,Comedy/2009",
          "Animation,Adventure,Comedy/2010",
          "Drama,Mystery/2010",
          "Drama/2011",
          "Drama/2012",
          "Action,Biography,Drama/2016",
          "Action,Drama/2022",
          "Comedy,Drama,War/1940",
          "Drama,Film-Noir/1950",
          "Crime,Drama,Mystery/1957",
          "Drama,War/1957",
          "Crime,Drama,Mystery/1963",
          "Comedy,War/1964",
          "Drama,Horror/1980",
          "Action,Adventure/1981",
          "Drama,War/1981",
          "Biography,Drama,Music/1984",
          "Drama,Thriller,War/1985",
          "Action,Adventure,Sci-Fi/1986",
          "Biography,Drama,History/1995",
          "Animation,Action,Adventure/1997",
          "Drama/1999",
          "Mystery,Thriller/2000",
          "Action,Drama,Mystery/2003",
          "Drama,Mystery,Thriller/2006",
          "Animation,Adventure,Family/2008",
          "Comedy,Drama/2009",
          "Action,Drama/2012",
          "Drama,Western/2012",
          "Animation,Drama,Fantasy/2016",
          "Animation,Adventure,Comedy/2017",
          "Action,Adventure,Sci-Fi/2018",
          "Animation,Action,Adventure/2018",
          "Drama/2018",
          "Action,Adventure,Drama/2019",
          "Crime,Drama,Thriller/2019",
          "Biography,Drama,History/2020",
          "Comedy,Drama,Romance/1931",
          "Comedy,Drama,Romance/1936",
          "Drama,Romance,War/1942",
          "Mystery,Thriller/1954",
          "Horror,Mystery,Thriller/1960",
          "Western/1968",
          "Drama,Mystery,War/1979",
          "Horror,Sci-Fi/1979",
          "Adventure,Comedy,Sci-Fi/1985",
          "Animation,Drama,War/1988",
          "Drama,Romance/1988",
          "Action,Crime,Drama/1994",
          "Animation,Adventure,Drama/1994",
          "Crime,Drama,Mystery/1995",
          "Crime,Drama/1998",
          "Action,Adventure,Drama/2000",
          "Biography,Drama,Music/2002",
          "Crime,Drama,Thriller/2006",
          "Drama,Mystery,Sci-Fi/2006",
          "Biography,Comedy,Drama/2011",
          "Drama,Music/2014",
          "Drama,Thriller/2019",
          "Drama,Family,Fantasy/1946",
          "Action,Drama/1954",
          "Action,Drama,Mystery/1962",
          "Action,Adventure,Fantasy/1977",
          "Action,Sci-Fi/1991",
          "Crime,Drama,Thriller/1991",
          "Crime,Drama,Mystery/1995",
          "Comedy,Drama,Romance/1997",
          "Drama,War/1998",
          "Crime,Drama,Fantasy/1999",
          "Animation,Adventure,Family/2001",
          "Crime,Drama/2002",
          "Adventure,Drama,Sci-Fi/2014",
          "Drama/1975",
          "Action,Adventure,Fantasy/1980",
          "Biography,Crime,Drama/1990",
          "Action,Sci-Fi/1999",
          "Adventure,Western/1966",
          "Drama,Romance/1994",
          "Drama/1999",
          "Action,Adventure,Drama/2001",
          "Action,Adventure,Drama/2002",
          "Action,Adventure,Sci-Fi/2010",
          "Crime,Drama,Mystery/2021",
          "Crime,Drama/1994",
          "Crime,Drama/1957",
          "Crime,Drama/1974",
          "Biography,Drama,History/1993",
          "Action,Adventure,Drama/2003",
          "Action,Crime,Drama/2008",
          "Crime,Drama/1972",
          "Drama/1994",
          "Comedy,Drama,Family",
          "Action,Comedy,Romance",
          "Adventure,Comedy,Drama",
          "Action,Adventure,Comedy",
          "Drama,Sci-Fi",
          "Biography,Drama,History",
          "Comedy,Drama,Romance",
          "Crime,Mystery,Thriller",
          "Comedy,Romance",
          "Comedy,Drama,Romance",
          "Adventure,Family,Fantasy",
          "Comedy,Drama",
          "Drama,Romance,War",
          "Comedy,Drama,War",
          "Drama",
          "Drama,Film-Noir,Mystery",
          "Drama,Mystery",
          "Comedy,Romance,War",
          "Drama,Romance,War",
          "Crime,Drama,Film-Noir",
          "Drama,Family,Fantasy",
          "Drama,Romance,War",
          "Adventure,Drama,Western",
          "Drama",
          "Film-Noir,Mystery,Thriller",
          "Crime,Drama,Mystery",
          "Drama",
          "Drama,Film-Noir",
          "Comedy,Musical,Romance",
          "Drama",
          "Adventure,Drama,Thriller",
          "Drama",
          "Action,Drama",
          "Crime,Drama,Thriller",
          "Crime,Thriller",
          "Mystery,Thriller",
          "Drama",
          "Adventure,Drama,War",
          "Crime,Drama",
          "Crime,Drama,Mystery",
          "Drama,Fantasy",
          "Drama,Romance",
          "Drama,War",
          "Mystery,Romance,Thriller",
          "Action,Adventure,Mystery",
          "Adventure,Drama",
          "Comedy,Music,Romance",
          "Crime,Drama",
          "Comedy,Drama,Romance",
          "Horror,Mystery,Thriller",
          "Action,Drama,Thriller",
          "Drama,War",
          "Action,Drama,Mystery",
          "Adventure,Biography,Drama",
          "Crime,Drama",
          "Adventure,Drama,History",
          "Crime,Drama,Mystery",
          "Comedy,War",
          "Biography,Drama,Family",
          "Western",
          "Adventure,Western",
          "Drama,Thriller",
          "Drama,War",
          "Crime,Drama",
          "Adventure,Sci-Fi",
          "Western",
          "Crime,Sci-Fi",
          "Crime,Drama",
          "Comedy,Crime,Drama",
          "Horror",
          "Crime,Drama",
          "Drama,Mystery,Thriller",
          "Adventure,Biography,Drama",
          "Adventure,Comedy,Fantasy",
          "Adventure,Drama,War",
          "Adventure,Thriller",
          "Drama",
          "Crime,Drama",
          "Drama",
          "Drama,Sport",
          "Action,Adventure,Fantasy",
          "Drama,War",
          "Comedy",
          "Drama,Mystery,War",
          "Horror,Sci-Fi",
          "Action,Adventure,Fantasy",
          "Biography,Drama",
          "Biography,Drama,Sport",
          "Drama,Horror",
          "Action,Adventure",
          "Drama,War",
          "Action,Drama,Sci-Fi",
          "Biography,Drama,History",
          "Horror,Mystery,Sci-Fi",
          "Action,Adventure,Fantasy",
          "Crime,Drama",
          "Action,Sci-Fi",
          "Biography,Drama,Music",
          "Crime,Drama",
          "Action,Drama,War",
          "Adventure,Comedy,Sci-Fi",
          "Drama,Thriller,War",
          "Action,Adventure,Sci-Fi",
          "Adventure,Drama",
          "Drama,War",
          "Drama,War",
          "Action,Thriller",
          "Animation,Comedy,Family",
          "Animation,Drama,War",
          "Drama,Romance",
          "Action,Adventure",
          "Comedy,Drama",
          "Adventure,Drama,Western",
          "Biography,Crime,Drama",
          "Action,Sci-Fi",
          "Crime,Drama,Thriller",
          "Animation,Adventure,Comedy",
          "Crime,Thriller",
          "Drama,Western",
          "Action,Adventure,Sci-Fi",
          "Biography,Crime,Drama",
          "Biography,Drama,History",
          "Comedy,Drama,Fantasy",
          "Action,Crime,Drama",
          "Animation,Adventure,Drama",
          "Crime,Drama",
          "Drama",
          "Drama,Romance",
          "Action,Crime,Drama",
          "Animation,Adventure,Comedy",
          "Biography,Drama,History",
          "Crime,Drama",
          "Crime,Drama,Mystery",
          "Drama,Romance",
          "Crime,Thriller",
          "Drama",
          "Animation,Action,Adventure",
          "Comedy,Drama,Romance",
          "Crime,Drama,Mystery",
          "Drama,Family,Sport",
          "Drama,Romance",
          "Action,Comedy,Crime",
          "Comedy,Crime",
          "Comedy,Drama",
          "Crime,Drama",
          "Drama,War",
          "Action,Sci-Fi",
          "Animation,Action,Adventure",
          "Crime,Drama,Fantasy",
          "Drama",
          "Drama,Mystery,Thriller",
          "Action,Adventure,Drama",
          "Comedy,Crime",
          "Drama",
          "Drama,Thriller",
          "Mystery,Thriller",
          "Action,Adventure,Drama",
          "Animation,Adventure,Comedy",
          "Animation,Adventure,Family",
          "Biography,Drama",
          "Comedy,Romance",
          "Action,Adventure,Drama",
          "Biography,Crime,Drama",
          "Biography,Drama,Music",
          "Crime,Drama",
          "Action,Adventure,Drama",
          "Action,Adventure,Fantasy",
          "Action,Crime,Drama",
          "Action,Drama,Mystery",
          "Animation,Adventure,Comedy",
          "Crime,Drama,Mystery",
          "Animation,Action,Adventure",
          "Animation,Adventure,Family",
          "Biography,Drama,History",
          "Drama,Romance",
          "Drama,Romance,Sci-Fi",
          "Drama,Sport",
          "Action,Crime,Drama",
          "Action,Drama,Sci-Fi",
          "Drama,Family",
          "Crime,Drama,Thriller",
          "Drama,Fantasy,War",
          "Drama,Mystery,Sci-Fi",
          "Drama,Mystery,Thriller",
          "Adventure,Biography,Drama",
          "Animation,Adventure,Comedy",
          "Crime,Drama,Thriller",
          "Drama",
          "Drama,Family",
          "Action,Crime,Drama",
          "Animation,Adventure,Family",
          "Drama",
          "Adventure,Drama,War",
          "Animation,Adventure,Comedy",
          "Animation,Comedy,Drama",
          "Biography,Drama,Family",
          "Comedy,Drama",
          "Drama,Mystery,Romance",
          "Action,Adventure,Sci-Fi",
          "Animation,Action,Adventure",
          "Animation,Adventure,Comedy",
          "Drama,Mystery",
          "Mystery,Thriller",
          "Action,Drama,Sport",
          "Adventure,Family,Fantasy",
          "Biography,Comedy,Drama",
          "Drama",
          "Action,Drama",
          "Drama",
          "Drama,Western",
          "Action,Biography,Drama",
          "Biography,Comedy,Crime",
          "Biography,Drama,History",
          "Crime,Drama,Mystery",
          "Adventure,Comedy,Crime",
          "Adventure,Drama,Sci-Fi",
          "Comedy,Drama,Thriller",
          "Drama,Music",
          "Drama,Mystery,Thriller",
          "Action,Adventure,Sci-Fi",
          "Animation,Adventure,Comedy",
          "Biography,Crime,Drama",
          "Drama,Thriller",
          "Action,Biography,Drama",
          "Animation,Drama,Fantasy",
          "Biography,Drama,History",
          "Drama,Romance,Thriller",
          "Action,Drama,Sci-Fi",
          "Animation,Adventure,Comedy",
          "Comedy,Crime,Drama",
          "Action,Adventure,Sci-Fi",
          "Animation,Action,Adventure",
          "Biography,Comedy,Drama",
          "Drama",
          "Action,Adventure,Drama",
          "Action,Biography,Drama",
          "Action,Drama,War",
          "Animation,Adventure,Comedy",
          "Crime,Drama,Thriller",
          "Drama,Thriller",
          "Biography,Drama,History",
          "Drama,Mystery",
          "Action,Adventure,Fantasy",
          "Crime,Drama,Mystery",
          "Action,Drama",
          "",
          "",
          "",
          "",
          "",
          "",
          "",
          "",
          "",
          "",
          "",
          "",
          "",
          "",
          "",
          "",
          "",
          "",
          "",
          "",
          "",
          "",
          "",
          "",
          "",
          "",
          "",
          "",
          "",
          "",
          "",
          "",
          "",
          "",
          "",
          "",
          "",
          "",
          "",
          "",
          "",
          "",
          "",
          "",
          "",
          "",
          "",
          "",
          "",
          "",
          "",
          "",
          "",
          "",
          "",
          "",
          "",
          "",
          "",
          "",
          "",
          "",
          "",
          "",
          "",
          "",
          "",
          "",
          "",
          "",
          "",
          "",
          "",
          "",
          "",
          "",
          "",
          "",
          "",
          "",
          "",
          "",
          "",
          "",
          "",
          "",
          "",
          "",
          "",
          "",
          "",
          "",
          "",
          "",
          "",
          "",
          "",
          "",
          "",
          "",
          "",
          "",
          "",
          ""
         ],
         "type": "sunburst",
         "values": [
          1,
          1,
          1,
          1,
          1,
          1,
          1,
          1,
          1,
          1,
          1,
          1,
          1,
          1,
          1,
          1,
          1,
          1,
          1,
          1,
          1,
          1,
          1,
          1,
          1,
          1,
          1,
          1,
          1,
          1,
          1,
          1,
          1,
          1,
          1,
          1,
          1,
          1,
          1,
          1,
          1,
          1,
          1,
          1,
          1,
          1,
          1,
          1,
          1,
          1,
          1,
          1,
          1,
          1,
          1,
          1,
          1,
          1,
          1,
          1,
          1,
          1,
          1,
          1,
          1,
          1,
          1,
          1,
          1,
          1,
          1,
          1,
          1,
          1,
          1,
          1,
          1,
          1,
          1,
          1,
          1,
          1,
          1,
          1,
          1,
          1,
          1,
          1,
          1,
          1,
          1,
          1,
          1,
          1,
          1,
          1,
          1,
          1,
          1,
          1,
          1,
          1,
          1,
          1,
          1,
          1,
          1,
          1,
          1,
          1,
          1,
          1,
          1,
          1,
          1,
          1,
          1,
          1,
          1,
          1,
          1,
          1,
          1,
          1,
          1,
          1,
          1,
          1,
          1,
          1,
          1,
          1,
          1,
          1,
          1,
          1,
          1,
          1,
          1,
          1,
          1,
          1,
          1,
          1,
          1,
          1,
          1,
          1,
          1,
          1,
          1,
          1,
          1,
          1,
          1,
          1,
          1,
          1,
          1,
          1,
          1,
          1,
          1,
          1,
          1,
          1,
          1,
          1,
          1,
          1,
          1,
          1,
          1,
          1,
          1,
          1,
          1,
          1,
          1,
          1,
          1,
          1,
          1,
          1,
          1,
          1,
          1,
          1,
          1,
          1,
          1,
          1,
          1,
          1,
          1,
          1,
          1,
          1,
          1,
          1,
          1,
          1,
          1,
          1,
          1,
          1,
          1,
          1,
          1,
          1,
          1,
          1,
          1,
          1,
          1,
          1,
          1,
          1,
          1,
          1,
          1,
          1,
          1,
          1,
          1,
          1,
          1,
          1,
          1,
          1,
          1,
          1,
          1,
          1,
          1,
          1,
          1,
          1,
          1,
          1,
          1,
          1,
          1,
          1,
          1,
          1,
          1,
          1,
          1,
          1,
          1,
          1,
          1,
          1,
          1,
          1,
          1,
          1,
          1,
          1,
          1,
          1,
          1,
          1,
          1,
          1,
          1,
          1,
          1,
          1,
          1,
          1,
          1,
          1,
          1,
          1,
          1,
          1,
          1,
          1,
          1,
          1,
          1,
          1,
          1,
          1,
          1,
          1,
          1,
          1,
          1,
          1,
          1,
          1,
          1,
          1,
          1,
          1,
          1,
          1,
          1,
          1,
          1,
          1,
          1,
          1,
          1,
          1,
          1,
          1,
          1,
          1,
          1,
          1,
          1,
          1,
          1,
          1,
          1,
          1,
          1,
          1,
          1,
          1,
          1,
          1,
          1,
          1,
          1,
          1,
          1,
          1,
          1,
          1,
          1,
          1,
          1,
          1,
          1,
          1,
          1,
          1,
          1,
          1,
          1,
          1,
          1,
          1,
          1,
          1,
          1,
          1,
          1,
          1,
          1,
          1,
          1,
          1,
          1,
          1,
          1,
          1,
          1,
          1,
          1,
          1,
          1,
          1,
          1,
          1,
          1,
          1,
          1,
          1,
          1,
          1,
          1,
          1,
          1,
          1,
          1,
          2,
          2,
          1,
          1,
          1,
          1,
          1,
          1,
          1,
          1,
          1,
          1,
          1,
          1,
          1,
          1,
          1,
          1,
          2,
          1,
          1,
          1,
          1,
          1,
          1,
          1,
          1,
          1,
          1,
          1,
          1,
          1,
          1,
          1,
          1,
          1,
          1,
          1,
          1,
          1,
          1,
          1,
          2,
          1,
          1,
          1,
          1,
          1,
          1,
          1,
          1,
          1,
          1,
          1,
          1,
          1,
          1,
          1,
          1,
          1,
          1,
          1,
          1,
          1,
          1,
          1,
          1,
          1,
          1,
          1,
          1,
          1,
          1,
          1,
          1,
          2,
          1,
          1,
          1,
          1,
          1,
          1,
          1,
          1,
          1,
          1,
          1,
          1,
          1,
          1,
          1,
          1,
          1,
          1,
          1,
          1,
          1,
          1,
          1,
          1,
          1,
          1,
          1,
          1,
          1,
          1,
          1,
          1,
          1,
          1,
          1,
          1,
          1,
          1,
          2,
          1,
          5,
          5,
          1,
          5,
          3,
          1,
          1,
          5,
          3,
          2,
          3,
          1,
          1,
          2,
          3,
          1,
          3,
          1,
          1,
          1,
          1,
          2,
          1,
          1,
          1,
          3,
          2,
          2,
          1,
          1,
          1,
          5,
          10,
          1,
          3,
          1,
          1,
          1,
          1,
          1,
          2,
          4,
          2,
          2,
          9,
          2,
          1,
          1,
          2,
          2,
          4,
          1,
          1,
          4,
          1,
          1,
          1,
          1,
          2,
          1,
          1,
          14,
          1,
          1,
          9,
          5,
          1,
          1,
          3,
          19,
          2,
          1,
          1,
          1,
          1,
          1,
          1,
          1,
          1,
          3,
          1,
          1,
          4,
          1,
          6,
          1,
          1,
          3,
          1,
          2,
          4,
          1,
          8,
          2,
          1,
          1,
          1,
          1,
          1,
          1,
          3,
          2
         ]
        }
       ],
       "layout": {
        "height": 1200,
        "legend": {
         "tracegroupgap": 0
        },
        "margin": {
         "t": 60
        },
        "template": {
         "data": {
          "bar": [
           {
            "error_x": {
             "color": "#2a3f5f"
            },
            "error_y": {
             "color": "#2a3f5f"
            },
            "marker": {
             "line": {
              "color": "#E5ECF6",
              "width": 0.5
             },
             "pattern": {
              "fillmode": "overlay",
              "size": 10,
              "solidity": 0.2
             }
            },
            "type": "bar"
           }
          ],
          "barpolar": [
           {
            "marker": {
             "line": {
              "color": "#E5ECF6",
              "width": 0.5
             },
             "pattern": {
              "fillmode": "overlay",
              "size": 10,
              "solidity": 0.2
             }
            },
            "type": "barpolar"
           }
          ],
          "carpet": [
           {
            "aaxis": {
             "endlinecolor": "#2a3f5f",
             "gridcolor": "white",
             "linecolor": "white",
             "minorgridcolor": "white",
             "startlinecolor": "#2a3f5f"
            },
            "baxis": {
             "endlinecolor": "#2a3f5f",
             "gridcolor": "white",
             "linecolor": "white",
             "minorgridcolor": "white",
             "startlinecolor": "#2a3f5f"
            },
            "type": "carpet"
           }
          ],
          "choropleth": [
           {
            "colorbar": {
             "outlinewidth": 0,
             "ticks": ""
            },
            "type": "choropleth"
           }
          ],
          "contour": [
           {
            "colorbar": {
             "outlinewidth": 0,
             "ticks": ""
            },
            "colorscale": [
             [
              0,
              "#0d0887"
             ],
             [
              0.1111111111111111,
              "#46039f"
             ],
             [
              0.2222222222222222,
              "#7201a8"
             ],
             [
              0.3333333333333333,
              "#9c179e"
             ],
             [
              0.4444444444444444,
              "#bd3786"
             ],
             [
              0.5555555555555556,
              "#d8576b"
             ],
             [
              0.6666666666666666,
              "#ed7953"
             ],
             [
              0.7777777777777778,
              "#fb9f3a"
             ],
             [
              0.8888888888888888,
              "#fdca26"
             ],
             [
              1,
              "#f0f921"
             ]
            ],
            "type": "contour"
           }
          ],
          "contourcarpet": [
           {
            "colorbar": {
             "outlinewidth": 0,
             "ticks": ""
            },
            "type": "contourcarpet"
           }
          ],
          "heatmap": [
           {
            "colorbar": {
             "outlinewidth": 0,
             "ticks": ""
            },
            "colorscale": [
             [
              0,
              "#0d0887"
             ],
             [
              0.1111111111111111,
              "#46039f"
             ],
             [
              0.2222222222222222,
              "#7201a8"
             ],
             [
              0.3333333333333333,
              "#9c179e"
             ],
             [
              0.4444444444444444,
              "#bd3786"
             ],
             [
              0.5555555555555556,
              "#d8576b"
             ],
             [
              0.6666666666666666,
              "#ed7953"
             ],
             [
              0.7777777777777778,
              "#fb9f3a"
             ],
             [
              0.8888888888888888,
              "#fdca26"
             ],
             [
              1,
              "#f0f921"
             ]
            ],
            "type": "heatmap"
           }
          ],
          "heatmapgl": [
           {
            "colorbar": {
             "outlinewidth": 0,
             "ticks": ""
            },
            "colorscale": [
             [
              0,
              "#0d0887"
             ],
             [
              0.1111111111111111,
              "#46039f"
             ],
             [
              0.2222222222222222,
              "#7201a8"
             ],
             [
              0.3333333333333333,
              "#9c179e"
             ],
             [
              0.4444444444444444,
              "#bd3786"
             ],
             [
              0.5555555555555556,
              "#d8576b"
             ],
             [
              0.6666666666666666,
              "#ed7953"
             ],
             [
              0.7777777777777778,
              "#fb9f3a"
             ],
             [
              0.8888888888888888,
              "#fdca26"
             ],
             [
              1,
              "#f0f921"
             ]
            ],
            "type": "heatmapgl"
           }
          ],
          "histogram": [
           {
            "marker": {
             "pattern": {
              "fillmode": "overlay",
              "size": 10,
              "solidity": 0.2
             }
            },
            "type": "histogram"
           }
          ],
          "histogram2d": [
           {
            "colorbar": {
             "outlinewidth": 0,
             "ticks": ""
            },
            "colorscale": [
             [
              0,
              "#0d0887"
             ],
             [
              0.1111111111111111,
              "#46039f"
             ],
             [
              0.2222222222222222,
              "#7201a8"
             ],
             [
              0.3333333333333333,
              "#9c179e"
             ],
             [
              0.4444444444444444,
              "#bd3786"
             ],
             [
              0.5555555555555556,
              "#d8576b"
             ],
             [
              0.6666666666666666,
              "#ed7953"
             ],
             [
              0.7777777777777778,
              "#fb9f3a"
             ],
             [
              0.8888888888888888,
              "#fdca26"
             ],
             [
              1,
              "#f0f921"
             ]
            ],
            "type": "histogram2d"
           }
          ],
          "histogram2dcontour": [
           {
            "colorbar": {
             "outlinewidth": 0,
             "ticks": ""
            },
            "colorscale": [
             [
              0,
              "#0d0887"
             ],
             [
              0.1111111111111111,
              "#46039f"
             ],
             [
              0.2222222222222222,
              "#7201a8"
             ],
             [
              0.3333333333333333,
              "#9c179e"
             ],
             [
              0.4444444444444444,
              "#bd3786"
             ],
             [
              0.5555555555555556,
              "#d8576b"
             ],
             [
              0.6666666666666666,
              "#ed7953"
             ],
             [
              0.7777777777777778,
              "#fb9f3a"
             ],
             [
              0.8888888888888888,
              "#fdca26"
             ],
             [
              1,
              "#f0f921"
             ]
            ],
            "type": "histogram2dcontour"
           }
          ],
          "mesh3d": [
           {
            "colorbar": {
             "outlinewidth": 0,
             "ticks": ""
            },
            "type": "mesh3d"
           }
          ],
          "parcoords": [
           {
            "line": {
             "colorbar": {
              "outlinewidth": 0,
              "ticks": ""
             }
            },
            "type": "parcoords"
           }
          ],
          "pie": [
           {
            "automargin": true,
            "type": "pie"
           }
          ],
          "scatter": [
           {
            "fillpattern": {
             "fillmode": "overlay",
             "size": 10,
             "solidity": 0.2
            },
            "type": "scatter"
           }
          ],
          "scatter3d": [
           {
            "line": {
             "colorbar": {
              "outlinewidth": 0,
              "ticks": ""
             }
            },
            "marker": {
             "colorbar": {
              "outlinewidth": 0,
              "ticks": ""
             }
            },
            "type": "scatter3d"
           }
          ],
          "scattercarpet": [
           {
            "marker": {
             "colorbar": {
              "outlinewidth": 0,
              "ticks": ""
             }
            },
            "type": "scattercarpet"
           }
          ],
          "scattergeo": [
           {
            "marker": {
             "colorbar": {
              "outlinewidth": 0,
              "ticks": ""
             }
            },
            "type": "scattergeo"
           }
          ],
          "scattergl": [
           {
            "marker": {
             "colorbar": {
              "outlinewidth": 0,
              "ticks": ""
             }
            },
            "type": "scattergl"
           }
          ],
          "scattermapbox": [
           {
            "marker": {
             "colorbar": {
              "outlinewidth": 0,
              "ticks": ""
             }
            },
            "type": "scattermapbox"
           }
          ],
          "scatterpolar": [
           {
            "marker": {
             "colorbar": {
              "outlinewidth": 0,
              "ticks": ""
             }
            },
            "type": "scatterpolar"
           }
          ],
          "scatterpolargl": [
           {
            "marker": {
             "colorbar": {
              "outlinewidth": 0,
              "ticks": ""
             }
            },
            "type": "scatterpolargl"
           }
          ],
          "scatterternary": [
           {
            "marker": {
             "colorbar": {
              "outlinewidth": 0,
              "ticks": ""
             }
            },
            "type": "scatterternary"
           }
          ],
          "surface": [
           {
            "colorbar": {
             "outlinewidth": 0,
             "ticks": ""
            },
            "colorscale": [
             [
              0,
              "#0d0887"
             ],
             [
              0.1111111111111111,
              "#46039f"
             ],
             [
              0.2222222222222222,
              "#7201a8"
             ],
             [
              0.3333333333333333,
              "#9c179e"
             ],
             [
              0.4444444444444444,
              "#bd3786"
             ],
             [
              0.5555555555555556,
              "#d8576b"
             ],
             [
              0.6666666666666666,
              "#ed7953"
             ],
             [
              0.7777777777777778,
              "#fb9f3a"
             ],
             [
              0.8888888888888888,
              "#fdca26"
             ],
             [
              1,
              "#f0f921"
             ]
            ],
            "type": "surface"
           }
          ],
          "table": [
           {
            "cells": {
             "fill": {
              "color": "#EBF0F8"
             },
             "line": {
              "color": "white"
             }
            },
            "header": {
             "fill": {
              "color": "#C8D4E3"
             },
             "line": {
              "color": "white"
             }
            },
            "type": "table"
           }
          ]
         },
         "layout": {
          "annotationdefaults": {
           "arrowcolor": "#2a3f5f",
           "arrowhead": 0,
           "arrowwidth": 1
          },
          "autotypenumbers": "strict",
          "coloraxis": {
           "colorbar": {
            "outlinewidth": 0,
            "ticks": ""
           }
          },
          "colorscale": {
           "diverging": [
            [
             0,
             "#8e0152"
            ],
            [
             0.1,
             "#c51b7d"
            ],
            [
             0.2,
             "#de77ae"
            ],
            [
             0.3,
             "#f1b6da"
            ],
            [
             0.4,
             "#fde0ef"
            ],
            [
             0.5,
             "#f7f7f7"
            ],
            [
             0.6,
             "#e6f5d0"
            ],
            [
             0.7,
             "#b8e186"
            ],
            [
             0.8,
             "#7fbc41"
            ],
            [
             0.9,
             "#4d9221"
            ],
            [
             1,
             "#276419"
            ]
           ],
           "sequential": [
            [
             0,
             "#0d0887"
            ],
            [
             0.1111111111111111,
             "#46039f"
            ],
            [
             0.2222222222222222,
             "#7201a8"
            ],
            [
             0.3333333333333333,
             "#9c179e"
            ],
            [
             0.4444444444444444,
             "#bd3786"
            ],
            [
             0.5555555555555556,
             "#d8576b"
            ],
            [
             0.6666666666666666,
             "#ed7953"
            ],
            [
             0.7777777777777778,
             "#fb9f3a"
            ],
            [
             0.8888888888888888,
             "#fdca26"
            ],
            [
             1,
             "#f0f921"
            ]
           ],
           "sequentialminus": [
            [
             0,
             "#0d0887"
            ],
            [
             0.1111111111111111,
             "#46039f"
            ],
            [
             0.2222222222222222,
             "#7201a8"
            ],
            [
             0.3333333333333333,
             "#9c179e"
            ],
            [
             0.4444444444444444,
             "#bd3786"
            ],
            [
             0.5555555555555556,
             "#d8576b"
            ],
            [
             0.6666666666666666,
             "#ed7953"
            ],
            [
             0.7777777777777778,
             "#fb9f3a"
            ],
            [
             0.8888888888888888,
             "#fdca26"
            ],
            [
             1,
             "#f0f921"
            ]
           ]
          },
          "colorway": [
           "#636efa",
           "#EF553B",
           "#00cc96",
           "#ab63fa",
           "#FFA15A",
           "#19d3f3",
           "#FF6692",
           "#B6E880",
           "#FF97FF",
           "#FECB52"
          ],
          "font": {
           "color": "#2a3f5f"
          },
          "geo": {
           "bgcolor": "white",
           "lakecolor": "white",
           "landcolor": "#E5ECF6",
           "showlakes": true,
           "showland": true,
           "subunitcolor": "white"
          },
          "hoverlabel": {
           "align": "left"
          },
          "hovermode": "closest",
          "mapbox": {
           "style": "light"
          },
          "paper_bgcolor": "white",
          "plot_bgcolor": "#E5ECF6",
          "polar": {
           "angularaxis": {
            "gridcolor": "white",
            "linecolor": "white",
            "ticks": ""
           },
           "bgcolor": "#E5ECF6",
           "radialaxis": {
            "gridcolor": "white",
            "linecolor": "white",
            "ticks": ""
           }
          },
          "scene": {
           "xaxis": {
            "backgroundcolor": "#E5ECF6",
            "gridcolor": "white",
            "gridwidth": 2,
            "linecolor": "white",
            "showbackground": true,
            "ticks": "",
            "zerolinecolor": "white"
           },
           "yaxis": {
            "backgroundcolor": "#E5ECF6",
            "gridcolor": "white",
            "gridwidth": 2,
            "linecolor": "white",
            "showbackground": true,
            "ticks": "",
            "zerolinecolor": "white"
           },
           "zaxis": {
            "backgroundcolor": "#E5ECF6",
            "gridcolor": "white",
            "gridwidth": 2,
            "linecolor": "white",
            "showbackground": true,
            "ticks": "",
            "zerolinecolor": "white"
           }
          },
          "shapedefaults": {
           "line": {
            "color": "#2a3f5f"
           }
          },
          "ternary": {
           "aaxis": {
            "gridcolor": "white",
            "linecolor": "white",
            "ticks": ""
           },
           "baxis": {
            "gridcolor": "white",
            "linecolor": "white",
            "ticks": ""
           },
           "bgcolor": "#E5ECF6",
           "caxis": {
            "gridcolor": "white",
            "linecolor": "white",
            "ticks": ""
           }
          },
          "title": {
           "x": 0.05
          },
          "xaxis": {
           "automargin": true,
           "gridcolor": "white",
           "linecolor": "white",
           "ticks": "",
           "title": {
            "standoff": 15
           },
           "zerolinecolor": "white",
           "zerolinewidth": 2
          },
          "yaxis": {
           "automargin": true,
           "gridcolor": "white",
           "linecolor": "white",
           "ticks": "",
           "title": {
            "standoff": 15
           },
           "zerolinecolor": "white",
           "zerolinewidth": 2
          }
         }
        },
        "title": {
         "text": "Calificaciones de Películas por Género y Año"
        },
        "width": 1200
       }
      }
     },
     "metadata": {},
     "output_type": "display_data"
    }
   ],
   "source": [
    "agrupar_df = df.groupby(['genre', 'year', 'rating']).size().reset_index(name='count')\n",
    "fig = px.sunburst(agrupar_df, path=['genre', 'year', 'rating'], values='count')\n",
    "fig.update_layout(title='Calificaciones de Películas por Género y Año', height = 1200, width = 1200)\n",
    "fig.show()"
   ]
  },
  {
   "cell_type": "markdown",
   "metadata": {},
   "source": [
    "- Gráfico de linea que visualiza cómo la calificación promedio de las películas ha cambiado a lo largo de los años, proporcionando una visión general de las tendencias en las calificaciones a lo largo del tiempo."
   ]
  },
  {
   "cell_type": "code",
   "execution_count": 41,
   "metadata": {},
   "outputs": [
    {
     "data": {
      "application/vnd.plotly.v1+json": {
       "config": {
        "plotlyServerURL": "https://plot.ly"
       },
       "data": [
        {
         "hovertemplate": "year=%{x}<br>rating=%{y}<extra></extra>",
         "legendgroup": "",
         "line": {
          "color": "#00FF00",
          "dash": "solid"
         },
         "marker": {
          "symbol": "circle"
         },
         "mode": "lines",
         "name": "",
         "orientation": "v",
         "showlegend": false,
         "type": "scatter",
         "x": [
          1921,
          1924,
          1925,
          1926,
          1927,
          1928,
          1931,
          1934,
          1936,
          1939,
          1940,
          1941,
          1942,
          1944,
          1946,
          1948,
          1949,
          1950,
          1952,
          1953,
          1954,
          1955,
          1957,
          1958,
          1959,
          1960,
          1961,
          1962,
          1963,
          1964,
          1965,
          1966,
          1967,
          1968,
          1971,
          1972,
          1973,
          1974,
          1975,
          1976,
          1977,
          1978,
          1979,
          1980,
          1981,
          1982,
          1983,
          1984,
          1985,
          1986,
          1987,
          1988,
          1989,
          1990,
          1991,
          1992,
          1993,
          1994,
          1995,
          1996,
          1997,
          1998,
          1999,
          2000,
          2001,
          2002,
          2003,
          2004,
          2005,
          2006,
          2007,
          2008,
          2009,
          2010,
          2011,
          2012,
          2013,
          2014,
          2015,
          2016,
          2017,
          2018,
          2019,
          2020,
          2021,
          2022
         ],
         "xaxis": "x",
         "y": [
          8.3,
          8.2,
          8.1,
          8.1,
          8.3,
          8.2,
          8.4,
          8.1,
          8.5,
          8.133333333333333,
          8.200000000000001,
          8.3,
          8.35,
          8.3,
          8.35,
          8.25,
          8.1,
          8.266666666666666,
          8.3,
          8.2,
          8.35,
          8.3,
          8.366666666666667,
          8.3,
          8.175,
          8.4,
          8.25,
          8.4,
          8.3,
          8.4,
          8.149999999999999,
          8.333333333333334,
          8.1,
          8.4,
          8.3,
          9.2,
          8.2,
          8.6,
          8.26,
          8.133333333333333,
          8.6,
          8.1,
          8.333333333333334,
          8.375,
          8.4,
          8.1,
          8.3,
          8.266666666666667,
          8.366666666666667,
          8.200000000000001,
          8.3,
          8.325,
          8.149999999999999,
          8.35,
          8.6,
          8.166666666666666,
          8.35,
          8.8,
          8.3125,
          8.1,
          8.34,
          8.319999999999999,
          8.466666666666667,
          8.3,
          8.4,
          8.5,
          8.333333333333334,
          8.142857142857142,
          8.2,
          8.4,
          8.18,
          8.5,
          8.233333333333333,
          8.34,
          8.24,
          8.366666666666667,
          8.125,
          8.28,
          8.125,
          8.225,
          8.200000000000001,
          8.35,
          8.299999999999999,
          8.3,
          8.5,
          8.3
         ],
         "yaxis": "y"
        }
       ],
       "layout": {
        "legend": {
         "tracegroupgap": 0
        },
        "template": {
         "data": {
          "bar": [
           {
            "error_x": {
             "color": "#2a3f5f"
            },
            "error_y": {
             "color": "#2a3f5f"
            },
            "marker": {
             "line": {
              "color": "#E5ECF6",
              "width": 0.5
             },
             "pattern": {
              "fillmode": "overlay",
              "size": 10,
              "solidity": 0.2
             }
            },
            "type": "bar"
           }
          ],
          "barpolar": [
           {
            "marker": {
             "line": {
              "color": "#E5ECF6",
              "width": 0.5
             },
             "pattern": {
              "fillmode": "overlay",
              "size": 10,
              "solidity": 0.2
             }
            },
            "type": "barpolar"
           }
          ],
          "carpet": [
           {
            "aaxis": {
             "endlinecolor": "#2a3f5f",
             "gridcolor": "white",
             "linecolor": "white",
             "minorgridcolor": "white",
             "startlinecolor": "#2a3f5f"
            },
            "baxis": {
             "endlinecolor": "#2a3f5f",
             "gridcolor": "white",
             "linecolor": "white",
             "minorgridcolor": "white",
             "startlinecolor": "#2a3f5f"
            },
            "type": "carpet"
           }
          ],
          "choropleth": [
           {
            "colorbar": {
             "outlinewidth": 0,
             "ticks": ""
            },
            "type": "choropleth"
           }
          ],
          "contour": [
           {
            "colorbar": {
             "outlinewidth": 0,
             "ticks": ""
            },
            "colorscale": [
             [
              0,
              "#0d0887"
             ],
             [
              0.1111111111111111,
              "#46039f"
             ],
             [
              0.2222222222222222,
              "#7201a8"
             ],
             [
              0.3333333333333333,
              "#9c179e"
             ],
             [
              0.4444444444444444,
              "#bd3786"
             ],
             [
              0.5555555555555556,
              "#d8576b"
             ],
             [
              0.6666666666666666,
              "#ed7953"
             ],
             [
              0.7777777777777778,
              "#fb9f3a"
             ],
             [
              0.8888888888888888,
              "#fdca26"
             ],
             [
              1,
              "#f0f921"
             ]
            ],
            "type": "contour"
           }
          ],
          "contourcarpet": [
           {
            "colorbar": {
             "outlinewidth": 0,
             "ticks": ""
            },
            "type": "contourcarpet"
           }
          ],
          "heatmap": [
           {
            "colorbar": {
             "outlinewidth": 0,
             "ticks": ""
            },
            "colorscale": [
             [
              0,
              "#0d0887"
             ],
             [
              0.1111111111111111,
              "#46039f"
             ],
             [
              0.2222222222222222,
              "#7201a8"
             ],
             [
              0.3333333333333333,
              "#9c179e"
             ],
             [
              0.4444444444444444,
              "#bd3786"
             ],
             [
              0.5555555555555556,
              "#d8576b"
             ],
             [
              0.6666666666666666,
              "#ed7953"
             ],
             [
              0.7777777777777778,
              "#fb9f3a"
             ],
             [
              0.8888888888888888,
              "#fdca26"
             ],
             [
              1,
              "#f0f921"
             ]
            ],
            "type": "heatmap"
           }
          ],
          "heatmapgl": [
           {
            "colorbar": {
             "outlinewidth": 0,
             "ticks": ""
            },
            "colorscale": [
             [
              0,
              "#0d0887"
             ],
             [
              0.1111111111111111,
              "#46039f"
             ],
             [
              0.2222222222222222,
              "#7201a8"
             ],
             [
              0.3333333333333333,
              "#9c179e"
             ],
             [
              0.4444444444444444,
              "#bd3786"
             ],
             [
              0.5555555555555556,
              "#d8576b"
             ],
             [
              0.6666666666666666,
              "#ed7953"
             ],
             [
              0.7777777777777778,
              "#fb9f3a"
             ],
             [
              0.8888888888888888,
              "#fdca26"
             ],
             [
              1,
              "#f0f921"
             ]
            ],
            "type": "heatmapgl"
           }
          ],
          "histogram": [
           {
            "marker": {
             "pattern": {
              "fillmode": "overlay",
              "size": 10,
              "solidity": 0.2
             }
            },
            "type": "histogram"
           }
          ],
          "histogram2d": [
           {
            "colorbar": {
             "outlinewidth": 0,
             "ticks": ""
            },
            "colorscale": [
             [
              0,
              "#0d0887"
             ],
             [
              0.1111111111111111,
              "#46039f"
             ],
             [
              0.2222222222222222,
              "#7201a8"
             ],
             [
              0.3333333333333333,
              "#9c179e"
             ],
             [
              0.4444444444444444,
              "#bd3786"
             ],
             [
              0.5555555555555556,
              "#d8576b"
             ],
             [
              0.6666666666666666,
              "#ed7953"
             ],
             [
              0.7777777777777778,
              "#fb9f3a"
             ],
             [
              0.8888888888888888,
              "#fdca26"
             ],
             [
              1,
              "#f0f921"
             ]
            ],
            "type": "histogram2d"
           }
          ],
          "histogram2dcontour": [
           {
            "colorbar": {
             "outlinewidth": 0,
             "ticks": ""
            },
            "colorscale": [
             [
              0,
              "#0d0887"
             ],
             [
              0.1111111111111111,
              "#46039f"
             ],
             [
              0.2222222222222222,
              "#7201a8"
             ],
             [
              0.3333333333333333,
              "#9c179e"
             ],
             [
              0.4444444444444444,
              "#bd3786"
             ],
             [
              0.5555555555555556,
              "#d8576b"
             ],
             [
              0.6666666666666666,
              "#ed7953"
             ],
             [
              0.7777777777777778,
              "#fb9f3a"
             ],
             [
              0.8888888888888888,
              "#fdca26"
             ],
             [
              1,
              "#f0f921"
             ]
            ],
            "type": "histogram2dcontour"
           }
          ],
          "mesh3d": [
           {
            "colorbar": {
             "outlinewidth": 0,
             "ticks": ""
            },
            "type": "mesh3d"
           }
          ],
          "parcoords": [
           {
            "line": {
             "colorbar": {
              "outlinewidth": 0,
              "ticks": ""
             }
            },
            "type": "parcoords"
           }
          ],
          "pie": [
           {
            "automargin": true,
            "type": "pie"
           }
          ],
          "scatter": [
           {
            "fillpattern": {
             "fillmode": "overlay",
             "size": 10,
             "solidity": 0.2
            },
            "type": "scatter"
           }
          ],
          "scatter3d": [
           {
            "line": {
             "colorbar": {
              "outlinewidth": 0,
              "ticks": ""
             }
            },
            "marker": {
             "colorbar": {
              "outlinewidth": 0,
              "ticks": ""
             }
            },
            "type": "scatter3d"
           }
          ],
          "scattercarpet": [
           {
            "marker": {
             "colorbar": {
              "outlinewidth": 0,
              "ticks": ""
             }
            },
            "type": "scattercarpet"
           }
          ],
          "scattergeo": [
           {
            "marker": {
             "colorbar": {
              "outlinewidth": 0,
              "ticks": ""
             }
            },
            "type": "scattergeo"
           }
          ],
          "scattergl": [
           {
            "marker": {
             "colorbar": {
              "outlinewidth": 0,
              "ticks": ""
             }
            },
            "type": "scattergl"
           }
          ],
          "scattermapbox": [
           {
            "marker": {
             "colorbar": {
              "outlinewidth": 0,
              "ticks": ""
             }
            },
            "type": "scattermapbox"
           }
          ],
          "scatterpolar": [
           {
            "marker": {
             "colorbar": {
              "outlinewidth": 0,
              "ticks": ""
             }
            },
            "type": "scatterpolar"
           }
          ],
          "scatterpolargl": [
           {
            "marker": {
             "colorbar": {
              "outlinewidth": 0,
              "ticks": ""
             }
            },
            "type": "scatterpolargl"
           }
          ],
          "scatterternary": [
           {
            "marker": {
             "colorbar": {
              "outlinewidth": 0,
              "ticks": ""
             }
            },
            "type": "scatterternary"
           }
          ],
          "surface": [
           {
            "colorbar": {
             "outlinewidth": 0,
             "ticks": ""
            },
            "colorscale": [
             [
              0,
              "#0d0887"
             ],
             [
              0.1111111111111111,
              "#46039f"
             ],
             [
              0.2222222222222222,
              "#7201a8"
             ],
             [
              0.3333333333333333,
              "#9c179e"
             ],
             [
              0.4444444444444444,
              "#bd3786"
             ],
             [
              0.5555555555555556,
              "#d8576b"
             ],
             [
              0.6666666666666666,
              "#ed7953"
             ],
             [
              0.7777777777777778,
              "#fb9f3a"
             ],
             [
              0.8888888888888888,
              "#fdca26"
             ],
             [
              1,
              "#f0f921"
             ]
            ],
            "type": "surface"
           }
          ],
          "table": [
           {
            "cells": {
             "fill": {
              "color": "#EBF0F8"
             },
             "line": {
              "color": "white"
             }
            },
            "header": {
             "fill": {
              "color": "#C8D4E3"
             },
             "line": {
              "color": "white"
             }
            },
            "type": "table"
           }
          ]
         },
         "layout": {
          "annotationdefaults": {
           "arrowcolor": "#2a3f5f",
           "arrowhead": 0,
           "arrowwidth": 1
          },
          "autotypenumbers": "strict",
          "coloraxis": {
           "colorbar": {
            "outlinewidth": 0,
            "ticks": ""
           }
          },
          "colorscale": {
           "diverging": [
            [
             0,
             "#8e0152"
            ],
            [
             0.1,
             "#c51b7d"
            ],
            [
             0.2,
             "#de77ae"
            ],
            [
             0.3,
             "#f1b6da"
            ],
            [
             0.4,
             "#fde0ef"
            ],
            [
             0.5,
             "#f7f7f7"
            ],
            [
             0.6,
             "#e6f5d0"
            ],
            [
             0.7,
             "#b8e186"
            ],
            [
             0.8,
             "#7fbc41"
            ],
            [
             0.9,
             "#4d9221"
            ],
            [
             1,
             "#276419"
            ]
           ],
           "sequential": [
            [
             0,
             "#0d0887"
            ],
            [
             0.1111111111111111,
             "#46039f"
            ],
            [
             0.2222222222222222,
             "#7201a8"
            ],
            [
             0.3333333333333333,
             "#9c179e"
            ],
            [
             0.4444444444444444,
             "#bd3786"
            ],
            [
             0.5555555555555556,
             "#d8576b"
            ],
            [
             0.6666666666666666,
             "#ed7953"
            ],
            [
             0.7777777777777778,
             "#fb9f3a"
            ],
            [
             0.8888888888888888,
             "#fdca26"
            ],
            [
             1,
             "#f0f921"
            ]
           ],
           "sequentialminus": [
            [
             0,
             "#0d0887"
            ],
            [
             0.1111111111111111,
             "#46039f"
            ],
            [
             0.2222222222222222,
             "#7201a8"
            ],
            [
             0.3333333333333333,
             "#9c179e"
            ],
            [
             0.4444444444444444,
             "#bd3786"
            ],
            [
             0.5555555555555556,
             "#d8576b"
            ],
            [
             0.6666666666666666,
             "#ed7953"
            ],
            [
             0.7777777777777778,
             "#fb9f3a"
            ],
            [
             0.8888888888888888,
             "#fdca26"
            ],
            [
             1,
             "#f0f921"
            ]
           ]
          },
          "colorway": [
           "#636efa",
           "#EF553B",
           "#00cc96",
           "#ab63fa",
           "#FFA15A",
           "#19d3f3",
           "#FF6692",
           "#B6E880",
           "#FF97FF",
           "#FECB52"
          ],
          "font": {
           "color": "#2a3f5f"
          },
          "geo": {
           "bgcolor": "white",
           "lakecolor": "white",
           "landcolor": "#E5ECF6",
           "showlakes": true,
           "showland": true,
           "subunitcolor": "white"
          },
          "hoverlabel": {
           "align": "left"
          },
          "hovermode": "closest",
          "mapbox": {
           "style": "light"
          },
          "paper_bgcolor": "white",
          "plot_bgcolor": "#E5ECF6",
          "polar": {
           "angularaxis": {
            "gridcolor": "white",
            "linecolor": "white",
            "ticks": ""
           },
           "bgcolor": "#E5ECF6",
           "radialaxis": {
            "gridcolor": "white",
            "linecolor": "white",
            "ticks": ""
           }
          },
          "scene": {
           "xaxis": {
            "backgroundcolor": "#E5ECF6",
            "gridcolor": "white",
            "gridwidth": 2,
            "linecolor": "white",
            "showbackground": true,
            "ticks": "",
            "zerolinecolor": "white"
           },
           "yaxis": {
            "backgroundcolor": "#E5ECF6",
            "gridcolor": "white",
            "gridwidth": 2,
            "linecolor": "white",
            "showbackground": true,
            "ticks": "",
            "zerolinecolor": "white"
           },
           "zaxis": {
            "backgroundcolor": "#E5ECF6",
            "gridcolor": "white",
            "gridwidth": 2,
            "linecolor": "white",
            "showbackground": true,
            "ticks": "",
            "zerolinecolor": "white"
           }
          },
          "shapedefaults": {
           "line": {
            "color": "#2a3f5f"
           }
          },
          "ternary": {
           "aaxis": {
            "gridcolor": "white",
            "linecolor": "white",
            "ticks": ""
           },
           "baxis": {
            "gridcolor": "white",
            "linecolor": "white",
            "ticks": ""
           },
           "bgcolor": "#E5ECF6",
           "caxis": {
            "gridcolor": "white",
            "linecolor": "white",
            "ticks": ""
           }
          },
          "title": {
           "x": 0.05
          },
          "xaxis": {
           "automargin": true,
           "gridcolor": "white",
           "linecolor": "white",
           "ticks": "",
           "title": {
            "standoff": 15
           },
           "zerolinecolor": "white",
           "zerolinewidth": 2
          },
          "yaxis": {
           "automargin": true,
           "gridcolor": "white",
           "linecolor": "white",
           "ticks": "",
           "title": {
            "standoff": 15
           },
           "zerolinecolor": "white",
           "zerolinewidth": 2
          }
         }
        },
        "title": {
         "text": "Calificación Promedio a lo Largo del Tiempo"
        },
        "xaxis": {
         "anchor": "y",
         "domain": [
          0,
          1
         ],
         "title": {
          "text": "Year"
         }
        },
        "yaxis": {
         "anchor": "x",
         "domain": [
          0,
          1
         ],
         "title": {
          "text": "Calificación Promedio"
         }
        }
       }
      }
     },
     "metadata": {},
     "output_type": "display_data"
    }
   ],
   "source": [
    "agrupar_df = df.groupby('year')['rating'].mean().reset_index()\n",
    "\n",
    "fig = px.line(agrupar_df, x='year', y='rating', title='Calificación Promedio a lo Largo del Tiempo', color_discrete_sequence=['#00FF00'])\n",
    "fig.update_layout(xaxis_title='Year', yaxis_title='Calificación Promedio')\n",
    "fig.show()"
   ]
  },
  {
   "cell_type": "markdown",
   "metadata": {},
   "source": [
    "- Pie Chart para analizar como distribuyen las calificaciones promedio de las películas en diferentes certificados. Cada sector del pastel representa un certificado, y el tamaño del sector está proporcionalmente relacionado con la calificación promedio de ese certificado."
   ]
  },
  {
   "cell_type": "code",
   "execution_count": 42,
   "metadata": {},
   "outputs": [
    {
     "data": {
      "application/vnd.plotly.v1+json": {
       "config": {
        "plotlyServerURL": "https://plot.ly"
       },
       "data": [
        {
         "domain": {
          "x": [
           0,
           1
          ],
          "y": [
           0,
           1
          ]
         },
         "hovertemplate": "certificate=%{label}<br>rating=%{value}<extra></extra>",
         "labels": [
          "13+",
          "18+",
          "Approved",
          "G",
          "GP",
          "Not Available",
          "Not Rated",
          "PG",
          "PG-13",
          "Passed",
          "R",
          "TV-MA",
          "TV-PG",
          "Unrated",
          "X"
         ],
         "legendgroup": "",
         "name": "",
         "showlegend": true,
         "type": "pie",
         "values": [
          8.1,
          8.7,
          8.335714285714285,
          8.242105263157894,
          8.1,
          8.4,
          8.245833333333334,
          8.291891891891892,
          8.368571428571428,
          8.2,
          8.32577319587629,
          8.8,
          8.4,
          8.3,
          8.3
         ]
        }
       ],
       "layout": {
        "legend": {
         "tracegroupgap": 0
        },
        "template": {
         "data": {
          "bar": [
           {
            "error_x": {
             "color": "#2a3f5f"
            },
            "error_y": {
             "color": "#2a3f5f"
            },
            "marker": {
             "line": {
              "color": "#E5ECF6",
              "width": 0.5
             },
             "pattern": {
              "fillmode": "overlay",
              "size": 10,
              "solidity": 0.2
             }
            },
            "type": "bar"
           }
          ],
          "barpolar": [
           {
            "marker": {
             "line": {
              "color": "#E5ECF6",
              "width": 0.5
             },
             "pattern": {
              "fillmode": "overlay",
              "size": 10,
              "solidity": 0.2
             }
            },
            "type": "barpolar"
           }
          ],
          "carpet": [
           {
            "aaxis": {
             "endlinecolor": "#2a3f5f",
             "gridcolor": "white",
             "linecolor": "white",
             "minorgridcolor": "white",
             "startlinecolor": "#2a3f5f"
            },
            "baxis": {
             "endlinecolor": "#2a3f5f",
             "gridcolor": "white",
             "linecolor": "white",
             "minorgridcolor": "white",
             "startlinecolor": "#2a3f5f"
            },
            "type": "carpet"
           }
          ],
          "choropleth": [
           {
            "colorbar": {
             "outlinewidth": 0,
             "ticks": ""
            },
            "type": "choropleth"
           }
          ],
          "contour": [
           {
            "colorbar": {
             "outlinewidth": 0,
             "ticks": ""
            },
            "colorscale": [
             [
              0,
              "#0d0887"
             ],
             [
              0.1111111111111111,
              "#46039f"
             ],
             [
              0.2222222222222222,
              "#7201a8"
             ],
             [
              0.3333333333333333,
              "#9c179e"
             ],
             [
              0.4444444444444444,
              "#bd3786"
             ],
             [
              0.5555555555555556,
              "#d8576b"
             ],
             [
              0.6666666666666666,
              "#ed7953"
             ],
             [
              0.7777777777777778,
              "#fb9f3a"
             ],
             [
              0.8888888888888888,
              "#fdca26"
             ],
             [
              1,
              "#f0f921"
             ]
            ],
            "type": "contour"
           }
          ],
          "contourcarpet": [
           {
            "colorbar": {
             "outlinewidth": 0,
             "ticks": ""
            },
            "type": "contourcarpet"
           }
          ],
          "heatmap": [
           {
            "colorbar": {
             "outlinewidth": 0,
             "ticks": ""
            },
            "colorscale": [
             [
              0,
              "#0d0887"
             ],
             [
              0.1111111111111111,
              "#46039f"
             ],
             [
              0.2222222222222222,
              "#7201a8"
             ],
             [
              0.3333333333333333,
              "#9c179e"
             ],
             [
              0.4444444444444444,
              "#bd3786"
             ],
             [
              0.5555555555555556,
              "#d8576b"
             ],
             [
              0.6666666666666666,
              "#ed7953"
             ],
             [
              0.7777777777777778,
              "#fb9f3a"
             ],
             [
              0.8888888888888888,
              "#fdca26"
             ],
             [
              1,
              "#f0f921"
             ]
            ],
            "type": "heatmap"
           }
          ],
          "heatmapgl": [
           {
            "colorbar": {
             "outlinewidth": 0,
             "ticks": ""
            },
            "colorscale": [
             [
              0,
              "#0d0887"
             ],
             [
              0.1111111111111111,
              "#46039f"
             ],
             [
              0.2222222222222222,
              "#7201a8"
             ],
             [
              0.3333333333333333,
              "#9c179e"
             ],
             [
              0.4444444444444444,
              "#bd3786"
             ],
             [
              0.5555555555555556,
              "#d8576b"
             ],
             [
              0.6666666666666666,
              "#ed7953"
             ],
             [
              0.7777777777777778,
              "#fb9f3a"
             ],
             [
              0.8888888888888888,
              "#fdca26"
             ],
             [
              1,
              "#f0f921"
             ]
            ],
            "type": "heatmapgl"
           }
          ],
          "histogram": [
           {
            "marker": {
             "pattern": {
              "fillmode": "overlay",
              "size": 10,
              "solidity": 0.2
             }
            },
            "type": "histogram"
           }
          ],
          "histogram2d": [
           {
            "colorbar": {
             "outlinewidth": 0,
             "ticks": ""
            },
            "colorscale": [
             [
              0,
              "#0d0887"
             ],
             [
              0.1111111111111111,
              "#46039f"
             ],
             [
              0.2222222222222222,
              "#7201a8"
             ],
             [
              0.3333333333333333,
              "#9c179e"
             ],
             [
              0.4444444444444444,
              "#bd3786"
             ],
             [
              0.5555555555555556,
              "#d8576b"
             ],
             [
              0.6666666666666666,
              "#ed7953"
             ],
             [
              0.7777777777777778,
              "#fb9f3a"
             ],
             [
              0.8888888888888888,
              "#fdca26"
             ],
             [
              1,
              "#f0f921"
             ]
            ],
            "type": "histogram2d"
           }
          ],
          "histogram2dcontour": [
           {
            "colorbar": {
             "outlinewidth": 0,
             "ticks": ""
            },
            "colorscale": [
             [
              0,
              "#0d0887"
             ],
             [
              0.1111111111111111,
              "#46039f"
             ],
             [
              0.2222222222222222,
              "#7201a8"
             ],
             [
              0.3333333333333333,
              "#9c179e"
             ],
             [
              0.4444444444444444,
              "#bd3786"
             ],
             [
              0.5555555555555556,
              "#d8576b"
             ],
             [
              0.6666666666666666,
              "#ed7953"
             ],
             [
              0.7777777777777778,
              "#fb9f3a"
             ],
             [
              0.8888888888888888,
              "#fdca26"
             ],
             [
              1,
              "#f0f921"
             ]
            ],
            "type": "histogram2dcontour"
           }
          ],
          "mesh3d": [
           {
            "colorbar": {
             "outlinewidth": 0,
             "ticks": ""
            },
            "type": "mesh3d"
           }
          ],
          "parcoords": [
           {
            "line": {
             "colorbar": {
              "outlinewidth": 0,
              "ticks": ""
             }
            },
            "type": "parcoords"
           }
          ],
          "pie": [
           {
            "automargin": true,
            "type": "pie"
           }
          ],
          "scatter": [
           {
            "fillpattern": {
             "fillmode": "overlay",
             "size": 10,
             "solidity": 0.2
            },
            "type": "scatter"
           }
          ],
          "scatter3d": [
           {
            "line": {
             "colorbar": {
              "outlinewidth": 0,
              "ticks": ""
             }
            },
            "marker": {
             "colorbar": {
              "outlinewidth": 0,
              "ticks": ""
             }
            },
            "type": "scatter3d"
           }
          ],
          "scattercarpet": [
           {
            "marker": {
             "colorbar": {
              "outlinewidth": 0,
              "ticks": ""
             }
            },
            "type": "scattercarpet"
           }
          ],
          "scattergeo": [
           {
            "marker": {
             "colorbar": {
              "outlinewidth": 0,
              "ticks": ""
             }
            },
            "type": "scattergeo"
           }
          ],
          "scattergl": [
           {
            "marker": {
             "colorbar": {
              "outlinewidth": 0,
              "ticks": ""
             }
            },
            "type": "scattergl"
           }
          ],
          "scattermapbox": [
           {
            "marker": {
             "colorbar": {
              "outlinewidth": 0,
              "ticks": ""
             }
            },
            "type": "scattermapbox"
           }
          ],
          "scatterpolar": [
           {
            "marker": {
             "colorbar": {
              "outlinewidth": 0,
              "ticks": ""
             }
            },
            "type": "scatterpolar"
           }
          ],
          "scatterpolargl": [
           {
            "marker": {
             "colorbar": {
              "outlinewidth": 0,
              "ticks": ""
             }
            },
            "type": "scatterpolargl"
           }
          ],
          "scatterternary": [
           {
            "marker": {
             "colorbar": {
              "outlinewidth": 0,
              "ticks": ""
             }
            },
            "type": "scatterternary"
           }
          ],
          "surface": [
           {
            "colorbar": {
             "outlinewidth": 0,
             "ticks": ""
            },
            "colorscale": [
             [
              0,
              "#0d0887"
             ],
             [
              0.1111111111111111,
              "#46039f"
             ],
             [
              0.2222222222222222,
              "#7201a8"
             ],
             [
              0.3333333333333333,
              "#9c179e"
             ],
             [
              0.4444444444444444,
              "#bd3786"
             ],
             [
              0.5555555555555556,
              "#d8576b"
             ],
             [
              0.6666666666666666,
              "#ed7953"
             ],
             [
              0.7777777777777778,
              "#fb9f3a"
             ],
             [
              0.8888888888888888,
              "#fdca26"
             ],
             [
              1,
              "#f0f921"
             ]
            ],
            "type": "surface"
           }
          ],
          "table": [
           {
            "cells": {
             "fill": {
              "color": "#EBF0F8"
             },
             "line": {
              "color": "white"
             }
            },
            "header": {
             "fill": {
              "color": "#C8D4E3"
             },
             "line": {
              "color": "white"
             }
            },
            "type": "table"
           }
          ]
         },
         "layout": {
          "annotationdefaults": {
           "arrowcolor": "#2a3f5f",
           "arrowhead": 0,
           "arrowwidth": 1
          },
          "autotypenumbers": "strict",
          "coloraxis": {
           "colorbar": {
            "outlinewidth": 0,
            "ticks": ""
           }
          },
          "colorscale": {
           "diverging": [
            [
             0,
             "#8e0152"
            ],
            [
             0.1,
             "#c51b7d"
            ],
            [
             0.2,
             "#de77ae"
            ],
            [
             0.3,
             "#f1b6da"
            ],
            [
             0.4,
             "#fde0ef"
            ],
            [
             0.5,
             "#f7f7f7"
            ],
            [
             0.6,
             "#e6f5d0"
            ],
            [
             0.7,
             "#b8e186"
            ],
            [
             0.8,
             "#7fbc41"
            ],
            [
             0.9,
             "#4d9221"
            ],
            [
             1,
             "#276419"
            ]
           ],
           "sequential": [
            [
             0,
             "#0d0887"
            ],
            [
             0.1111111111111111,
             "#46039f"
            ],
            [
             0.2222222222222222,
             "#7201a8"
            ],
            [
             0.3333333333333333,
             "#9c179e"
            ],
            [
             0.4444444444444444,
             "#bd3786"
            ],
            [
             0.5555555555555556,
             "#d8576b"
            ],
            [
             0.6666666666666666,
             "#ed7953"
            ],
            [
             0.7777777777777778,
             "#fb9f3a"
            ],
            [
             0.8888888888888888,
             "#fdca26"
            ],
            [
             1,
             "#f0f921"
            ]
           ],
           "sequentialminus": [
            [
             0,
             "#0d0887"
            ],
            [
             0.1111111111111111,
             "#46039f"
            ],
            [
             0.2222222222222222,
             "#7201a8"
            ],
            [
             0.3333333333333333,
             "#9c179e"
            ],
            [
             0.4444444444444444,
             "#bd3786"
            ],
            [
             0.5555555555555556,
             "#d8576b"
            ],
            [
             0.6666666666666666,
             "#ed7953"
            ],
            [
             0.7777777777777778,
             "#fb9f3a"
            ],
            [
             0.8888888888888888,
             "#fdca26"
            ],
            [
             1,
             "#f0f921"
            ]
           ]
          },
          "colorway": [
           "#636efa",
           "#EF553B",
           "#00cc96",
           "#ab63fa",
           "#FFA15A",
           "#19d3f3",
           "#FF6692",
           "#B6E880",
           "#FF97FF",
           "#FECB52"
          ],
          "font": {
           "color": "#2a3f5f"
          },
          "geo": {
           "bgcolor": "white",
           "lakecolor": "white",
           "landcolor": "#E5ECF6",
           "showlakes": true,
           "showland": true,
           "subunitcolor": "white"
          },
          "hoverlabel": {
           "align": "left"
          },
          "hovermode": "closest",
          "mapbox": {
           "style": "light"
          },
          "paper_bgcolor": "white",
          "plot_bgcolor": "#E5ECF6",
          "polar": {
           "angularaxis": {
            "gridcolor": "white",
            "linecolor": "white",
            "ticks": ""
           },
           "bgcolor": "#E5ECF6",
           "radialaxis": {
            "gridcolor": "white",
            "linecolor": "white",
            "ticks": ""
           }
          },
          "scene": {
           "xaxis": {
            "backgroundcolor": "#E5ECF6",
            "gridcolor": "white",
            "gridwidth": 2,
            "linecolor": "white",
            "showbackground": true,
            "ticks": "",
            "zerolinecolor": "white"
           },
           "yaxis": {
            "backgroundcolor": "#E5ECF6",
            "gridcolor": "white",
            "gridwidth": 2,
            "linecolor": "white",
            "showbackground": true,
            "ticks": "",
            "zerolinecolor": "white"
           },
           "zaxis": {
            "backgroundcolor": "#E5ECF6",
            "gridcolor": "white",
            "gridwidth": 2,
            "linecolor": "white",
            "showbackground": true,
            "ticks": "",
            "zerolinecolor": "white"
           }
          },
          "shapedefaults": {
           "line": {
            "color": "#2a3f5f"
           }
          },
          "ternary": {
           "aaxis": {
            "gridcolor": "white",
            "linecolor": "white",
            "ticks": ""
           },
           "baxis": {
            "gridcolor": "white",
            "linecolor": "white",
            "ticks": ""
           },
           "bgcolor": "#E5ECF6",
           "caxis": {
            "gridcolor": "white",
            "linecolor": "white",
            "ticks": ""
           }
          },
          "title": {
           "x": 0.05
          },
          "xaxis": {
           "automargin": true,
           "gridcolor": "white",
           "linecolor": "white",
           "ticks": "",
           "title": {
            "standoff": 15
           },
           "zerolinecolor": "white",
           "zerolinewidth": 2
          },
          "yaxis": {
           "automargin": true,
           "gridcolor": "white",
           "linecolor": "white",
           "ticks": "",
           "title": {
            "standoff": 15
           },
           "zerolinecolor": "white",
           "zerolinewidth": 2
          }
         }
        },
        "title": {
         "text": "Calificaciones promedio por certificado"
        }
       }
      }
     },
     "metadata": {},
     "output_type": "display_data"
    }
   ],
   "source": [
    "avg_ratings = df.groupby('certificate')['rating'].mean().reset_index()\n",
    "\n",
    "fig = px.pie(avg_ratings, names='certificate', values='rating', title='Calificaciones promedio por certificado')\n",
    "fig.show()"
   ]
  },
  {
   "cell_type": "markdown",
   "metadata": {},
   "source": [
    "- Gráfico de tabla que proporciona una visualización clara de las 10 películas más antiguas, mostrando su nombre y año de lanzamiento."
   ]
  },
  {
   "cell_type": "code",
   "execution_count": 43,
   "metadata": {},
   "outputs": [
    {
     "data": {
      "application/vnd.plotly.v1+json": {
       "config": {
        "plotlyServerURL": "https://plot.ly"
       },
       "data": [
        {
         "cells": {
          "values": [
           [
            "The Kid",
            "Sherlock Jr.",
            "The Gold Rush",
            "The General",
            "Metropolis",
            "The Passion of Joan of Arc",
            "M",
            "City Lights",
            "It Happened One Night",
            "Modern Times"
           ],
           [
            1921,
            1924,
            1925,
            1926,
            1927,
            1928,
            1931,
            1931,
            1934,
            1936
           ]
          ]
         },
         "header": {
          "fill": {
           "color": "lightgreen"
          },
          "values": [
           "Nombre de la Película",
           "Año de Lanzamiento"
          ]
         },
         "type": "table"
        }
       ],
       "layout": {
        "template": {
         "data": {
          "bar": [
           {
            "error_x": {
             "color": "#2a3f5f"
            },
            "error_y": {
             "color": "#2a3f5f"
            },
            "marker": {
             "line": {
              "color": "#E5ECF6",
              "width": 0.5
             },
             "pattern": {
              "fillmode": "overlay",
              "size": 10,
              "solidity": 0.2
             }
            },
            "type": "bar"
           }
          ],
          "barpolar": [
           {
            "marker": {
             "line": {
              "color": "#E5ECF6",
              "width": 0.5
             },
             "pattern": {
              "fillmode": "overlay",
              "size": 10,
              "solidity": 0.2
             }
            },
            "type": "barpolar"
           }
          ],
          "carpet": [
           {
            "aaxis": {
             "endlinecolor": "#2a3f5f",
             "gridcolor": "white",
             "linecolor": "white",
             "minorgridcolor": "white",
             "startlinecolor": "#2a3f5f"
            },
            "baxis": {
             "endlinecolor": "#2a3f5f",
             "gridcolor": "white",
             "linecolor": "white",
             "minorgridcolor": "white",
             "startlinecolor": "#2a3f5f"
            },
            "type": "carpet"
           }
          ],
          "choropleth": [
           {
            "colorbar": {
             "outlinewidth": 0,
             "ticks": ""
            },
            "type": "choropleth"
           }
          ],
          "contour": [
           {
            "colorbar": {
             "outlinewidth": 0,
             "ticks": ""
            },
            "colorscale": [
             [
              0,
              "#0d0887"
             ],
             [
              0.1111111111111111,
              "#46039f"
             ],
             [
              0.2222222222222222,
              "#7201a8"
             ],
             [
              0.3333333333333333,
              "#9c179e"
             ],
             [
              0.4444444444444444,
              "#bd3786"
             ],
             [
              0.5555555555555556,
              "#d8576b"
             ],
             [
              0.6666666666666666,
              "#ed7953"
             ],
             [
              0.7777777777777778,
              "#fb9f3a"
             ],
             [
              0.8888888888888888,
              "#fdca26"
             ],
             [
              1,
              "#f0f921"
             ]
            ],
            "type": "contour"
           }
          ],
          "contourcarpet": [
           {
            "colorbar": {
             "outlinewidth": 0,
             "ticks": ""
            },
            "type": "contourcarpet"
           }
          ],
          "heatmap": [
           {
            "colorbar": {
             "outlinewidth": 0,
             "ticks": ""
            },
            "colorscale": [
             [
              0,
              "#0d0887"
             ],
             [
              0.1111111111111111,
              "#46039f"
             ],
             [
              0.2222222222222222,
              "#7201a8"
             ],
             [
              0.3333333333333333,
              "#9c179e"
             ],
             [
              0.4444444444444444,
              "#bd3786"
             ],
             [
              0.5555555555555556,
              "#d8576b"
             ],
             [
              0.6666666666666666,
              "#ed7953"
             ],
             [
              0.7777777777777778,
              "#fb9f3a"
             ],
             [
              0.8888888888888888,
              "#fdca26"
             ],
             [
              1,
              "#f0f921"
             ]
            ],
            "type": "heatmap"
           }
          ],
          "heatmapgl": [
           {
            "colorbar": {
             "outlinewidth": 0,
             "ticks": ""
            },
            "colorscale": [
             [
              0,
              "#0d0887"
             ],
             [
              0.1111111111111111,
              "#46039f"
             ],
             [
              0.2222222222222222,
              "#7201a8"
             ],
             [
              0.3333333333333333,
              "#9c179e"
             ],
             [
              0.4444444444444444,
              "#bd3786"
             ],
             [
              0.5555555555555556,
              "#d8576b"
             ],
             [
              0.6666666666666666,
              "#ed7953"
             ],
             [
              0.7777777777777778,
              "#fb9f3a"
             ],
             [
              0.8888888888888888,
              "#fdca26"
             ],
             [
              1,
              "#f0f921"
             ]
            ],
            "type": "heatmapgl"
           }
          ],
          "histogram": [
           {
            "marker": {
             "pattern": {
              "fillmode": "overlay",
              "size": 10,
              "solidity": 0.2
             }
            },
            "type": "histogram"
           }
          ],
          "histogram2d": [
           {
            "colorbar": {
             "outlinewidth": 0,
             "ticks": ""
            },
            "colorscale": [
             [
              0,
              "#0d0887"
             ],
             [
              0.1111111111111111,
              "#46039f"
             ],
             [
              0.2222222222222222,
              "#7201a8"
             ],
             [
              0.3333333333333333,
              "#9c179e"
             ],
             [
              0.4444444444444444,
              "#bd3786"
             ],
             [
              0.5555555555555556,
              "#d8576b"
             ],
             [
              0.6666666666666666,
              "#ed7953"
             ],
             [
              0.7777777777777778,
              "#fb9f3a"
             ],
             [
              0.8888888888888888,
              "#fdca26"
             ],
             [
              1,
              "#f0f921"
             ]
            ],
            "type": "histogram2d"
           }
          ],
          "histogram2dcontour": [
           {
            "colorbar": {
             "outlinewidth": 0,
             "ticks": ""
            },
            "colorscale": [
             [
              0,
              "#0d0887"
             ],
             [
              0.1111111111111111,
              "#46039f"
             ],
             [
              0.2222222222222222,
              "#7201a8"
             ],
             [
              0.3333333333333333,
              "#9c179e"
             ],
             [
              0.4444444444444444,
              "#bd3786"
             ],
             [
              0.5555555555555556,
              "#d8576b"
             ],
             [
              0.6666666666666666,
              "#ed7953"
             ],
             [
              0.7777777777777778,
              "#fb9f3a"
             ],
             [
              0.8888888888888888,
              "#fdca26"
             ],
             [
              1,
              "#f0f921"
             ]
            ],
            "type": "histogram2dcontour"
           }
          ],
          "mesh3d": [
           {
            "colorbar": {
             "outlinewidth": 0,
             "ticks": ""
            },
            "type": "mesh3d"
           }
          ],
          "parcoords": [
           {
            "line": {
             "colorbar": {
              "outlinewidth": 0,
              "ticks": ""
             }
            },
            "type": "parcoords"
           }
          ],
          "pie": [
           {
            "automargin": true,
            "type": "pie"
           }
          ],
          "scatter": [
           {
            "fillpattern": {
             "fillmode": "overlay",
             "size": 10,
             "solidity": 0.2
            },
            "type": "scatter"
           }
          ],
          "scatter3d": [
           {
            "line": {
             "colorbar": {
              "outlinewidth": 0,
              "ticks": ""
             }
            },
            "marker": {
             "colorbar": {
              "outlinewidth": 0,
              "ticks": ""
             }
            },
            "type": "scatter3d"
           }
          ],
          "scattercarpet": [
           {
            "marker": {
             "colorbar": {
              "outlinewidth": 0,
              "ticks": ""
             }
            },
            "type": "scattercarpet"
           }
          ],
          "scattergeo": [
           {
            "marker": {
             "colorbar": {
              "outlinewidth": 0,
              "ticks": ""
             }
            },
            "type": "scattergeo"
           }
          ],
          "scattergl": [
           {
            "marker": {
             "colorbar": {
              "outlinewidth": 0,
              "ticks": ""
             }
            },
            "type": "scattergl"
           }
          ],
          "scattermapbox": [
           {
            "marker": {
             "colorbar": {
              "outlinewidth": 0,
              "ticks": ""
             }
            },
            "type": "scattermapbox"
           }
          ],
          "scatterpolar": [
           {
            "marker": {
             "colorbar": {
              "outlinewidth": 0,
              "ticks": ""
             }
            },
            "type": "scatterpolar"
           }
          ],
          "scatterpolargl": [
           {
            "marker": {
             "colorbar": {
              "outlinewidth": 0,
              "ticks": ""
             }
            },
            "type": "scatterpolargl"
           }
          ],
          "scatterternary": [
           {
            "marker": {
             "colorbar": {
              "outlinewidth": 0,
              "ticks": ""
             }
            },
            "type": "scatterternary"
           }
          ],
          "surface": [
           {
            "colorbar": {
             "outlinewidth": 0,
             "ticks": ""
            },
            "colorscale": [
             [
              0,
              "#0d0887"
             ],
             [
              0.1111111111111111,
              "#46039f"
             ],
             [
              0.2222222222222222,
              "#7201a8"
             ],
             [
              0.3333333333333333,
              "#9c179e"
             ],
             [
              0.4444444444444444,
              "#bd3786"
             ],
             [
              0.5555555555555556,
              "#d8576b"
             ],
             [
              0.6666666666666666,
              "#ed7953"
             ],
             [
              0.7777777777777778,
              "#fb9f3a"
             ],
             [
              0.8888888888888888,
              "#fdca26"
             ],
             [
              1,
              "#f0f921"
             ]
            ],
            "type": "surface"
           }
          ],
          "table": [
           {
            "cells": {
             "fill": {
              "color": "#EBF0F8"
             },
             "line": {
              "color": "white"
             }
            },
            "header": {
             "fill": {
              "color": "#C8D4E3"
             },
             "line": {
              "color": "white"
             }
            },
            "type": "table"
           }
          ]
         },
         "layout": {
          "annotationdefaults": {
           "arrowcolor": "#2a3f5f",
           "arrowhead": 0,
           "arrowwidth": 1
          },
          "autotypenumbers": "strict",
          "coloraxis": {
           "colorbar": {
            "outlinewidth": 0,
            "ticks": ""
           }
          },
          "colorscale": {
           "diverging": [
            [
             0,
             "#8e0152"
            ],
            [
             0.1,
             "#c51b7d"
            ],
            [
             0.2,
             "#de77ae"
            ],
            [
             0.3,
             "#f1b6da"
            ],
            [
             0.4,
             "#fde0ef"
            ],
            [
             0.5,
             "#f7f7f7"
            ],
            [
             0.6,
             "#e6f5d0"
            ],
            [
             0.7,
             "#b8e186"
            ],
            [
             0.8,
             "#7fbc41"
            ],
            [
             0.9,
             "#4d9221"
            ],
            [
             1,
             "#276419"
            ]
           ],
           "sequential": [
            [
             0,
             "#0d0887"
            ],
            [
             0.1111111111111111,
             "#46039f"
            ],
            [
             0.2222222222222222,
             "#7201a8"
            ],
            [
             0.3333333333333333,
             "#9c179e"
            ],
            [
             0.4444444444444444,
             "#bd3786"
            ],
            [
             0.5555555555555556,
             "#d8576b"
            ],
            [
             0.6666666666666666,
             "#ed7953"
            ],
            [
             0.7777777777777778,
             "#fb9f3a"
            ],
            [
             0.8888888888888888,
             "#fdca26"
            ],
            [
             1,
             "#f0f921"
            ]
           ],
           "sequentialminus": [
            [
             0,
             "#0d0887"
            ],
            [
             0.1111111111111111,
             "#46039f"
            ],
            [
             0.2222222222222222,
             "#7201a8"
            ],
            [
             0.3333333333333333,
             "#9c179e"
            ],
            [
             0.4444444444444444,
             "#bd3786"
            ],
            [
             0.5555555555555556,
             "#d8576b"
            ],
            [
             0.6666666666666666,
             "#ed7953"
            ],
            [
             0.7777777777777778,
             "#fb9f3a"
            ],
            [
             0.8888888888888888,
             "#fdca26"
            ],
            [
             1,
             "#f0f921"
            ]
           ]
          },
          "colorway": [
           "#636efa",
           "#EF553B",
           "#00cc96",
           "#ab63fa",
           "#FFA15A",
           "#19d3f3",
           "#FF6692",
           "#B6E880",
           "#FF97FF",
           "#FECB52"
          ],
          "font": {
           "color": "#2a3f5f"
          },
          "geo": {
           "bgcolor": "white",
           "lakecolor": "white",
           "landcolor": "#E5ECF6",
           "showlakes": true,
           "showland": true,
           "subunitcolor": "white"
          },
          "hoverlabel": {
           "align": "left"
          },
          "hovermode": "closest",
          "mapbox": {
           "style": "light"
          },
          "paper_bgcolor": "white",
          "plot_bgcolor": "#E5ECF6",
          "polar": {
           "angularaxis": {
            "gridcolor": "white",
            "linecolor": "white",
            "ticks": ""
           },
           "bgcolor": "#E5ECF6",
           "radialaxis": {
            "gridcolor": "white",
            "linecolor": "white",
            "ticks": ""
           }
          },
          "scene": {
           "xaxis": {
            "backgroundcolor": "#E5ECF6",
            "gridcolor": "white",
            "gridwidth": 2,
            "linecolor": "white",
            "showbackground": true,
            "ticks": "",
            "zerolinecolor": "white"
           },
           "yaxis": {
            "backgroundcolor": "#E5ECF6",
            "gridcolor": "white",
            "gridwidth": 2,
            "linecolor": "white",
            "showbackground": true,
            "ticks": "",
            "zerolinecolor": "white"
           },
           "zaxis": {
            "backgroundcolor": "#E5ECF6",
            "gridcolor": "white",
            "gridwidth": 2,
            "linecolor": "white",
            "showbackground": true,
            "ticks": "",
            "zerolinecolor": "white"
           }
          },
          "shapedefaults": {
           "line": {
            "color": "#2a3f5f"
           }
          },
          "ternary": {
           "aaxis": {
            "gridcolor": "white",
            "linecolor": "white",
            "ticks": ""
           },
           "baxis": {
            "gridcolor": "white",
            "linecolor": "white",
            "ticks": ""
           },
           "bgcolor": "#E5ECF6",
           "caxis": {
            "gridcolor": "white",
            "linecolor": "white",
            "ticks": ""
           }
          },
          "title": {
           "x": 0.05
          },
          "xaxis": {
           "automargin": true,
           "gridcolor": "white",
           "linecolor": "white",
           "ticks": "",
           "title": {
            "standoff": 15
           },
           "zerolinecolor": "white",
           "zerolinewidth": 2
          },
          "yaxis": {
           "automargin": true,
           "gridcolor": "white",
           "linecolor": "white",
           "ticks": "",
           "title": {
            "standoff": 15
           },
           "zerolinecolor": "white",
           "zerolinewidth": 2
          }
         }
        },
        "title": {
         "text": "Películas Más Antiguas"
        }
       }
      }
     },
     "metadata": {},
     "output_type": "display_data"
    }
   ],
   "source": [
    "peliculas_antiguas= df.sort_values(by='year')[0:10]\n",
    "\n",
    "fig = go.Figure(data=[go.Table(header=dict(values=['Nombre de la Película', 'Año de Lanzamiento'],fill_color='lightgreen'),\n",
    "                 cells=dict(values=[peliculas_antiguas['name'],peliculas_antiguas['year']]))\n",
    "                     ])\n",
    "fig.update_layout(title_text='Películas Más Antiguas')\n",
    "fig.show()"
   ]
  },
  {
   "cell_type": "markdown",
   "metadata": {},
   "source": [
    "- Gráfico de tabla que proporciona una visualización clara de las 10 películas más recientes, mostrando su nombre y año de lanzamiento."
   ]
  },
  {
   "cell_type": "code",
   "execution_count": 44,
   "metadata": {},
   "outputs": [
    {
     "data": {
      "application/vnd.plotly.v1+json": {
       "config": {
        "plotlyServerURL": "https://plot.ly"
       },
       "data": [
        {
         "cells": {
          "values": [
           [
            "Top Gun: Maverick",
            "Spider-Man: No Way Home",
            "Jai Bhim",
            "The Father",
            "Hamilton",
            "1917",
            "Parasite",
            "Ford v Ferrari",
            "Avengers: Endgame",
            "Klaus"
           ],
           [
            2022,
            2021,
            2021,
            2020,
            2020,
            2019,
            2019,
            2019,
            2019,
            2019
           ]
          ]
         },
         "header": {
          "fill": {
           "color": "lightgreen"
          },
          "values": [
           "Nombre de la Película",
           "Año de Lazamiento"
          ]
         },
         "type": "table"
        }
       ],
       "layout": {
        "template": {
         "data": {
          "bar": [
           {
            "error_x": {
             "color": "#2a3f5f"
            },
            "error_y": {
             "color": "#2a3f5f"
            },
            "marker": {
             "line": {
              "color": "#E5ECF6",
              "width": 0.5
             },
             "pattern": {
              "fillmode": "overlay",
              "size": 10,
              "solidity": 0.2
             }
            },
            "type": "bar"
           }
          ],
          "barpolar": [
           {
            "marker": {
             "line": {
              "color": "#E5ECF6",
              "width": 0.5
             },
             "pattern": {
              "fillmode": "overlay",
              "size": 10,
              "solidity": 0.2
             }
            },
            "type": "barpolar"
           }
          ],
          "carpet": [
           {
            "aaxis": {
             "endlinecolor": "#2a3f5f",
             "gridcolor": "white",
             "linecolor": "white",
             "minorgridcolor": "white",
             "startlinecolor": "#2a3f5f"
            },
            "baxis": {
             "endlinecolor": "#2a3f5f",
             "gridcolor": "white",
             "linecolor": "white",
             "minorgridcolor": "white",
             "startlinecolor": "#2a3f5f"
            },
            "type": "carpet"
           }
          ],
          "choropleth": [
           {
            "colorbar": {
             "outlinewidth": 0,
             "ticks": ""
            },
            "type": "choropleth"
           }
          ],
          "contour": [
           {
            "colorbar": {
             "outlinewidth": 0,
             "ticks": ""
            },
            "colorscale": [
             [
              0,
              "#0d0887"
             ],
             [
              0.1111111111111111,
              "#46039f"
             ],
             [
              0.2222222222222222,
              "#7201a8"
             ],
             [
              0.3333333333333333,
              "#9c179e"
             ],
             [
              0.4444444444444444,
              "#bd3786"
             ],
             [
              0.5555555555555556,
              "#d8576b"
             ],
             [
              0.6666666666666666,
              "#ed7953"
             ],
             [
              0.7777777777777778,
              "#fb9f3a"
             ],
             [
              0.8888888888888888,
              "#fdca26"
             ],
             [
              1,
              "#f0f921"
             ]
            ],
            "type": "contour"
           }
          ],
          "contourcarpet": [
           {
            "colorbar": {
             "outlinewidth": 0,
             "ticks": ""
            },
            "type": "contourcarpet"
           }
          ],
          "heatmap": [
           {
            "colorbar": {
             "outlinewidth": 0,
             "ticks": ""
            },
            "colorscale": [
             [
              0,
              "#0d0887"
             ],
             [
              0.1111111111111111,
              "#46039f"
             ],
             [
              0.2222222222222222,
              "#7201a8"
             ],
             [
              0.3333333333333333,
              "#9c179e"
             ],
             [
              0.4444444444444444,
              "#bd3786"
             ],
             [
              0.5555555555555556,
              "#d8576b"
             ],
             [
              0.6666666666666666,
              "#ed7953"
             ],
             [
              0.7777777777777778,
              "#fb9f3a"
             ],
             [
              0.8888888888888888,
              "#fdca26"
             ],
             [
              1,
              "#f0f921"
             ]
            ],
            "type": "heatmap"
           }
          ],
          "heatmapgl": [
           {
            "colorbar": {
             "outlinewidth": 0,
             "ticks": ""
            },
            "colorscale": [
             [
              0,
              "#0d0887"
             ],
             [
              0.1111111111111111,
              "#46039f"
             ],
             [
              0.2222222222222222,
              "#7201a8"
             ],
             [
              0.3333333333333333,
              "#9c179e"
             ],
             [
              0.4444444444444444,
              "#bd3786"
             ],
             [
              0.5555555555555556,
              "#d8576b"
             ],
             [
              0.6666666666666666,
              "#ed7953"
             ],
             [
              0.7777777777777778,
              "#fb9f3a"
             ],
             [
              0.8888888888888888,
              "#fdca26"
             ],
             [
              1,
              "#f0f921"
             ]
            ],
            "type": "heatmapgl"
           }
          ],
          "histogram": [
           {
            "marker": {
             "pattern": {
              "fillmode": "overlay",
              "size": 10,
              "solidity": 0.2
             }
            },
            "type": "histogram"
           }
          ],
          "histogram2d": [
           {
            "colorbar": {
             "outlinewidth": 0,
             "ticks": ""
            },
            "colorscale": [
             [
              0,
              "#0d0887"
             ],
             [
              0.1111111111111111,
              "#46039f"
             ],
             [
              0.2222222222222222,
              "#7201a8"
             ],
             [
              0.3333333333333333,
              "#9c179e"
             ],
             [
              0.4444444444444444,
              "#bd3786"
             ],
             [
              0.5555555555555556,
              "#d8576b"
             ],
             [
              0.6666666666666666,
              "#ed7953"
             ],
             [
              0.7777777777777778,
              "#fb9f3a"
             ],
             [
              0.8888888888888888,
              "#fdca26"
             ],
             [
              1,
              "#f0f921"
             ]
            ],
            "type": "histogram2d"
           }
          ],
          "histogram2dcontour": [
           {
            "colorbar": {
             "outlinewidth": 0,
             "ticks": ""
            },
            "colorscale": [
             [
              0,
              "#0d0887"
             ],
             [
              0.1111111111111111,
              "#46039f"
             ],
             [
              0.2222222222222222,
              "#7201a8"
             ],
             [
              0.3333333333333333,
              "#9c179e"
             ],
             [
              0.4444444444444444,
              "#bd3786"
             ],
             [
              0.5555555555555556,
              "#d8576b"
             ],
             [
              0.6666666666666666,
              "#ed7953"
             ],
             [
              0.7777777777777778,
              "#fb9f3a"
             ],
             [
              0.8888888888888888,
              "#fdca26"
             ],
             [
              1,
              "#f0f921"
             ]
            ],
            "type": "histogram2dcontour"
           }
          ],
          "mesh3d": [
           {
            "colorbar": {
             "outlinewidth": 0,
             "ticks": ""
            },
            "type": "mesh3d"
           }
          ],
          "parcoords": [
           {
            "line": {
             "colorbar": {
              "outlinewidth": 0,
              "ticks": ""
             }
            },
            "type": "parcoords"
           }
          ],
          "pie": [
           {
            "automargin": true,
            "type": "pie"
           }
          ],
          "scatter": [
           {
            "fillpattern": {
             "fillmode": "overlay",
             "size": 10,
             "solidity": 0.2
            },
            "type": "scatter"
           }
          ],
          "scatter3d": [
           {
            "line": {
             "colorbar": {
              "outlinewidth": 0,
              "ticks": ""
             }
            },
            "marker": {
             "colorbar": {
              "outlinewidth": 0,
              "ticks": ""
             }
            },
            "type": "scatter3d"
           }
          ],
          "scattercarpet": [
           {
            "marker": {
             "colorbar": {
              "outlinewidth": 0,
              "ticks": ""
             }
            },
            "type": "scattercarpet"
           }
          ],
          "scattergeo": [
           {
            "marker": {
             "colorbar": {
              "outlinewidth": 0,
              "ticks": ""
             }
            },
            "type": "scattergeo"
           }
          ],
          "scattergl": [
           {
            "marker": {
             "colorbar": {
              "outlinewidth": 0,
              "ticks": ""
             }
            },
            "type": "scattergl"
           }
          ],
          "scattermapbox": [
           {
            "marker": {
             "colorbar": {
              "outlinewidth": 0,
              "ticks": ""
             }
            },
            "type": "scattermapbox"
           }
          ],
          "scatterpolar": [
           {
            "marker": {
             "colorbar": {
              "outlinewidth": 0,
              "ticks": ""
             }
            },
            "type": "scatterpolar"
           }
          ],
          "scatterpolargl": [
           {
            "marker": {
             "colorbar": {
              "outlinewidth": 0,
              "ticks": ""
             }
            },
            "type": "scatterpolargl"
           }
          ],
          "scatterternary": [
           {
            "marker": {
             "colorbar": {
              "outlinewidth": 0,
              "ticks": ""
             }
            },
            "type": "scatterternary"
           }
          ],
          "surface": [
           {
            "colorbar": {
             "outlinewidth": 0,
             "ticks": ""
            },
            "colorscale": [
             [
              0,
              "#0d0887"
             ],
             [
              0.1111111111111111,
              "#46039f"
             ],
             [
              0.2222222222222222,
              "#7201a8"
             ],
             [
              0.3333333333333333,
              "#9c179e"
             ],
             [
              0.4444444444444444,
              "#bd3786"
             ],
             [
              0.5555555555555556,
              "#d8576b"
             ],
             [
              0.6666666666666666,
              "#ed7953"
             ],
             [
              0.7777777777777778,
              "#fb9f3a"
             ],
             [
              0.8888888888888888,
              "#fdca26"
             ],
             [
              1,
              "#f0f921"
             ]
            ],
            "type": "surface"
           }
          ],
          "table": [
           {
            "cells": {
             "fill": {
              "color": "#EBF0F8"
             },
             "line": {
              "color": "white"
             }
            },
            "header": {
             "fill": {
              "color": "#C8D4E3"
             },
             "line": {
              "color": "white"
             }
            },
            "type": "table"
           }
          ]
         },
         "layout": {
          "annotationdefaults": {
           "arrowcolor": "#2a3f5f",
           "arrowhead": 0,
           "arrowwidth": 1
          },
          "autotypenumbers": "strict",
          "coloraxis": {
           "colorbar": {
            "outlinewidth": 0,
            "ticks": ""
           }
          },
          "colorscale": {
           "diverging": [
            [
             0,
             "#8e0152"
            ],
            [
             0.1,
             "#c51b7d"
            ],
            [
             0.2,
             "#de77ae"
            ],
            [
             0.3,
             "#f1b6da"
            ],
            [
             0.4,
             "#fde0ef"
            ],
            [
             0.5,
             "#f7f7f7"
            ],
            [
             0.6,
             "#e6f5d0"
            ],
            [
             0.7,
             "#b8e186"
            ],
            [
             0.8,
             "#7fbc41"
            ],
            [
             0.9,
             "#4d9221"
            ],
            [
             1,
             "#276419"
            ]
           ],
           "sequential": [
            [
             0,
             "#0d0887"
            ],
            [
             0.1111111111111111,
             "#46039f"
            ],
            [
             0.2222222222222222,
             "#7201a8"
            ],
            [
             0.3333333333333333,
             "#9c179e"
            ],
            [
             0.4444444444444444,
             "#bd3786"
            ],
            [
             0.5555555555555556,
             "#d8576b"
            ],
            [
             0.6666666666666666,
             "#ed7953"
            ],
            [
             0.7777777777777778,
             "#fb9f3a"
            ],
            [
             0.8888888888888888,
             "#fdca26"
            ],
            [
             1,
             "#f0f921"
            ]
           ],
           "sequentialminus": [
            [
             0,
             "#0d0887"
            ],
            [
             0.1111111111111111,
             "#46039f"
            ],
            [
             0.2222222222222222,
             "#7201a8"
            ],
            [
             0.3333333333333333,
             "#9c179e"
            ],
            [
             0.4444444444444444,
             "#bd3786"
            ],
            [
             0.5555555555555556,
             "#d8576b"
            ],
            [
             0.6666666666666666,
             "#ed7953"
            ],
            [
             0.7777777777777778,
             "#fb9f3a"
            ],
            [
             0.8888888888888888,
             "#fdca26"
            ],
            [
             1,
             "#f0f921"
            ]
           ]
          },
          "colorway": [
           "#636efa",
           "#EF553B",
           "#00cc96",
           "#ab63fa",
           "#FFA15A",
           "#19d3f3",
           "#FF6692",
           "#B6E880",
           "#FF97FF",
           "#FECB52"
          ],
          "font": {
           "color": "#2a3f5f"
          },
          "geo": {
           "bgcolor": "white",
           "lakecolor": "white",
           "landcolor": "#E5ECF6",
           "showlakes": true,
           "showland": true,
           "subunitcolor": "white"
          },
          "hoverlabel": {
           "align": "left"
          },
          "hovermode": "closest",
          "mapbox": {
           "style": "light"
          },
          "paper_bgcolor": "white",
          "plot_bgcolor": "#E5ECF6",
          "polar": {
           "angularaxis": {
            "gridcolor": "white",
            "linecolor": "white",
            "ticks": ""
           },
           "bgcolor": "#E5ECF6",
           "radialaxis": {
            "gridcolor": "white",
            "linecolor": "white",
            "ticks": ""
           }
          },
          "scene": {
           "xaxis": {
            "backgroundcolor": "#E5ECF6",
            "gridcolor": "white",
            "gridwidth": 2,
            "linecolor": "white",
            "showbackground": true,
            "ticks": "",
            "zerolinecolor": "white"
           },
           "yaxis": {
            "backgroundcolor": "#E5ECF6",
            "gridcolor": "white",
            "gridwidth": 2,
            "linecolor": "white",
            "showbackground": true,
            "ticks": "",
            "zerolinecolor": "white"
           },
           "zaxis": {
            "backgroundcolor": "#E5ECF6",
            "gridcolor": "white",
            "gridwidth": 2,
            "linecolor": "white",
            "showbackground": true,
            "ticks": "",
            "zerolinecolor": "white"
           }
          },
          "shapedefaults": {
           "line": {
            "color": "#2a3f5f"
           }
          },
          "ternary": {
           "aaxis": {
            "gridcolor": "white",
            "linecolor": "white",
            "ticks": ""
           },
           "baxis": {
            "gridcolor": "white",
            "linecolor": "white",
            "ticks": ""
           },
           "bgcolor": "#E5ECF6",
           "caxis": {
            "gridcolor": "white",
            "linecolor": "white",
            "ticks": ""
           }
          },
          "title": {
           "x": 0.05
          },
          "xaxis": {
           "automargin": true,
           "gridcolor": "white",
           "linecolor": "white",
           "ticks": "",
           "title": {
            "standoff": 15
           },
           "zerolinecolor": "white",
           "zerolinewidth": 2
          },
          "yaxis": {
           "automargin": true,
           "gridcolor": "white",
           "linecolor": "white",
           "ticks": "",
           "title": {
            "standoff": 15
           },
           "zerolinecolor": "white",
           "zerolinewidth": 2
          }
         }
        },
        "title": {
         "text": "Películas Más Recientes"
        }
       }
      }
     },
     "metadata": {},
     "output_type": "display_data"
    }
   ],
   "source": [
    "peliculas_recientes=df.sort_values(by='year', ascending=False)[0:10]\n",
    "fig = go.Figure(data=[go.Table(header=dict(values=['Nombre de la Película', 'Año de Lazamiento'], fill_color='lightgreen'),\n",
    "                 cells=dict(values=[peliculas_recientes['name'],peliculas_recientes['year']]))\n",
    "                     ])\n",
    "fig.update_layout(title_text='Películas Más Recientes')\n",
    "fig.show()"
   ]
  },
  {
   "cell_type": "markdown",
   "metadata": {},
   "source": [
    "- Nube de palabras para visualizar de manera efectiva los géneros de películas más frecuentes en el conjunto de datos."
   ]
  },
  {
   "cell_type": "code",
   "execution_count": 45,
   "metadata": {},
   "outputs": [
    {
     "data": {
      "image/png": "[encoded data removed]",
      "text/plain": [
       "<Figure size 1600x800 with 1 Axes>"
      ]
     },
     "metadata": {},
     "output_type": "display_data"
    }
   ],
   "source": [
    "# Concatenar todos los géneros en una cadena\n",
    "all_genres = \" \".join(token for token in df[\"genre\"])\n",
    "\n",
    "# Crear la nube de palabras\n",
    "wordcloud = WordCloud(stopwords=stopwords_wc,\n",
    "                      max_words=1500,\n",
    "                      max_font_size=350, random_state=42,\n",
    "                      width=2000, height=1000,\n",
    "                      colormap=\"viridis\",\n",
    "                      contour_color='steelblue')\n",
    "wordcloud.generate(all_genres)\n",
    "\n",
    "\n",
    "plt.figure(figsize=(16, 8))\n",
    "plt.imshow(wordcloud, interpolation='bilinear')\n",
    "plt.axis(\"off\")\n",
    "plt.show()"
   ]
  },
  {
   "cell_type": "markdown",
   "metadata": {},
   "source": [
    "- Verificamos la cantidad de películas para cada certificado en el DataFrame y añadimos un diccionarios que nos indica a qué se refiere cada certificado."
   ]
  },
  {
   "cell_type": "code",
   "execution_count": 46,
   "metadata": {},
   "outputs": [
    {
     "data": {
      "text/plain": [
       "certificate\n",
       "R                97\n",
       "PG               37\n",
       "PG-13            35\n",
       "Not Rated        24\n",
       "G                19\n",
       "Passed           16\n",
       "Approved         14\n",
       "18+               1\n",
       "Not Available     1\n",
       "TV-PG             1\n",
       "Unrated           1\n",
       "X                 1\n",
       "13+               1\n",
       "TV-MA             1\n",
       "GP                1\n",
       "Name: count, dtype: int64"
      ]
     },
     "execution_count": 46,
     "metadata": {},
     "output_type": "execute_result"
    }
   ],
   "source": [
    "certificate_counts = df['certificate'].value_counts()\n",
    "certificate_counts"
   ]
  },
  {
   "cell_type": "markdown",
   "metadata": {},
   "source": [
    "### **Conclusión**"
   ]
  },
  {
   "cell_type": "markdown",
   "metadata": {},
   "source": [
    "- La exploración de 'IMDB Top 250 Movies' destaca la diversidad y atemporalidad del cine. La presencia de diversos géneros, directores y años refleja la riqueza de la industria. Desde clásicos hasta películas contemporáneas, la lista demuestra que la calidad cinematográfica trasciende las décadas, ofreciendo una mirada fascinante a través del tiempo."
   ]
  }
 ],
 "metadata": {
  "kernelspec": {
   "display_name": "Python 3",
   "language": "python",
   "name": "python3"
  },
  "language_info": {
   "codemirror_mode": {
    "name": "ipython",
    "version": 3
   },
   "file_extension": ".py",
   "mimetype": "text/x-python",
   "name": "python",
   "nbconvert_exporter": "python",
   "pygments_lexer": "ipython3",
   "version": "3.10.11"
  }
 },
 "nbformat": 4,
 "nbformat_minor": 2
}
